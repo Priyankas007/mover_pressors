{
 "cells": [
  {
   "cell_type": "code",
   "execution_count": 150,
   "id": "fd6bbf5d",
   "metadata": {},
   "outputs": [],
   "source": [
    "import pandas as pd\n",
    "from os import path\n",
    "import csv\n",
    "import os\n",
    "import matplotlib.pyplot as plt\n",
    "import seaborn as sns\n",
    "import numpy as np"
   ]
  },
  {
   "cell_type": "code",
   "execution_count": 3,
   "id": "94bf7dec",
   "metadata": {},
   "outputs": [],
   "source": [
    "filepath = '/scratch/users/shrestp/mover/EPIC_flowsheets_cleaned_filtered/MAP.csv'\n",
    "df_map = pd.read_csv(filepath, index_col=0)\n",
    "df_map = df_map.drop_duplicates()"
   ]
  },
  {
   "cell_type": "code",
   "execution_count": 4,
   "id": "a3165968",
   "metadata": {},
   "outputs": [
    {
     "name": "stdout",
     "output_type": "stream",
     "text": [
      "/scratch/users/shrestp/mover/EPIC_EMR/EPIC_EMR/EMR\n"
     ]
    }
   ],
   "source": [
    "cd '/scratch/users/shrestp/mover/EPIC_EMR/EPIC_EMR/EMR/'"
   ]
  },
  {
   "cell_type": "code",
   "execution_count": 5,
   "id": "f6a0d751",
   "metadata": {},
   "outputs": [
    {
     "name": "stdout",
     "output_type": "stream",
     "text": [
      "\u001b[0m\u001b[01;32mpatient_coding.csv\u001b[0m*       \u001b[01;32mpatient_medications.csv\u001b[0m*\r\n",
      "\u001b[01;32mpatient_history.csv\u001b[0m*      \u001b[01;32mpatient_post_op_complications.csv\u001b[0m*\r\n",
      "\u001b[01;32mpatient_information.csv\u001b[0m*  \u001b[01;32mpatient_procedure events.csv\u001b[0m*\r\n",
      "\u001b[01;32mpatient_labs.csv\u001b[0m*         \u001b[01;32mpatient_visit.csv\u001b[0m*\r\n",
      "\u001b[01;32mpatient_lda.csv\u001b[0m*          pressor_patient_meds.csv\r\n"
     ]
    }
   ],
   "source": [
    "ls"
   ]
  },
  {
   "cell_type": "code",
   "execution_count": 6,
   "id": "cc6b83ec",
   "metadata": {},
   "outputs": [],
   "source": [
    "filepath = '/scratch/users/shrestp/mover/EPIC_EMR/EPIC_EMR/EMR/pressor_patient_meds.csv'\n",
    "df_meds = pd.read_csv(filepath, index_col=0)\n",
    "df_meds = df_meds.drop_duplicates()"
   ]
  },
  {
   "cell_type": "code",
   "execution_count": 7,
   "id": "97be928b",
   "metadata": {},
   "outputs": [
    {
     "data": {
      "text/html": [
       "<div>\n",
       "<style scoped>\n",
       "    .dataframe tbody tr th:only-of-type {\n",
       "        vertical-align: middle;\n",
       "    }\n",
       "\n",
       "    .dataframe tbody tr th {\n",
       "        vertical-align: top;\n",
       "    }\n",
       "\n",
       "    .dataframe thead th {\n",
       "        text-align: right;\n",
       "    }\n",
       "</style>\n",
       "<table border=\"1\" class=\"dataframe\">\n",
       "  <thead>\n",
       "    <tr style=\"text-align: right;\">\n",
       "      <th></th>\n",
       "      <th>LOG_ID</th>\n",
       "      <th>MRN</th>\n",
       "      <th>FLO_NAME</th>\n",
       "      <th>FLO_DISPLAY_NAME</th>\n",
       "      <th>RECORD_TYPE</th>\n",
       "      <th>RECORDED_TIME</th>\n",
       "      <th>MEAS_VALUE</th>\n",
       "      <th>UNITS</th>\n",
       "    </tr>\n",
       "    <tr>\n",
       "      <th>Unnamed: 0</th>\n",
       "      <th></th>\n",
       "      <th></th>\n",
       "      <th></th>\n",
       "      <th></th>\n",
       "      <th></th>\n",
       "      <th></th>\n",
       "      <th></th>\n",
       "      <th></th>\n",
       "    </tr>\n",
       "  </thead>\n",
       "  <tbody>\n",
       "    <tr>\n",
       "      <th>5</th>\n",
       "      <td>d586108388315523</td>\n",
       "      <td>4c482e1b3ab4127a</td>\n",
       "      <td>Vital Signs</td>\n",
       "      <td>MAP (mmHg)</td>\n",
       "      <td>POST-OP</td>\n",
       "      <td>2019-10-18 00:00:00</td>\n",
       "      <td>77.0</td>\n",
       "      <td>NaN</td>\n",
       "    </tr>\n",
       "    <tr>\n",
       "      <th>69</th>\n",
       "      <td>e01cb2c5f9ca0f83</td>\n",
       "      <td>f0fc2f475e6141f7</td>\n",
       "      <td>Vital Signs</td>\n",
       "      <td>MAP (mmHg)</td>\n",
       "      <td>POST-OP</td>\n",
       "      <td>2019-02-12 00:00:00</td>\n",
       "      <td>83.0</td>\n",
       "      <td>NaN</td>\n",
       "    </tr>\n",
       "    <tr>\n",
       "      <th>91</th>\n",
       "      <td>f3ad6778179e0ae1</td>\n",
       "      <td>56e93c2f2c1e9351</td>\n",
       "      <td>Vital Signs</td>\n",
       "      <td>MAP (mmHg)</td>\n",
       "      <td>POST-OP</td>\n",
       "      <td>2019-04-04 00:00:00</td>\n",
       "      <td>77.0</td>\n",
       "      <td>NaN</td>\n",
       "    </tr>\n",
       "    <tr>\n",
       "      <th>136</th>\n",
       "      <td>0e343e3fb908dc39</td>\n",
       "      <td>2b0c1b8c911861b9</td>\n",
       "      <td>Vital Signs</td>\n",
       "      <td>MAP (mmHg)</td>\n",
       "      <td>POST-OP</td>\n",
       "      <td>2018-12-01 00:00:00</td>\n",
       "      <td>116.0</td>\n",
       "      <td>NaN</td>\n",
       "    </tr>\n",
       "    <tr>\n",
       "      <th>157</th>\n",
       "      <td>d4daafc3a6802ca0</td>\n",
       "      <td>4d0311a2de662c9e</td>\n",
       "      <td>Vital Signs</td>\n",
       "      <td>MAP (mmHg)</td>\n",
       "      <td>POST-OP</td>\n",
       "      <td>2019-08-14 00:00:00</td>\n",
       "      <td>83.0</td>\n",
       "      <td>NaN</td>\n",
       "    </tr>\n",
       "    <tr>\n",
       "      <th>...</th>\n",
       "      <td>...</td>\n",
       "      <td>...</td>\n",
       "      <td>...</td>\n",
       "      <td>...</td>\n",
       "      <td>...</td>\n",
       "      <td>...</td>\n",
       "      <td>...</td>\n",
       "      <td>...</td>\n",
       "    </tr>\n",
       "    <tr>\n",
       "      <th>56958717</th>\n",
       "      <td>fa9ba3b7668ebe1e</td>\n",
       "      <td>0572634629befc15</td>\n",
       "      <td>Dialysis Vitals and Treatment</td>\n",
       "      <td>MAP (mmHg)</td>\n",
       "      <td>POST-OP</td>\n",
       "      <td>2022-06-29 08:45:00</td>\n",
       "      <td>69.0</td>\n",
       "      <td>NaN</td>\n",
       "    </tr>\n",
       "    <tr>\n",
       "      <th>56958785</th>\n",
       "      <td>1c97a64ebc54b19e</td>\n",
       "      <td>0572634629befc15</td>\n",
       "      <td>Dialysis Vitals and Treatment</td>\n",
       "      <td>MAP (mmHg)</td>\n",
       "      <td>POST-OP</td>\n",
       "      <td>2022-06-29 08:30:00</td>\n",
       "      <td>79.0</td>\n",
       "      <td>NaN</td>\n",
       "    </tr>\n",
       "    <tr>\n",
       "      <th>56958789</th>\n",
       "      <td>fa9ba3b7668ebe1e</td>\n",
       "      <td>0572634629befc15</td>\n",
       "      <td>Dialysis Vitals and Treatment</td>\n",
       "      <td>MAP (mmHg)</td>\n",
       "      <td>POST-OP</td>\n",
       "      <td>2022-06-29 08:30:00</td>\n",
       "      <td>79.0</td>\n",
       "      <td>NaN</td>\n",
       "    </tr>\n",
       "    <tr>\n",
       "      <th>56958817</th>\n",
       "      <td>1c97a64ebc54b19e</td>\n",
       "      <td>0572634629befc15</td>\n",
       "      <td>Dialysis Vitals and Treatment</td>\n",
       "      <td>MAP (mmHg)</td>\n",
       "      <td>POST-OP</td>\n",
       "      <td>2022-06-29 08:34:00</td>\n",
       "      <td>70.0</td>\n",
       "      <td>NaN</td>\n",
       "    </tr>\n",
       "    <tr>\n",
       "      <th>56958821</th>\n",
       "      <td>fa9ba3b7668ebe1e</td>\n",
       "      <td>0572634629befc15</td>\n",
       "      <td>Dialysis Vitals and Treatment</td>\n",
       "      <td>MAP (mmHg)</td>\n",
       "      <td>POST-OP</td>\n",
       "      <td>2022-06-29 08:34:00</td>\n",
       "      <td>70.0</td>\n",
       "      <td>NaN</td>\n",
       "    </tr>\n",
       "  </tbody>\n",
       "</table>\n",
       "<p>1559441 rows × 8 columns</p>\n",
       "</div>"
      ],
      "text/plain": [
       "                      LOG_ID               MRN                       FLO_NAME  \\\n",
       "Unnamed: 0                                                                      \n",
       "5           d586108388315523  4c482e1b3ab4127a                   Vital Signs    \n",
       "69          e01cb2c5f9ca0f83  f0fc2f475e6141f7                   Vital Signs    \n",
       "91          f3ad6778179e0ae1  56e93c2f2c1e9351                   Vital Signs    \n",
       "136         0e343e3fb908dc39  2b0c1b8c911861b9                   Vital Signs    \n",
       "157         d4daafc3a6802ca0  4d0311a2de662c9e                   Vital Signs    \n",
       "...                      ...               ...                            ...   \n",
       "56958717    fa9ba3b7668ebe1e  0572634629befc15  Dialysis Vitals and Treatment   \n",
       "56958785    1c97a64ebc54b19e  0572634629befc15  Dialysis Vitals and Treatment   \n",
       "56958789    fa9ba3b7668ebe1e  0572634629befc15  Dialysis Vitals and Treatment   \n",
       "56958817    1c97a64ebc54b19e  0572634629befc15  Dialysis Vitals and Treatment   \n",
       "56958821    fa9ba3b7668ebe1e  0572634629befc15  Dialysis Vitals and Treatment   \n",
       "\n",
       "           FLO_DISPLAY_NAME RECORD_TYPE        RECORDED_TIME  MEAS_VALUE  \\\n",
       "Unnamed: 0                                                                 \n",
       "5                MAP (mmHg)     POST-OP  2019-10-18 00:00:00        77.0   \n",
       "69               MAP (mmHg)     POST-OP  2019-02-12 00:00:00        83.0   \n",
       "91               MAP (mmHg)     POST-OP  2019-04-04 00:00:00        77.0   \n",
       "136              MAP (mmHg)     POST-OP  2018-12-01 00:00:00       116.0   \n",
       "157              MAP (mmHg)     POST-OP  2019-08-14 00:00:00        83.0   \n",
       "...                     ...         ...                  ...         ...   \n",
       "56958717         MAP (mmHg)     POST-OP  2022-06-29 08:45:00        69.0   \n",
       "56958785         MAP (mmHg)     POST-OP  2022-06-29 08:30:00        79.0   \n",
       "56958789         MAP (mmHg)     POST-OP  2022-06-29 08:30:00        79.0   \n",
       "56958817         MAP (mmHg)     POST-OP  2022-06-29 08:34:00        70.0   \n",
       "56958821         MAP (mmHg)     POST-OP  2022-06-29 08:34:00        70.0   \n",
       "\n",
       "            UNITS  \n",
       "Unnamed: 0         \n",
       "5             NaN  \n",
       "69            NaN  \n",
       "91            NaN  \n",
       "136           NaN  \n",
       "157           NaN  \n",
       "...           ...  \n",
       "56958717      NaN  \n",
       "56958785      NaN  \n",
       "56958789      NaN  \n",
       "56958817      NaN  \n",
       "56958821      NaN  \n",
       "\n",
       "[1559441 rows x 8 columns]"
      ]
     },
     "execution_count": 7,
     "metadata": {},
     "output_type": "execute_result"
    }
   ],
   "source": [
    "df_map"
   ]
  },
  {
   "cell_type": "code",
   "execution_count": 8,
   "id": "406a8e6e",
   "metadata": {},
   "outputs": [
    {
     "data": {
      "text/plain": [
       "20073"
      ]
     },
     "execution_count": 8,
     "metadata": {},
     "output_type": "execute_result"
    }
   ],
   "source": [
    "df_map['MRN'].nunique()"
   ]
  },
  {
   "cell_type": "code",
   "execution_count": 9,
   "id": "422a7e0d",
   "metadata": {},
   "outputs": [
    {
     "data": {
      "text/plain": [
       "2983"
      ]
     },
     "execution_count": 9,
     "metadata": {},
     "output_type": "execute_result"
    }
   ],
   "source": [
    "df_meds['MRN'].nunique()"
   ]
  },
  {
   "cell_type": "code",
   "execution_count": 10,
   "id": "cfebe001",
   "metadata": {},
   "outputs": [],
   "source": [
    "map_MRNs = set(df_map['MRN'])"
   ]
  },
  {
   "cell_type": "code",
   "execution_count": 16,
   "id": "038e663c",
   "metadata": {},
   "outputs": [],
   "source": [
    "viable_mrns = list(set(df_map['MRN']).intersection(set(df_meds['MRN'])))"
   ]
  },
  {
   "cell_type": "code",
   "execution_count": 19,
   "id": "5a312f69",
   "metadata": {},
   "outputs": [],
   "source": [
    "df_map = df_map[df_map['MRN'].isin(viable_mrns)]"
   ]
  },
  {
   "cell_type": "code",
   "execution_count": 104,
   "id": "c15a4331",
   "metadata": {},
   "outputs": [],
   "source": [
    "order_times = list(set(df_map['RECORDED_TIME']).intersection(set(df_meds['ORDERING_DATE'])))"
   ]
  },
  {
   "cell_type": "code",
   "execution_count": 106,
   "id": "1c7d37c3",
   "metadata": {},
   "outputs": [
    {
     "data": {
      "text/plain": [
       "1381"
      ]
     },
     "execution_count": 106,
     "metadata": {},
     "output_type": "execute_result"
    }
   ],
   "source": [
    "len(order_times)"
   ]
  },
  {
   "cell_type": "code",
   "execution_count": 111,
   "id": "72eec9c1",
   "metadata": {},
   "outputs": [],
   "source": [
    "action_times = list(set(df_map['RECORDED_TIME']).intersection(set(df_meds['MED_ACTION_TIME'])))"
   ]
  },
  {
   "cell_type": "code",
   "execution_count": 112,
   "id": "d2f9c76e",
   "metadata": {},
   "outputs": [
    {
     "data": {
      "text/plain": [
       "40163"
      ]
     },
     "execution_count": 112,
     "metadata": {},
     "output_type": "execute_result"
    }
   ],
   "source": [
    "len(action_times)"
   ]
  },
  {
   "cell_type": "code",
   "execution_count": 113,
   "id": "03b3f2eb",
   "metadata": {},
   "outputs": [],
   "source": [
    "merged_df = pd.merge(df_map, df_meds, left_on=['MRN', 'RECORDED_TIME'], right_on=['MRN', 'MED_ACTION_TIME'],\n",
    "                     how='inner', suffixes=('_map', '_meds'))"
   ]
  },
  {
   "cell_type": "code",
   "execution_count": 121,
   "id": "480212f7",
   "metadata": {},
   "outputs": [
    {
     "data": {
      "text/html": [
       "<div>\n",
       "<style scoped>\n",
       "    .dataframe tbody tr th:only-of-type {\n",
       "        vertical-align: middle;\n",
       "    }\n",
       "\n",
       "    .dataframe tbody tr th {\n",
       "        vertical-align: top;\n",
       "    }\n",
       "\n",
       "    .dataframe thead th {\n",
       "        text-align: right;\n",
       "    }\n",
       "</style>\n",
       "<table border=\"1\" class=\"dataframe\">\n",
       "  <thead>\n",
       "    <tr style=\"text-align: right;\">\n",
       "      <th></th>\n",
       "      <th>LOG_ID_map</th>\n",
       "      <th>MRN</th>\n",
       "      <th>FLO_NAME</th>\n",
       "      <th>FLO_DISPLAY_NAME</th>\n",
       "      <th>RECORD_TYPE_map</th>\n",
       "      <th>RECORDED_TIME</th>\n",
       "      <th>MEAS_VALUE</th>\n",
       "      <th>UNITS</th>\n",
       "      <th>ENC_TYPE_NM</th>\n",
       "      <th>LOG_ID_meds</th>\n",
       "      <th>...</th>\n",
       "      <th>END_DATE</th>\n",
       "      <th>ORDER_STATUS_NM</th>\n",
       "      <th>RECORD_TYPE_meds</th>\n",
       "      <th>MAR_ACTION_NM</th>\n",
       "      <th>MED_ACTION_TIME</th>\n",
       "      <th>ADMIN_SIG</th>\n",
       "      <th>DOSE_UNIT_NM</th>\n",
       "      <th>MED_ROUTE_NM</th>\n",
       "      <th>ICU_ADMIN_FLAG</th>\n",
       "      <th>SURGERY_DATE</th>\n",
       "    </tr>\n",
       "  </thead>\n",
       "  <tbody>\n",
       "    <tr>\n",
       "      <th>0</th>\n",
       "      <td>b1ca87d14632244d</td>\n",
       "      <td>d8632f8584f262ae</td>\n",
       "      <td>Vital Signs</td>\n",
       "      <td>MAP (mmHg)</td>\n",
       "      <td>POST-OP</td>\n",
       "      <td>2018-12-21 00:00:00</td>\n",
       "      <td>136.0</td>\n",
       "      <td>NaN</td>\n",
       "      <td>Hospital Encounter</td>\n",
       "      <td>ac9149a7d42d5785</td>\n",
       "      <td>...</td>\n",
       "      <td>2018-12-24 00:00:00</td>\n",
       "      <td>Discontinued</td>\n",
       "      <td>POST-OP</td>\n",
       "      <td>Rate Verify</td>\n",
       "      <td>2018-12-21 00:00:00</td>\n",
       "      <td>0.04</td>\n",
       "      <td>Units/min</td>\n",
       "      <td>IntraVENOUS</td>\n",
       "      <td>Yes</td>\n",
       "      <td>2018-12-08</td>\n",
       "    </tr>\n",
       "    <tr>\n",
       "      <th>1</th>\n",
       "      <td>b1ca87d14632244d</td>\n",
       "      <td>d8632f8584f262ae</td>\n",
       "      <td>Vital Signs</td>\n",
       "      <td>MAP (mmHg)</td>\n",
       "      <td>POST-OP</td>\n",
       "      <td>2018-12-21 00:00:00</td>\n",
       "      <td>136.0</td>\n",
       "      <td>NaN</td>\n",
       "      <td>Hospital Encounter</td>\n",
       "      <td>b1ca87d14632244d</td>\n",
       "      <td>...</td>\n",
       "      <td>2018-12-24 00:00:00</td>\n",
       "      <td>Discontinued</td>\n",
       "      <td>POST-OP</td>\n",
       "      <td>Rate Verify</td>\n",
       "      <td>2018-12-21 00:00:00</td>\n",
       "      <td>0.50</td>\n",
       "      <td>mcg/kg/min</td>\n",
       "      <td>IntraVENOUS</td>\n",
       "      <td>Yes</td>\n",
       "      <td>2018-12-08</td>\n",
       "    </tr>\n",
       "    <tr>\n",
       "      <th>2</th>\n",
       "      <td>b1ca87d14632244d</td>\n",
       "      <td>d8632f8584f262ae</td>\n",
       "      <td>Vital Signs</td>\n",
       "      <td>MAP (mmHg)</td>\n",
       "      <td>POST-OP</td>\n",
       "      <td>2018-12-21 00:00:00</td>\n",
       "      <td>136.0</td>\n",
       "      <td>NaN</td>\n",
       "      <td>Hospital Encounter</td>\n",
       "      <td>1495917f2226d839</td>\n",
       "      <td>...</td>\n",
       "      <td>2018-12-24 00:00:00</td>\n",
       "      <td>Discontinued</td>\n",
       "      <td>POST-OP</td>\n",
       "      <td>Rate Verify</td>\n",
       "      <td>2018-12-21 00:00:00</td>\n",
       "      <td>0.04</td>\n",
       "      <td>Units/min</td>\n",
       "      <td>IntraVENOUS</td>\n",
       "      <td>Yes</td>\n",
       "      <td>2018-12-11</td>\n",
       "    </tr>\n",
       "    <tr>\n",
       "      <th>3</th>\n",
       "      <td>b1ca87d14632244d</td>\n",
       "      <td>d8632f8584f262ae</td>\n",
       "      <td>Vital Signs</td>\n",
       "      <td>MAP (mmHg)</td>\n",
       "      <td>POST-OP</td>\n",
       "      <td>2018-12-21 00:00:00</td>\n",
       "      <td>136.0</td>\n",
       "      <td>NaN</td>\n",
       "      <td>Hospital Encounter</td>\n",
       "      <td>b1ca87d14632244d</td>\n",
       "      <td>...</td>\n",
       "      <td>2018-12-24 00:00:00</td>\n",
       "      <td>Discontinued</td>\n",
       "      <td>POST-OP</td>\n",
       "      <td>Rate Verify</td>\n",
       "      <td>2018-12-21 00:00:00</td>\n",
       "      <td>0.04</td>\n",
       "      <td>Units/min</td>\n",
       "      <td>IntraVENOUS</td>\n",
       "      <td>Yes</td>\n",
       "      <td>2018-12-08</td>\n",
       "    </tr>\n",
       "    <tr>\n",
       "      <th>4</th>\n",
       "      <td>b1ca87d14632244d</td>\n",
       "      <td>d8632f8584f262ae</td>\n",
       "      <td>Vital Signs</td>\n",
       "      <td>MAP (mmHg)</td>\n",
       "      <td>POST-OP</td>\n",
       "      <td>2018-12-21 00:00:00</td>\n",
       "      <td>136.0</td>\n",
       "      <td>NaN</td>\n",
       "      <td>Hospital Encounter</td>\n",
       "      <td>ac9149a7d42d5785</td>\n",
       "      <td>...</td>\n",
       "      <td>2018-12-24 00:00:00</td>\n",
       "      <td>Discontinued</td>\n",
       "      <td>POST-OP</td>\n",
       "      <td>Rate Verify</td>\n",
       "      <td>2018-12-21 00:00:00</td>\n",
       "      <td>0.50</td>\n",
       "      <td>mcg/kg/min</td>\n",
       "      <td>IntraVENOUS</td>\n",
       "      <td>Yes</td>\n",
       "      <td>2018-12-08</td>\n",
       "    </tr>\n",
       "    <tr>\n",
       "      <th>...</th>\n",
       "      <td>...</td>\n",
       "      <td>...</td>\n",
       "      <td>...</td>\n",
       "      <td>...</td>\n",
       "      <td>...</td>\n",
       "      <td>...</td>\n",
       "      <td>...</td>\n",
       "      <td>...</td>\n",
       "      <td>...</td>\n",
       "      <td>...</td>\n",
       "      <td>...</td>\n",
       "      <td>...</td>\n",
       "      <td>...</td>\n",
       "      <td>...</td>\n",
       "      <td>...</td>\n",
       "      <td>...</td>\n",
       "      <td>...</td>\n",
       "      <td>...</td>\n",
       "      <td>...</td>\n",
       "      <td>...</td>\n",
       "      <td>...</td>\n",
       "    </tr>\n",
       "    <tr>\n",
       "      <th>354452</th>\n",
       "      <td>27259134b593d9bd</td>\n",
       "      <td>ff2825c4d035db2a</td>\n",
       "      <td>Dialysis Vitals and Treatment</td>\n",
       "      <td>MAP (mmHg)</td>\n",
       "      <td>POST-OP</td>\n",
       "      <td>2022-11-09 21:00:00</td>\n",
       "      <td>69.0</td>\n",
       "      <td>NaN</td>\n",
       "      <td>Hospital Encounter</td>\n",
       "      <td>27259134b593d9bd</td>\n",
       "      <td>...</td>\n",
       "      <td>2022-11-11 00:00:00</td>\n",
       "      <td>Discontinued</td>\n",
       "      <td>POST-OP</td>\n",
       "      <td>Rate Verify</td>\n",
       "      <td>2022-11-09 21:00:00</td>\n",
       "      <td>8.00</td>\n",
       "      <td>mcg/min</td>\n",
       "      <td>IntraVENOUS</td>\n",
       "      <td>Yes</td>\n",
       "      <td>2022-10-30</td>\n",
       "    </tr>\n",
       "    <tr>\n",
       "      <th>354453</th>\n",
       "      <td>01daf9bab4ab106a</td>\n",
       "      <td>0643e16f5e17692d</td>\n",
       "      <td>Drip Titration</td>\n",
       "      <td>MAP (mmHg)</td>\n",
       "      <td>POST-OP</td>\n",
       "      <td>2022-06-11 23:41:00</td>\n",
       "      <td>69.0</td>\n",
       "      <td>NaN</td>\n",
       "      <td>Hospital Encounter</td>\n",
       "      <td>7cef1c70612757e1</td>\n",
       "      <td>...</td>\n",
       "      <td>2022-06-19 00:00:00</td>\n",
       "      <td>Discontinued</td>\n",
       "      <td>POST-OP</td>\n",
       "      <td>Rate Change</td>\n",
       "      <td>2022-06-11 23:41:00</td>\n",
       "      <td>9.00</td>\n",
       "      <td>mcg/min</td>\n",
       "      <td>IntraVENOUS</td>\n",
       "      <td>Yes</td>\n",
       "      <td>2022-06-03</td>\n",
       "    </tr>\n",
       "    <tr>\n",
       "      <th>354454</th>\n",
       "      <td>01daf9bab4ab106a</td>\n",
       "      <td>0643e16f5e17692d</td>\n",
       "      <td>Drip Titration</td>\n",
       "      <td>MAP (mmHg)</td>\n",
       "      <td>POST-OP</td>\n",
       "      <td>2022-06-11 23:41:00</td>\n",
       "      <td>69.0</td>\n",
       "      <td>NaN</td>\n",
       "      <td>Hospital Encounter</td>\n",
       "      <td>d94750a541c1a2fa</td>\n",
       "      <td>...</td>\n",
       "      <td>2022-06-19 00:00:00</td>\n",
       "      <td>Discontinued</td>\n",
       "      <td>NaN</td>\n",
       "      <td>Rate Change</td>\n",
       "      <td>2022-06-11 23:41:00</td>\n",
       "      <td>9.00</td>\n",
       "      <td>mcg/min</td>\n",
       "      <td>IntraVENOUS</td>\n",
       "      <td>Yes</td>\n",
       "      <td>2022-05-31</td>\n",
       "    </tr>\n",
       "    <tr>\n",
       "      <th>354455</th>\n",
       "      <td>7cef1c70612757e1</td>\n",
       "      <td>0643e16f5e17692d</td>\n",
       "      <td>Drip Titration</td>\n",
       "      <td>MAP (mmHg)</td>\n",
       "      <td>POST-OP</td>\n",
       "      <td>2022-06-11 23:41:00</td>\n",
       "      <td>69.0</td>\n",
       "      <td>NaN</td>\n",
       "      <td>Hospital Encounter</td>\n",
       "      <td>7cef1c70612757e1</td>\n",
       "      <td>...</td>\n",
       "      <td>2022-06-19 00:00:00</td>\n",
       "      <td>Discontinued</td>\n",
       "      <td>POST-OP</td>\n",
       "      <td>Rate Change</td>\n",
       "      <td>2022-06-11 23:41:00</td>\n",
       "      <td>9.00</td>\n",
       "      <td>mcg/min</td>\n",
       "      <td>IntraVENOUS</td>\n",
       "      <td>Yes</td>\n",
       "      <td>2022-06-03</td>\n",
       "    </tr>\n",
       "    <tr>\n",
       "      <th>354456</th>\n",
       "      <td>7cef1c70612757e1</td>\n",
       "      <td>0643e16f5e17692d</td>\n",
       "      <td>Drip Titration</td>\n",
       "      <td>MAP (mmHg)</td>\n",
       "      <td>POST-OP</td>\n",
       "      <td>2022-06-11 23:41:00</td>\n",
       "      <td>69.0</td>\n",
       "      <td>NaN</td>\n",
       "      <td>Hospital Encounter</td>\n",
       "      <td>d94750a541c1a2fa</td>\n",
       "      <td>...</td>\n",
       "      <td>2022-06-19 00:00:00</td>\n",
       "      <td>Discontinued</td>\n",
       "      <td>NaN</td>\n",
       "      <td>Rate Change</td>\n",
       "      <td>2022-06-11 23:41:00</td>\n",
       "      <td>9.00</td>\n",
       "      <td>mcg/min</td>\n",
       "      <td>IntraVENOUS</td>\n",
       "      <td>Yes</td>\n",
       "      <td>2022-05-31</td>\n",
       "    </tr>\n",
       "  </tbody>\n",
       "</table>\n",
       "<p>354457 rows × 26 columns</p>\n",
       "</div>"
      ],
      "text/plain": [
       "              LOG_ID_map               MRN                       FLO_NAME  \\\n",
       "0       b1ca87d14632244d  d8632f8584f262ae                   Vital Signs    \n",
       "1       b1ca87d14632244d  d8632f8584f262ae                   Vital Signs    \n",
       "2       b1ca87d14632244d  d8632f8584f262ae                   Vital Signs    \n",
       "3       b1ca87d14632244d  d8632f8584f262ae                   Vital Signs    \n",
       "4       b1ca87d14632244d  d8632f8584f262ae                   Vital Signs    \n",
       "...                  ...               ...                            ...   \n",
       "354452  27259134b593d9bd  ff2825c4d035db2a  Dialysis Vitals and Treatment   \n",
       "354453  01daf9bab4ab106a  0643e16f5e17692d                 Drip Titration   \n",
       "354454  01daf9bab4ab106a  0643e16f5e17692d                 Drip Titration   \n",
       "354455  7cef1c70612757e1  0643e16f5e17692d                 Drip Titration   \n",
       "354456  7cef1c70612757e1  0643e16f5e17692d                 Drip Titration   \n",
       "\n",
       "       FLO_DISPLAY_NAME RECORD_TYPE_map        RECORDED_TIME  MEAS_VALUE  \\\n",
       "0            MAP (mmHg)         POST-OP  2018-12-21 00:00:00       136.0   \n",
       "1            MAP (mmHg)         POST-OP  2018-12-21 00:00:00       136.0   \n",
       "2            MAP (mmHg)         POST-OP  2018-12-21 00:00:00       136.0   \n",
       "3            MAP (mmHg)         POST-OP  2018-12-21 00:00:00       136.0   \n",
       "4            MAP (mmHg)         POST-OP  2018-12-21 00:00:00       136.0   \n",
       "...                 ...             ...                  ...         ...   \n",
       "354452       MAP (mmHg)         POST-OP  2022-11-09 21:00:00        69.0   \n",
       "354453       MAP (mmHg)         POST-OP  2022-06-11 23:41:00        69.0   \n",
       "354454       MAP (mmHg)         POST-OP  2022-06-11 23:41:00        69.0   \n",
       "354455       MAP (mmHg)         POST-OP  2022-06-11 23:41:00        69.0   \n",
       "354456       MAP (mmHg)         POST-OP  2022-06-11 23:41:00        69.0   \n",
       "\n",
       "        UNITS         ENC_TYPE_NM       LOG_ID_meds  ...             END_DATE  \\\n",
       "0         NaN  Hospital Encounter  ac9149a7d42d5785  ...  2018-12-24 00:00:00   \n",
       "1         NaN  Hospital Encounter  b1ca87d14632244d  ...  2018-12-24 00:00:00   \n",
       "2         NaN  Hospital Encounter  1495917f2226d839  ...  2018-12-24 00:00:00   \n",
       "3         NaN  Hospital Encounter  b1ca87d14632244d  ...  2018-12-24 00:00:00   \n",
       "4         NaN  Hospital Encounter  ac9149a7d42d5785  ...  2018-12-24 00:00:00   \n",
       "...       ...                 ...               ...  ...                  ...   \n",
       "354452    NaN  Hospital Encounter  27259134b593d9bd  ...  2022-11-11 00:00:00   \n",
       "354453    NaN  Hospital Encounter  7cef1c70612757e1  ...  2022-06-19 00:00:00   \n",
       "354454    NaN  Hospital Encounter  d94750a541c1a2fa  ...  2022-06-19 00:00:00   \n",
       "354455    NaN  Hospital Encounter  7cef1c70612757e1  ...  2022-06-19 00:00:00   \n",
       "354456    NaN  Hospital Encounter  d94750a541c1a2fa  ...  2022-06-19 00:00:00   \n",
       "\n",
       "       ORDER_STATUS_NM  RECORD_TYPE_meds MAR_ACTION_NM      MED_ACTION_TIME  \\\n",
       "0         Discontinued           POST-OP   Rate Verify  2018-12-21 00:00:00   \n",
       "1         Discontinued           POST-OP   Rate Verify  2018-12-21 00:00:00   \n",
       "2         Discontinued           POST-OP   Rate Verify  2018-12-21 00:00:00   \n",
       "3         Discontinued           POST-OP   Rate Verify  2018-12-21 00:00:00   \n",
       "4         Discontinued           POST-OP   Rate Verify  2018-12-21 00:00:00   \n",
       "...                ...               ...           ...                  ...   \n",
       "354452    Discontinued           POST-OP   Rate Verify  2022-11-09 21:00:00   \n",
       "354453    Discontinued           POST-OP   Rate Change  2022-06-11 23:41:00   \n",
       "354454    Discontinued               NaN   Rate Change  2022-06-11 23:41:00   \n",
       "354455    Discontinued           POST-OP   Rate Change  2022-06-11 23:41:00   \n",
       "354456    Discontinued               NaN   Rate Change  2022-06-11 23:41:00   \n",
       "\n",
       "       ADMIN_SIG DOSE_UNIT_NM MED_ROUTE_NM ICU_ADMIN_FLAG SURGERY_DATE  \n",
       "0           0.04    Units/min  IntraVENOUS            Yes   2018-12-08  \n",
       "1           0.50   mcg/kg/min  IntraVENOUS            Yes   2018-12-08  \n",
       "2           0.04    Units/min  IntraVENOUS            Yes   2018-12-11  \n",
       "3           0.04    Units/min  IntraVENOUS            Yes   2018-12-08  \n",
       "4           0.50   mcg/kg/min  IntraVENOUS            Yes   2018-12-08  \n",
       "...          ...          ...          ...            ...          ...  \n",
       "354452      8.00      mcg/min  IntraVENOUS            Yes   2022-10-30  \n",
       "354453      9.00      mcg/min  IntraVENOUS            Yes   2022-06-03  \n",
       "354454      9.00      mcg/min  IntraVENOUS            Yes   2022-05-31  \n",
       "354455      9.00      mcg/min  IntraVENOUS            Yes   2022-06-03  \n",
       "354456      9.00      mcg/min  IntraVENOUS            Yes   2022-05-31  \n",
       "\n",
       "[354457 rows x 26 columns]"
      ]
     },
     "execution_count": 121,
     "metadata": {},
     "output_type": "execute_result"
    }
   ],
   "source": [
    "merged_df"
   ]
  },
  {
   "cell_type": "code",
   "execution_count": 125,
   "id": "601d8bc3",
   "metadata": {},
   "outputs": [
    {
     "data": {
      "image/png": "[encoded data removed]",
      "text/plain": [
       "<Figure size 720x576 with 2 Axes>"
      ]
     },
     "metadata": {
      "needs_background": "light"
     },
     "output_type": "display_data"
    }
   ],
   "source": [
    "# Assuming df is your DataFrame\n",
    "# Pivot the DataFrame\n",
    "heatmap_data = merged_df.pivot_table(index='MRN', columns='MEDICATION_ID', aggfunc='size', fill_value=0)\n",
    "\n",
    "# Plot the heatmap using seaborn\n",
    "plt.figure(figsize=(10,8))\n",
    "sns.heatmap(heatmap_data, cmap=\"YlGnBu\", annot=False)\n",
    "\n",
    "# Add labels and title\n",
    "plt.xlabel('MEDIATION_ID')\n",
    "plt.ylabel('MRN')\n",
    "plt.title('Heatmap of MRN vs MEDICATION_ID')\n",
    "\n",
    "# Show the plot\n",
    "plt.show()"
   ]
  },
  {
   "cell_type": "code",
   "execution_count": 114,
   "id": "29047e29",
   "metadata": {},
   "outputs": [
    {
     "data": {
      "text/plain": [
       "706"
      ]
     },
     "execution_count": 114,
     "metadata": {},
     "output_type": "execute_result"
    }
   ],
   "source": [
    "merged_df['MRN'].nunique()"
   ]
  },
  {
   "cell_type": "code",
   "execution_count": 63,
   "id": "3f1cc9a1",
   "metadata": {},
   "outputs": [],
   "source": [
    "merged_df = merged_df.drop_duplicates()"
   ]
  },
  {
   "cell_type": "code",
   "execution_count": 66,
   "id": "73342e5d",
   "metadata": {},
   "outputs": [
    {
     "data": {
      "text/plain": [
       "Index(['LOG_ID_map', 'MRN', 'FLO_NAME', 'FLO_DISPLAY_NAME', 'RECORD_TYPE_map',\n",
       "       'RECORDED_TIME', 'MEAS_VALUE', 'UNITS', 'ENC_TYPE_NM', 'LOG_ID_meds',\n",
       "       'ORDERING_DATE', 'ORDER_CLASS_NM', 'MEDICATION_ID', 'DISPLAY_NAME',\n",
       "       'MEDICATION_NM', 'START_DATE', 'END_DATE', 'ORDER_STATUS_NM',\n",
       "       'RECORD_TYPE_meds', 'MAR_ACTION_NM', 'MED_ACTION_TIME', 'ADMIN_SIG',\n",
       "       'DOSE_UNIT_NM', 'MED_ROUTE_NM', 'ICU_ADMIN_FLAG', 'SURGERY_DATE'],\n",
       "      dtype='object')"
      ]
     },
     "execution_count": 66,
     "metadata": {},
     "output_type": "execute_result"
    }
   ],
   "source": [
    "merged_df.columns"
   ]
  },
  {
   "cell_type": "code",
   "execution_count": 67,
   "id": "2f3a9628",
   "metadata": {},
   "outputs": [
    {
     "data": {
      "text/html": [
       "<div>\n",
       "<style scoped>\n",
       "    .dataframe tbody tr th:only-of-type {\n",
       "        vertical-align: middle;\n",
       "    }\n",
       "\n",
       "    .dataframe tbody tr th {\n",
       "        vertical-align: top;\n",
       "    }\n",
       "\n",
       "    .dataframe thead th {\n",
       "        text-align: right;\n",
       "    }\n",
       "</style>\n",
       "<table border=\"1\" class=\"dataframe\">\n",
       "  <thead>\n",
       "    <tr style=\"text-align: right;\">\n",
       "      <th></th>\n",
       "      <th>MRN</th>\n",
       "      <th>MED_ACTION_TIME</th>\n",
       "      <th>RECORDED_TIME</th>\n",
       "      <th>MEAS_VALUE</th>\n",
       "      <th>MEDICATION_ID</th>\n",
       "      <th>MEDICATION_NM</th>\n",
       "      <th>DISPLAY_NAME</th>\n",
       "    </tr>\n",
       "  </thead>\n",
       "  <tbody>\n",
       "    <tr>\n",
       "      <th>0</th>\n",
       "      <td>d8632f8584f262ae</td>\n",
       "      <td>2018-12-21 00:00:00</td>\n",
       "      <td>2018-12-21 00:00:00</td>\n",
       "      <td>136.0</td>\n",
       "      <td>454641</td>\n",
       "      <td>VASOPRESSIN INFUSION (UCI)</td>\n",
       "      <td>vasopressin 20 Units in sodium chloride 0.9 % ...</td>\n",
       "    </tr>\n",
       "    <tr>\n",
       "      <th>1</th>\n",
       "      <td>d8632f8584f262ae</td>\n",
       "      <td>2018-12-21 00:00:00</td>\n",
       "      <td>2018-12-21 00:00:00</td>\n",
       "      <td>136.0</td>\n",
       "      <td>455306</td>\n",
       "      <td>DOBUTAMINE 500 MG/250 ML NS INFUSION (UCI)</td>\n",
       "      <td>DOBUTamine (DOBUTREX) 500 mg in sodium chlorid...</td>\n",
       "    </tr>\n",
       "    <tr>\n",
       "      <th>2</th>\n",
       "      <td>d8632f8584f262ae</td>\n",
       "      <td>2018-12-21 00:00:00</td>\n",
       "      <td>2018-12-21 00:00:00</td>\n",
       "      <td>136.0</td>\n",
       "      <td>454641</td>\n",
       "      <td>VASOPRESSIN INFUSION (UCI)</td>\n",
       "      <td>vasopressin 20 Units in sodium chloride 0.9 % ...</td>\n",
       "    </tr>\n",
       "    <tr>\n",
       "      <th>3</th>\n",
       "      <td>d8632f8584f262ae</td>\n",
       "      <td>2018-12-21 00:00:00</td>\n",
       "      <td>2018-12-21 00:00:00</td>\n",
       "      <td>136.0</td>\n",
       "      <td>454641</td>\n",
       "      <td>VASOPRESSIN INFUSION (UCI)</td>\n",
       "      <td>vasopressin 20 Units in sodium chloride 0.9 % ...</td>\n",
       "    </tr>\n",
       "    <tr>\n",
       "      <th>4</th>\n",
       "      <td>d8632f8584f262ae</td>\n",
       "      <td>2018-12-21 00:00:00</td>\n",
       "      <td>2018-12-21 00:00:00</td>\n",
       "      <td>136.0</td>\n",
       "      <td>455306</td>\n",
       "      <td>DOBUTAMINE 500 MG/250 ML NS INFUSION (UCI)</td>\n",
       "      <td>DOBUTamine (DOBUTREX) 500 mg in sodium chlorid...</td>\n",
       "    </tr>\n",
       "    <tr>\n",
       "      <th>...</th>\n",
       "      <td>...</td>\n",
       "      <td>...</td>\n",
       "      <td>...</td>\n",
       "      <td>...</td>\n",
       "      <td>...</td>\n",
       "      <td>...</td>\n",
       "      <td>...</td>\n",
       "    </tr>\n",
       "    <tr>\n",
       "      <th>354452</th>\n",
       "      <td>ff2825c4d035db2a</td>\n",
       "      <td>2022-11-09 21:00:00</td>\n",
       "      <td>2022-11-09 21:00:00</td>\n",
       "      <td>69.0</td>\n",
       "      <td>121925</td>\n",
       "      <td>NOREPINEPHRINE-SODIUM CHLORIDE 8-0.9 MG/250ML-...</td>\n",
       "      <td>norepinephrine 8 mg in sodium chloride 0.9% 25...</td>\n",
       "    </tr>\n",
       "    <tr>\n",
       "      <th>354453</th>\n",
       "      <td>0643e16f5e17692d</td>\n",
       "      <td>2022-06-11 23:41:00</td>\n",
       "      <td>2022-06-11 23:41:00</td>\n",
       "      <td>69.0</td>\n",
       "      <td>455636</td>\n",
       "      <td>NOREPINEPHRINE 16 MG/250 ML NS INFUSION (NEURO...</td>\n",
       "      <td>norepinephrine (LEVOPHED) 16 mg in sodium chlo...</td>\n",
       "    </tr>\n",
       "    <tr>\n",
       "      <th>354454</th>\n",
       "      <td>0643e16f5e17692d</td>\n",
       "      <td>2022-06-11 23:41:00</td>\n",
       "      <td>2022-06-11 23:41:00</td>\n",
       "      <td>69.0</td>\n",
       "      <td>455636</td>\n",
       "      <td>NOREPINEPHRINE 16 MG/250 ML NS INFUSION (NEURO...</td>\n",
       "      <td>norepinephrine (LEVOPHED) 16 mg in sodium chlo...</td>\n",
       "    </tr>\n",
       "    <tr>\n",
       "      <th>354455</th>\n",
       "      <td>0643e16f5e17692d</td>\n",
       "      <td>2022-06-11 23:41:00</td>\n",
       "      <td>2022-06-11 23:41:00</td>\n",
       "      <td>69.0</td>\n",
       "      <td>455636</td>\n",
       "      <td>NOREPINEPHRINE 16 MG/250 ML NS INFUSION (NEURO...</td>\n",
       "      <td>norepinephrine (LEVOPHED) 16 mg in sodium chlo...</td>\n",
       "    </tr>\n",
       "    <tr>\n",
       "      <th>354456</th>\n",
       "      <td>0643e16f5e17692d</td>\n",
       "      <td>2022-06-11 23:41:00</td>\n",
       "      <td>2022-06-11 23:41:00</td>\n",
       "      <td>69.0</td>\n",
       "      <td>455636</td>\n",
       "      <td>NOREPINEPHRINE 16 MG/250 ML NS INFUSION (NEURO...</td>\n",
       "      <td>norepinephrine (LEVOPHED) 16 mg in sodium chlo...</td>\n",
       "    </tr>\n",
       "  </tbody>\n",
       "</table>\n",
       "<p>354457 rows × 7 columns</p>\n",
       "</div>"
      ],
      "text/plain": [
       "                     MRN      MED_ACTION_TIME        RECORDED_TIME  \\\n",
       "0       d8632f8584f262ae  2018-12-21 00:00:00  2018-12-21 00:00:00   \n",
       "1       d8632f8584f262ae  2018-12-21 00:00:00  2018-12-21 00:00:00   \n",
       "2       d8632f8584f262ae  2018-12-21 00:00:00  2018-12-21 00:00:00   \n",
       "3       d8632f8584f262ae  2018-12-21 00:00:00  2018-12-21 00:00:00   \n",
       "4       d8632f8584f262ae  2018-12-21 00:00:00  2018-12-21 00:00:00   \n",
       "...                  ...                  ...                  ...   \n",
       "354452  ff2825c4d035db2a  2022-11-09 21:00:00  2022-11-09 21:00:00   \n",
       "354453  0643e16f5e17692d  2022-06-11 23:41:00  2022-06-11 23:41:00   \n",
       "354454  0643e16f5e17692d  2022-06-11 23:41:00  2022-06-11 23:41:00   \n",
       "354455  0643e16f5e17692d  2022-06-11 23:41:00  2022-06-11 23:41:00   \n",
       "354456  0643e16f5e17692d  2022-06-11 23:41:00  2022-06-11 23:41:00   \n",
       "\n",
       "        MEAS_VALUE  MEDICATION_ID  \\\n",
       "0            136.0         454641   \n",
       "1            136.0         455306   \n",
       "2            136.0         454641   \n",
       "3            136.0         454641   \n",
       "4            136.0         455306   \n",
       "...            ...            ...   \n",
       "354452        69.0         121925   \n",
       "354453        69.0         455636   \n",
       "354454        69.0         455636   \n",
       "354455        69.0         455636   \n",
       "354456        69.0         455636   \n",
       "\n",
       "                                            MEDICATION_NM  \\\n",
       "0                              VASOPRESSIN INFUSION (UCI)   \n",
       "1              DOBUTAMINE 500 MG/250 ML NS INFUSION (UCI)   \n",
       "2                              VASOPRESSIN INFUSION (UCI)   \n",
       "3                              VASOPRESSIN INFUSION (UCI)   \n",
       "4              DOBUTAMINE 500 MG/250 ML NS INFUSION (UCI)   \n",
       "...                                                   ...   \n",
       "354452  NOREPINEPHRINE-SODIUM CHLORIDE 8-0.9 MG/250ML-...   \n",
       "354453  NOREPINEPHRINE 16 MG/250 ML NS INFUSION (NEURO...   \n",
       "354454  NOREPINEPHRINE 16 MG/250 ML NS INFUSION (NEURO...   \n",
       "354455  NOREPINEPHRINE 16 MG/250 ML NS INFUSION (NEURO...   \n",
       "354456  NOREPINEPHRINE 16 MG/250 ML NS INFUSION (NEURO...   \n",
       "\n",
       "                                             DISPLAY_NAME  \n",
       "0       vasopressin 20 Units in sodium chloride 0.9 % ...  \n",
       "1       DOBUTamine (DOBUTREX) 500 mg in sodium chlorid...  \n",
       "2       vasopressin 20 Units in sodium chloride 0.9 % ...  \n",
       "3       vasopressin 20 Units in sodium chloride 0.9 % ...  \n",
       "4       DOBUTamine (DOBUTREX) 500 mg in sodium chlorid...  \n",
       "...                                                   ...  \n",
       "354452  norepinephrine 8 mg in sodium chloride 0.9% 25...  \n",
       "354453  norepinephrine (LEVOPHED) 16 mg in sodium chlo...  \n",
       "354454  norepinephrine (LEVOPHED) 16 mg in sodium chlo...  \n",
       "354455  norepinephrine (LEVOPHED) 16 mg in sodium chlo...  \n",
       "354456  norepinephrine (LEVOPHED) 16 mg in sodium chlo...  \n",
       "\n",
       "[354457 rows x 7 columns]"
      ]
     },
     "execution_count": 67,
     "metadata": {},
     "output_type": "execute_result"
    }
   ],
   "source": [
    "merged_df[['MRN', 'MED_ACTION_TIME', 'RECORDED_TIME', 'MEAS_VALUE', 'MEDICATION_ID', 'MEDICATION_NM', 'DISPLAY_NAME']]"
   ]
  },
  {
   "cell_type": "code",
   "execution_count": 79,
   "id": "c939ebc5",
   "metadata": {},
   "outputs": [
    {
     "data": {
      "text/plain": [
       "35"
      ]
     },
     "execution_count": 79,
     "metadata": {},
     "output_type": "execute_result"
    }
   ],
   "source": [
    "merged_df['MEDICATION_NM'].nunique()"
   ]
  },
  {
   "cell_type": "code",
   "execution_count": 78,
   "id": "69c1949e",
   "metadata": {},
   "outputs": [
    {
     "data": {
      "text/plain": [
       "30"
      ]
     },
     "execution_count": 78,
     "metadata": {},
     "output_type": "execute_result"
    }
   ],
   "source": [
    "merged_df['MEDICATION_ID'].nunique()"
   ]
  },
  {
   "cell_type": "code",
   "execution_count": 80,
   "id": "ae505d3b",
   "metadata": {},
   "outputs": [
    {
     "data": {
      "text/plain": [
       "array(['VASOPRESSIN INFUSION (UCI)',\n",
       "       'DOBUTAMINE 500 MG/250 ML NS INFUSION (UCI)',\n",
       "       'NOREPINEPHRINE 4 MG/250 ML NS INFUSION (UCI)',\n",
       "       'DOBUTAMINE 500 MG/250 ML D5W PREMIX INFUSION (UCI)',\n",
       "       'EPINEPHRINE 8 MG/250 ML INFUSION (UCI)',\n",
       "       'NOREPINEPHRINE 8 MG/250 ML NS INFUSION (NON-STANDARD) (UCI)',\n",
       "       'DOBUTAMINE IN D5W 4-5 MG/ML-% IV SOLN',\n",
       "       'norepinephrine (LEVOPHED) 4 mg in 250 mL NS 0.016 MG/ML EMERGENCY infusion  - ADS OVERRIDE',\n",
       "       'DOPAMINE 400 MG/250 ML D5W PREMIX INFUSION (UCI)',\n",
       "       'NOREPINEPHRINE 16 MG/250 ML NS INFUSION (NEURO/NON-STANDARD) (FOR CENTRAL LINE ONLY) (UCI)',\n",
       "       'EPINEPHRINE 16 MG/250 ML NS INFUSION - CENTRAL LINE ONLY (UCI)',\n",
       "       'VASOPRESSIN 20 UNIT/ML IJ SOLN',\n",
       "       'EPINEPHRINE INFUSION (ANESTHESIA)',\n",
       "       'VASOPRESSIN 20 UNIT/ML IV SOLN',\n",
       "       'norepinephrine (LEVOPHED) 4 mg in 250 mL NS (LEVOPHED) 0.016 MG/ML infusion  - ADS OVERRIDE',\n",
       "       'RACEPINEPHRINE HCL 2.25 % IN NEBU',\n",
       "       'NOREPINEPHRINE 4 MG/250 ML D5W INFUSION (UCI)',\n",
       "       'LIDOCAINE-EPINEPHRINE 1 %-1:100000 IJ SOLN',\n",
       "       'NOREPINEPHRINE INFUSION (ANESTHESIA)',\n",
       "       'EPINEPHRINE HCL 1 MG/ML IJ SOLN',\n",
       "       'lidocaine-EPINEPHrine 1 %-1:100000 injection  - ADS OVERRIDE',\n",
       "       'DOPAMINE 800 MG/250 ML D5W PREMIX INFUSION (UCI)',\n",
       "       'NOREPINEPHRINE-DEXTROSE 16-5 MG/250ML-% IV SOLN',\n",
       "       'EPINEPHRINE 16 MG/250 ML INFUSION - CENTRAL LINE ONLY (UCI)',\n",
       "       'EPINEPHRINE PF 1 MG/10ML IJ SOSY',\n",
       "       'DOPAMINE IN D5W 3.2-5 MG/ML-% IV SOLN',\n",
       "       'NOREPINEPHRINE-SODIUM CHLORIDE 8-0.9 MG/250ML-% IV SOLN',\n",
       "       'NOREPINEPHRINE 8 MG/250 ML D5W INFUSION (NON-STANDARD CONC) (UCI)',\n",
       "       'EPINEPHrine 1:1000 (1 mg/mL) injection (1 mg/mL)  - ADS OVERRIDE',\n",
       "       'EPINEPHRINE 1 MG/10ML IJ SOSY',\n",
       "       'LIDOCAINE-EPINEPHRINE 2 %-1:100000 IJ SOLN',\n",
       "       'DOPAMINE IN NS INFUSION (VARIABLE CONCENTRATION) (UCI)',\n",
       "       'VASOPRESSIN INFUSION (ANESTHESIA)',\n",
       "       'EPINEPHRINE 1 MG/10ML IJ SOSY OPTIME (UCI)',\n",
       "       'racEPINEPHrine HCl (VAPONEFRIN) 2.25 % nebulizer solution  - ADS OVERRIDE'],\n",
       "      dtype=object)"
      ]
     },
     "execution_count": 80,
     "metadata": {},
     "output_type": "execute_result"
    }
   ],
   "source": [
    "merged_df['MEDICATION_NM'].unique()"
   ]
  },
  {
   "cell_type": "code",
   "execution_count": 160,
   "id": "de85748a",
   "metadata": {},
   "outputs": [
    {
     "data": {
      "text/plain": [
       "array([454641, 455306, 507985, 455651, 456106, 455631,  15982, 507885,\n",
       "       505695, 455636, 456121,   8478, 452941, 114429, 101465, 455616,\n",
       "        10427, 452761,   2850, 505700, 123921, 129393,  14846, 121925,\n",
       "       455621, 128263,  10430, 456091, 452936, 509270])"
      ]
     },
     "execution_count": 160,
     "metadata": {},
     "output_type": "execute_result"
    }
   ],
   "source": [
    "merged_df['MEDICATION_ID'].unique()"
   ]
  },
  {
   "cell_type": "code",
   "execution_count": 162,
   "id": "d15723d4",
   "metadata": {
    "scrolled": false
   },
   "outputs": [
    {
     "ename": "KeyboardInterrupt",
     "evalue": "",
     "output_type": "error",
     "traceback": [
      "\u001b[0;31m---------------------------------------------------------------------------\u001b[0m",
      "\u001b[0;31mKeyboardInterrupt\u001b[0m                         Traceback (most recent call last)",
      "\u001b[0;32m/tmp/ipykernel_17289/3429409520.py\u001b[0m in \u001b[0;36m<module>\u001b[0;34m\u001b[0m\n\u001b[1;32m      1\u001b[0m \u001b[0mfig\u001b[0m\u001b[0;34m,\u001b[0m \u001b[0max\u001b[0m \u001b[0;34m=\u001b[0m \u001b[0mplt\u001b[0m\u001b[0;34m.\u001b[0m\u001b[0msubplots\u001b[0m\u001b[0;34m(\u001b[0m\u001b[0mfigsize\u001b[0m\u001b[0;34m=\u001b[0m\u001b[0;34m(\u001b[0m\u001b[0;36m8\u001b[0m\u001b[0;34m,\u001b[0m \u001b[0;36m8\u001b[0m\u001b[0;34m)\u001b[0m\u001b[0;34m)\u001b[0m\u001b[0;34m\u001b[0m\u001b[0;34m\u001b[0m\u001b[0m\n\u001b[0;32m----> 2\u001b[0;31m \u001b[0msns\u001b[0m\u001b[0;34m.\u001b[0m\u001b[0mhistplot\u001b[0m\u001b[0;34m(\u001b[0m\u001b[0mmerged_df\u001b[0m\u001b[0;34m[\u001b[0m\u001b[0;34m'MEDICATION_ID'\u001b[0m\u001b[0;34m]\u001b[0m\u001b[0;34m,\u001b[0m \u001b[0mdiscrete\u001b[0m\u001b[0;34m=\u001b[0m\u001b[0;32mTrue\u001b[0m\u001b[0;34m)\u001b[0m\u001b[0;34m\u001b[0m\u001b[0;34m\u001b[0m\u001b[0m\n\u001b[0m\u001b[1;32m      3\u001b[0m \u001b[0mplt\u001b[0m\u001b[0;34m.\u001b[0m\u001b[0mxticks\u001b[0m\u001b[0;34m(\u001b[0m\u001b[0mrotation\u001b[0m\u001b[0;34m=\u001b[0m\u001b[0;36m90\u001b[0m\u001b[0;34m)\u001b[0m\u001b[0;34m\u001b[0m\u001b[0;34m\u001b[0m\u001b[0m\n\u001b[1;32m      4\u001b[0m \u001b[0;31m#ax.set(xticklabels=[])  # remove the tick labels\u001b[0m\u001b[0;34m\u001b[0m\u001b[0;34m\u001b[0m\u001b[0;34m\u001b[0m\u001b[0m\n\u001b[1;32m      5\u001b[0m \u001b[0;31m#ax.tick_params(bottom=False)  # remove the ticks\u001b[0m\u001b[0;34m\u001b[0m\u001b[0;34m\u001b[0m\u001b[0;34m\u001b[0m\u001b[0m\n",
      "\u001b[0;32m~/.local/lib/python3.9/site-packages/seaborn/distributions.py\u001b[0m in \u001b[0;36mhistplot\u001b[0;34m(data, x, y, hue, weights, stat, bins, binwidth, binrange, discrete, cumulative, common_bins, common_norm, multiple, element, fill, shrink, kde, kde_kws, line_kws, thresh, pthresh, pmax, cbar, cbar_ax, cbar_kws, palette, hue_order, hue_norm, color, log_scale, legend, ax, **kwargs)\u001b[0m\n\u001b[1;32m   1414\u001b[0m     \u001b[0;32mif\u001b[0m \u001b[0mp\u001b[0m\u001b[0;34m.\u001b[0m\u001b[0munivariate\u001b[0m\u001b[0;34m:\u001b[0m\u001b[0;34m\u001b[0m\u001b[0;34m\u001b[0m\u001b[0m\n\u001b[1;32m   1415\u001b[0m \u001b[0;34m\u001b[0m\u001b[0m\n\u001b[0;32m-> 1416\u001b[0;31m         p.plot_univariate_histogram(\n\u001b[0m\u001b[1;32m   1417\u001b[0m             \u001b[0mmultiple\u001b[0m\u001b[0;34m=\u001b[0m\u001b[0mmultiple\u001b[0m\u001b[0;34m,\u001b[0m\u001b[0;34m\u001b[0m\u001b[0;34m\u001b[0m\u001b[0m\n\u001b[1;32m   1418\u001b[0m             \u001b[0melement\u001b[0m\u001b[0;34m=\u001b[0m\u001b[0melement\u001b[0m\u001b[0;34m,\u001b[0m\u001b[0;34m\u001b[0m\u001b[0;34m\u001b[0m\u001b[0m\n",
      "\u001b[0;32m~/.local/lib/python3.9/site-packages/seaborn/distributions.py\u001b[0m in \u001b[0;36mplot_univariate_histogram\u001b[0;34m(self, multiple, element, fill, common_norm, common_bins, shrink, kde, kde_kws, color, legend, line_kws, estimate_kws, **plot_kws)\u001b[0m\n\u001b[1;32m    569\u001b[0m \u001b[0;34m\u001b[0m\u001b[0m\n\u001b[1;32m    570\u001b[0m                 \u001b[0mplot_func\u001b[0m \u001b[0;34m=\u001b[0m \u001b[0max\u001b[0m\u001b[0;34m.\u001b[0m\u001b[0mbar\u001b[0m \u001b[0;32mif\u001b[0m \u001b[0mself\u001b[0m\u001b[0;34m.\u001b[0m\u001b[0mdata_variable\u001b[0m \u001b[0;34m==\u001b[0m \u001b[0;34m\"x\"\u001b[0m \u001b[0;32melse\u001b[0m \u001b[0max\u001b[0m\u001b[0;34m.\u001b[0m\u001b[0mbarh\u001b[0m\u001b[0;34m\u001b[0m\u001b[0;34m\u001b[0m\u001b[0m\n\u001b[0;32m--> 571\u001b[0;31m                 artists = plot_func(\n\u001b[0m\u001b[1;32m    572\u001b[0m                     \u001b[0mhist\u001b[0m\u001b[0;34m[\u001b[0m\u001b[0;34m\"edges\"\u001b[0m\u001b[0;34m]\u001b[0m\u001b[0;34m,\u001b[0m\u001b[0;34m\u001b[0m\u001b[0;34m\u001b[0m\u001b[0m\n\u001b[1;32m    573\u001b[0m                     \u001b[0mhist\u001b[0m\u001b[0;34m[\u001b[0m\u001b[0;34m\"heights\"\u001b[0m\u001b[0;34m]\u001b[0m \u001b[0;34m-\u001b[0m \u001b[0mbottom\u001b[0m\u001b[0;34m,\u001b[0m\u001b[0;34m\u001b[0m\u001b[0;34m\u001b[0m\u001b[0m\n",
      "\u001b[0;32m~/.local/lib/python3.9/site-packages/matplotlib/__init__.py\u001b[0m in \u001b[0;36minner\u001b[0;34m(ax, data, *args, **kwargs)\u001b[0m\n\u001b[1;32m   1463\u001b[0m     \u001b[0;32mdef\u001b[0m \u001b[0minner\u001b[0m\u001b[0;34m(\u001b[0m\u001b[0max\u001b[0m\u001b[0;34m,\u001b[0m \u001b[0;34m*\u001b[0m\u001b[0margs\u001b[0m\u001b[0;34m,\u001b[0m \u001b[0mdata\u001b[0m\u001b[0;34m=\u001b[0m\u001b[0;32mNone\u001b[0m\u001b[0;34m,\u001b[0m \u001b[0;34m**\u001b[0m\u001b[0mkwargs\u001b[0m\u001b[0;34m)\u001b[0m\u001b[0;34m:\u001b[0m\u001b[0;34m\u001b[0m\u001b[0;34m\u001b[0m\u001b[0m\n\u001b[1;32m   1464\u001b[0m         \u001b[0;32mif\u001b[0m \u001b[0mdata\u001b[0m \u001b[0;32mis\u001b[0m \u001b[0;32mNone\u001b[0m\u001b[0;34m:\u001b[0m\u001b[0;34m\u001b[0m\u001b[0;34m\u001b[0m\u001b[0m\n\u001b[0;32m-> 1465\u001b[0;31m             \u001b[0;32mreturn\u001b[0m \u001b[0mfunc\u001b[0m\u001b[0;34m(\u001b[0m\u001b[0max\u001b[0m\u001b[0;34m,\u001b[0m \u001b[0;34m*\u001b[0m\u001b[0mmap\u001b[0m\u001b[0;34m(\u001b[0m\u001b[0msanitize_sequence\u001b[0m\u001b[0;34m,\u001b[0m \u001b[0margs\u001b[0m\u001b[0;34m)\u001b[0m\u001b[0;34m,\u001b[0m \u001b[0;34m**\u001b[0m\u001b[0mkwargs\u001b[0m\u001b[0;34m)\u001b[0m\u001b[0;34m\u001b[0m\u001b[0;34m\u001b[0m\u001b[0m\n\u001b[0m\u001b[1;32m   1466\u001b[0m \u001b[0;34m\u001b[0m\u001b[0m\n\u001b[1;32m   1467\u001b[0m         \u001b[0mbound\u001b[0m \u001b[0;34m=\u001b[0m \u001b[0mnew_sig\u001b[0m\u001b[0;34m.\u001b[0m\u001b[0mbind\u001b[0m\u001b[0;34m(\u001b[0m\u001b[0max\u001b[0m\u001b[0;34m,\u001b[0m \u001b[0;34m*\u001b[0m\u001b[0margs\u001b[0m\u001b[0;34m,\u001b[0m \u001b[0;34m**\u001b[0m\u001b[0mkwargs\u001b[0m\u001b[0;34m)\u001b[0m\u001b[0;34m\u001b[0m\u001b[0;34m\u001b[0m\u001b[0m\n",
      "\u001b[0;32m~/.local/lib/python3.9/site-packages/matplotlib/axes/_axes.py\u001b[0m in \u001b[0;36mbar\u001b[0;34m(self, x, height, width, bottom, align, **kwargs)\u001b[0m\n\u001b[1;32m   2535\u001b[0m             \u001b[0;32melse\u001b[0m\u001b[0;34m:\u001b[0m  \u001b[0;31m# horizontal\u001b[0m\u001b[0;34m\u001b[0m\u001b[0;34m\u001b[0m\u001b[0m\n\u001b[1;32m   2536\u001b[0m                 \u001b[0mr\u001b[0m\u001b[0;34m.\u001b[0m\u001b[0msticky_edges\u001b[0m\u001b[0;34m.\u001b[0m\u001b[0mx\u001b[0m\u001b[0;34m.\u001b[0m\u001b[0mappend\u001b[0m\u001b[0;34m(\u001b[0m\u001b[0ml\u001b[0m\u001b[0;34m)\u001b[0m\u001b[0;34m\u001b[0m\u001b[0;34m\u001b[0m\u001b[0m\n\u001b[0;32m-> 2537\u001b[0;31m             \u001b[0mself\u001b[0m\u001b[0;34m.\u001b[0m\u001b[0madd_patch\u001b[0m\u001b[0;34m(\u001b[0m\u001b[0mr\u001b[0m\u001b[0;34m)\u001b[0m\u001b[0;34m\u001b[0m\u001b[0;34m\u001b[0m\u001b[0m\n\u001b[0m\u001b[1;32m   2538\u001b[0m             \u001b[0mpatches\u001b[0m\u001b[0;34m.\u001b[0m\u001b[0mappend\u001b[0m\u001b[0;34m(\u001b[0m\u001b[0mr\u001b[0m\u001b[0;34m)\u001b[0m\u001b[0;34m\u001b[0m\u001b[0;34m\u001b[0m\u001b[0m\n\u001b[1;32m   2539\u001b[0m \u001b[0;34m\u001b[0m\u001b[0m\n",
      "\u001b[0;32m~/.local/lib/python3.9/site-packages/matplotlib/axes/_base.py\u001b[0m in \u001b[0;36madd_patch\u001b[0;34m(self, p)\u001b[0m\n\u001b[1;32m   2382\u001b[0m         \u001b[0;32mif\u001b[0m \u001b[0mp\u001b[0m\u001b[0;34m.\u001b[0m\u001b[0mget_clip_path\u001b[0m\u001b[0;34m(\u001b[0m\u001b[0;34m)\u001b[0m \u001b[0;32mis\u001b[0m \u001b[0;32mNone\u001b[0m\u001b[0;34m:\u001b[0m\u001b[0;34m\u001b[0m\u001b[0;34m\u001b[0m\u001b[0m\n\u001b[1;32m   2383\u001b[0m             \u001b[0mp\u001b[0m\u001b[0;34m.\u001b[0m\u001b[0mset_clip_path\u001b[0m\u001b[0;34m(\u001b[0m\u001b[0mself\u001b[0m\u001b[0;34m.\u001b[0m\u001b[0mpatch\u001b[0m\u001b[0;34m)\u001b[0m\u001b[0;34m\u001b[0m\u001b[0;34m\u001b[0m\u001b[0m\n\u001b[0;32m-> 2384\u001b[0;31m         \u001b[0mself\u001b[0m\u001b[0;34m.\u001b[0m\u001b[0m_update_patch_limits\u001b[0m\u001b[0;34m(\u001b[0m\u001b[0mp\u001b[0m\u001b[0;34m)\u001b[0m\u001b[0;34m\u001b[0m\u001b[0;34m\u001b[0m\u001b[0m\n\u001b[0m\u001b[1;32m   2385\u001b[0m         \u001b[0mself\u001b[0m\u001b[0;34m.\u001b[0m\u001b[0m_children\u001b[0m\u001b[0;34m.\u001b[0m\u001b[0mappend\u001b[0m\u001b[0;34m(\u001b[0m\u001b[0mp\u001b[0m\u001b[0;34m)\u001b[0m\u001b[0;34m\u001b[0m\u001b[0;34m\u001b[0m\u001b[0m\n\u001b[1;32m   2386\u001b[0m         \u001b[0mp\u001b[0m\u001b[0;34m.\u001b[0m\u001b[0m_remove_method\u001b[0m \u001b[0;34m=\u001b[0m \u001b[0mself\u001b[0m\u001b[0;34m.\u001b[0m\u001b[0m_children\u001b[0m\u001b[0;34m.\u001b[0m\u001b[0mremove\u001b[0m\u001b[0;34m\u001b[0m\u001b[0;34m\u001b[0m\u001b[0m\n",
      "\u001b[0;32m~/.local/lib/python3.9/site-packages/matplotlib/axes/_base.py\u001b[0m in \u001b[0;36m_update_patch_limits\u001b[0;34m(self, patch)\u001b[0m\n\u001b[1;32m   2424\u001b[0m                 \u001b[0mupdatey\u001b[0m \u001b[0;34m=\u001b[0m \u001b[0;32mFalse\u001b[0m\u001b[0;34m\u001b[0m\u001b[0;34m\u001b[0m\u001b[0m\n\u001b[1;32m   2425\u001b[0m         \u001b[0mtrf_to_data\u001b[0m \u001b[0;34m=\u001b[0m \u001b[0mpatch_trf\u001b[0m \u001b[0;34m-\u001b[0m \u001b[0mself\u001b[0m\u001b[0;34m.\u001b[0m\u001b[0mtransData\u001b[0m\u001b[0;34m\u001b[0m\u001b[0;34m\u001b[0m\u001b[0m\n\u001b[0;32m-> 2426\u001b[0;31m         \u001b[0mxys\u001b[0m \u001b[0;34m=\u001b[0m \u001b[0mtrf_to_data\u001b[0m\u001b[0;34m.\u001b[0m\u001b[0mtransform\u001b[0m\u001b[0;34m(\u001b[0m\u001b[0mvertices\u001b[0m\u001b[0;34m)\u001b[0m\u001b[0;34m\u001b[0m\u001b[0;34m\u001b[0m\u001b[0m\n\u001b[0m\u001b[1;32m   2427\u001b[0m         \u001b[0mself\u001b[0m\u001b[0;34m.\u001b[0m\u001b[0mupdate_datalim\u001b[0m\u001b[0;34m(\u001b[0m\u001b[0mxys\u001b[0m\u001b[0;34m,\u001b[0m \u001b[0mupdatex\u001b[0m\u001b[0;34m=\u001b[0m\u001b[0mupdatex\u001b[0m\u001b[0;34m,\u001b[0m \u001b[0mupdatey\u001b[0m\u001b[0;34m=\u001b[0m\u001b[0mupdatey\u001b[0m\u001b[0;34m)\u001b[0m\u001b[0;34m\u001b[0m\u001b[0;34m\u001b[0m\u001b[0m\n\u001b[1;32m   2428\u001b[0m \u001b[0;34m\u001b[0m\u001b[0m\n",
      "\u001b[0;32m~/.local/lib/python3.9/site-packages/matplotlib/transforms.py\u001b[0m in \u001b[0;36mtransform\u001b[0;34m(self, values)\u001b[0m\n\u001b[1;32m   1493\u001b[0m \u001b[0;34m\u001b[0m\u001b[0m\n\u001b[1;32m   1494\u001b[0m         \u001b[0;31m# Transform the values\u001b[0m\u001b[0;34m\u001b[0m\u001b[0;34m\u001b[0m\u001b[0;34m\u001b[0m\u001b[0m\n\u001b[0;32m-> 1495\u001b[0;31m         \u001b[0mres\u001b[0m \u001b[0;34m=\u001b[0m \u001b[0mself\u001b[0m\u001b[0;34m.\u001b[0m\u001b[0mtransform_affine\u001b[0m\u001b[0;34m(\u001b[0m\u001b[0mself\u001b[0m\u001b[0;34m.\u001b[0m\u001b[0mtransform_non_affine\u001b[0m\u001b[0;34m(\u001b[0m\u001b[0mvalues\u001b[0m\u001b[0;34m)\u001b[0m\u001b[0;34m)\u001b[0m\u001b[0;34m\u001b[0m\u001b[0;34m\u001b[0m\u001b[0m\n\u001b[0m\u001b[1;32m   1496\u001b[0m \u001b[0;34m\u001b[0m\u001b[0m\n\u001b[1;32m   1497\u001b[0m         \u001b[0;31m# Convert the result back to the shape of the input values.\u001b[0m\u001b[0;34m\u001b[0m\u001b[0;34m\u001b[0m\u001b[0;34m\u001b[0m\u001b[0m\n",
      "\u001b[0;32m~/.local/lib/python3.9/site-packages/matplotlib/_api/deprecation.py\u001b[0m in \u001b[0;36mwrapper\u001b[0;34m(*args, **kwargs)\u001b[0m\n\u001b[1;32m    295\u001b[0m                 f\"for the old name will be dropped %(removal)s.\")\n\u001b[1;32m    296\u001b[0m             \u001b[0mkwargs\u001b[0m\u001b[0;34m[\u001b[0m\u001b[0mnew\u001b[0m\u001b[0;34m]\u001b[0m \u001b[0;34m=\u001b[0m \u001b[0mkwargs\u001b[0m\u001b[0;34m.\u001b[0m\u001b[0mpop\u001b[0m\u001b[0;34m(\u001b[0m\u001b[0mold\u001b[0m\u001b[0;34m)\u001b[0m\u001b[0;34m\u001b[0m\u001b[0;34m\u001b[0m\u001b[0m\n\u001b[0;32m--> 297\u001b[0;31m         \u001b[0;32mreturn\u001b[0m \u001b[0mfunc\u001b[0m\u001b[0;34m(\u001b[0m\u001b[0;34m*\u001b[0m\u001b[0margs\u001b[0m\u001b[0;34m,\u001b[0m \u001b[0;34m**\u001b[0m\u001b[0mkwargs\u001b[0m\u001b[0;34m)\u001b[0m\u001b[0;34m\u001b[0m\u001b[0;34m\u001b[0m\u001b[0m\n\u001b[0m\u001b[1;32m    298\u001b[0m \u001b[0;34m\u001b[0m\u001b[0m\n\u001b[1;32m    299\u001b[0m     \u001b[0;31m# wrapper() must keep the same documented signature as func(): if we\u001b[0m\u001b[0;34m\u001b[0m\u001b[0;34m\u001b[0m\u001b[0;34m\u001b[0m\u001b[0m\n",
      "\u001b[0;32m~/.local/lib/python3.9/site-packages/matplotlib/transforms.py\u001b[0m in \u001b[0;36mtransform_affine\u001b[0;34m(self, values)\u001b[0m\n\u001b[1;32m   2407\u001b[0m     \u001b[0;32mdef\u001b[0m \u001b[0mtransform_affine\u001b[0m\u001b[0;34m(\u001b[0m\u001b[0mself\u001b[0m\u001b[0;34m,\u001b[0m \u001b[0mvalues\u001b[0m\u001b[0;34m)\u001b[0m\u001b[0;34m:\u001b[0m\u001b[0;34m\u001b[0m\u001b[0;34m\u001b[0m\u001b[0m\n\u001b[1;32m   2408\u001b[0m         \u001b[0;31m# docstring inherited\u001b[0m\u001b[0;34m\u001b[0m\u001b[0;34m\u001b[0m\u001b[0;34m\u001b[0m\u001b[0m\n\u001b[0;32m-> 2409\u001b[0;31m         \u001b[0;32mreturn\u001b[0m \u001b[0mself\u001b[0m\u001b[0;34m.\u001b[0m\u001b[0mget_affine\u001b[0m\u001b[0;34m(\u001b[0m\u001b[0;34m)\u001b[0m\u001b[0;34m.\u001b[0m\u001b[0mtransform\u001b[0m\u001b[0;34m(\u001b[0m\u001b[0mvalues\u001b[0m\u001b[0;34m)\u001b[0m\u001b[0;34m\u001b[0m\u001b[0;34m\u001b[0m\u001b[0m\n\u001b[0m\u001b[1;32m   2410\u001b[0m \u001b[0;34m\u001b[0m\u001b[0m\n\u001b[1;32m   2411\u001b[0m     \u001b[0;34m@\u001b[0m\u001b[0m_api\u001b[0m\u001b[0;34m.\u001b[0m\u001b[0mrename_parameter\u001b[0m\u001b[0;34m(\u001b[0m\u001b[0;34m\"3.8\"\u001b[0m\u001b[0;34m,\u001b[0m \u001b[0;34m\"points\"\u001b[0m\u001b[0;34m,\u001b[0m \u001b[0;34m\"values\"\u001b[0m\u001b[0;34m)\u001b[0m\u001b[0;34m\u001b[0m\u001b[0;34m\u001b[0m\u001b[0m\n",
      "\u001b[0;32m~/.local/lib/python3.9/site-packages/matplotlib/transforms.py\u001b[0m in \u001b[0;36mget_affine\u001b[0;34m(self)\u001b[0m\n\u001b[1;32m   2435\u001b[0m         \u001b[0;32melse\u001b[0m\u001b[0;34m:\u001b[0m\u001b[0;34m\u001b[0m\u001b[0;34m\u001b[0m\u001b[0m\n\u001b[1;32m   2436\u001b[0m             return Affine2D(np.dot(self._b.get_affine().get_matrix(),\n\u001b[0;32m-> 2437\u001b[0;31m                                    self._a.get_affine().get_matrix()))\n\u001b[0m\u001b[1;32m   2438\u001b[0m \u001b[0;34m\u001b[0m\u001b[0m\n\u001b[1;32m   2439\u001b[0m     \u001b[0;32mdef\u001b[0m \u001b[0minverted\u001b[0m\u001b[0;34m(\u001b[0m\u001b[0mself\u001b[0m\u001b[0;34m)\u001b[0m\u001b[0;34m:\u001b[0m\u001b[0;34m\u001b[0m\u001b[0;34m\u001b[0m\u001b[0m\n",
      "\u001b[0;32m~/.local/lib/python3.9/site-packages/matplotlib/transforms.py\u001b[0m in \u001b[0;36mget_matrix\u001b[0;34m(self)\u001b[0m\n\u001b[1;32m   2593\u001b[0m         \u001b[0;31m# docstring inherited\u001b[0m\u001b[0;34m\u001b[0m\u001b[0;34m\u001b[0m\u001b[0;34m\u001b[0m\u001b[0m\n\u001b[1;32m   2594\u001b[0m         \u001b[0;32mif\u001b[0m \u001b[0mself\u001b[0m\u001b[0;34m.\u001b[0m\u001b[0m_invalid\u001b[0m\u001b[0;34m:\u001b[0m\u001b[0;34m\u001b[0m\u001b[0;34m\u001b[0m\u001b[0m\n\u001b[0;32m-> 2595\u001b[0;31m             \u001b[0moutl\u001b[0m\u001b[0;34m,\u001b[0m \u001b[0moutb\u001b[0m\u001b[0;34m,\u001b[0m \u001b[0moutw\u001b[0m\u001b[0;34m,\u001b[0m \u001b[0mouth\u001b[0m \u001b[0;34m=\u001b[0m \u001b[0mself\u001b[0m\u001b[0;34m.\u001b[0m\u001b[0m_boxout\u001b[0m\u001b[0;34m.\u001b[0m\u001b[0mbounds\u001b[0m\u001b[0;34m\u001b[0m\u001b[0;34m\u001b[0m\u001b[0m\n\u001b[0m\u001b[1;32m   2596\u001b[0m             \u001b[0;32mif\u001b[0m \u001b[0mDEBUG\u001b[0m \u001b[0;32mand\u001b[0m \u001b[0;34m(\u001b[0m\u001b[0moutw\u001b[0m \u001b[0;34m==\u001b[0m \u001b[0;36m0\u001b[0m \u001b[0;32mor\u001b[0m \u001b[0mouth\u001b[0m \u001b[0;34m==\u001b[0m \u001b[0;36m0\u001b[0m\u001b[0;34m)\u001b[0m\u001b[0;34m:\u001b[0m\u001b[0;34m\u001b[0m\u001b[0;34m\u001b[0m\u001b[0m\n\u001b[1;32m   2597\u001b[0m                 \u001b[0;32mraise\u001b[0m \u001b[0mValueError\u001b[0m\u001b[0;34m(\u001b[0m\u001b[0;34m\"Transforming to a singular bounding box.\"\u001b[0m\u001b[0;34m)\u001b[0m\u001b[0;34m\u001b[0m\u001b[0;34m\u001b[0m\u001b[0m\n",
      "\u001b[0;32m~/.local/lib/python3.9/site-packages/matplotlib/transforms.py\u001b[0m in \u001b[0;36mbounds\u001b[0;34m(self)\u001b[0m\n\u001b[1;32m    369\u001b[0m     \u001b[0;32mdef\u001b[0m \u001b[0mbounds\u001b[0m\u001b[0;34m(\u001b[0m\u001b[0mself\u001b[0m\u001b[0;34m)\u001b[0m\u001b[0;34m:\u001b[0m\u001b[0;34m\u001b[0m\u001b[0;34m\u001b[0m\u001b[0m\n\u001b[1;32m    370\u001b[0m         \u001b[0;34m\"\"\"Return (:attr:`x0`, :attr:`y0`, :attr:`width`, :attr:`height`).\"\"\"\u001b[0m\u001b[0;34m\u001b[0m\u001b[0;34m\u001b[0m\u001b[0m\n\u001b[0;32m--> 371\u001b[0;31m         \u001b[0;34m(\u001b[0m\u001b[0mx0\u001b[0m\u001b[0;34m,\u001b[0m \u001b[0my0\u001b[0m\u001b[0;34m)\u001b[0m\u001b[0;34m,\u001b[0m \u001b[0;34m(\u001b[0m\u001b[0mx1\u001b[0m\u001b[0;34m,\u001b[0m \u001b[0my1\u001b[0m\u001b[0;34m)\u001b[0m \u001b[0;34m=\u001b[0m \u001b[0mself\u001b[0m\u001b[0;34m.\u001b[0m\u001b[0mget_points\u001b[0m\u001b[0;34m(\u001b[0m\u001b[0;34m)\u001b[0m\u001b[0;34m\u001b[0m\u001b[0;34m\u001b[0m\u001b[0m\n\u001b[0m\u001b[1;32m    372\u001b[0m         \u001b[0;32mreturn\u001b[0m \u001b[0;34m(\u001b[0m\u001b[0mx0\u001b[0m\u001b[0;34m,\u001b[0m \u001b[0my0\u001b[0m\u001b[0;34m,\u001b[0m \u001b[0mx1\u001b[0m \u001b[0;34m-\u001b[0m \u001b[0mx0\u001b[0m\u001b[0;34m,\u001b[0m \u001b[0my1\u001b[0m \u001b[0;34m-\u001b[0m \u001b[0my0\u001b[0m\u001b[0;34m)\u001b[0m\u001b[0;34m\u001b[0m\u001b[0;34m\u001b[0m\u001b[0m\n\u001b[1;32m    373\u001b[0m \u001b[0;34m\u001b[0m\u001b[0m\n",
      "\u001b[0;31mKeyboardInterrupt\u001b[0m: "
     ]
    },
    {
     "name": "stdout",
     "output_type": "stream",
     "text": [
      "Error in callback <function _draw_all_if_interactive at 0x7f2947863ca0> (for post_execute):\n"
     ]
    },
    {
     "ename": "KeyboardInterrupt",
     "evalue": "",
     "output_type": "error",
     "traceback": [
      "\u001b[0;31m---------------------------------------------------------------------------\u001b[0m",
      "\u001b[0;31mKeyboardInterrupt\u001b[0m                         Traceback (most recent call last)",
      "\u001b[0;32m~/.local/lib/python3.9/site-packages/matplotlib/pyplot.py\u001b[0m in \u001b[0;36m_draw_all_if_interactive\u001b[0;34m()\u001b[0m\n\u001b[1;32m    195\u001b[0m \u001b[0;32mdef\u001b[0m \u001b[0m_draw_all_if_interactive\u001b[0m\u001b[0;34m(\u001b[0m\u001b[0;34m)\u001b[0m \u001b[0;34m->\u001b[0m \u001b[0;32mNone\u001b[0m\u001b[0;34m:\u001b[0m\u001b[0;34m\u001b[0m\u001b[0;34m\u001b[0m\u001b[0m\n\u001b[1;32m    196\u001b[0m     \u001b[0;32mif\u001b[0m \u001b[0mmatplotlib\u001b[0m\u001b[0;34m.\u001b[0m\u001b[0mis_interactive\u001b[0m\u001b[0;34m(\u001b[0m\u001b[0;34m)\u001b[0m\u001b[0;34m:\u001b[0m\u001b[0;34m\u001b[0m\u001b[0;34m\u001b[0m\u001b[0m\n\u001b[0;32m--> 197\u001b[0;31m         \u001b[0mdraw_all\u001b[0m\u001b[0;34m(\u001b[0m\u001b[0;34m)\u001b[0m\u001b[0;34m\u001b[0m\u001b[0;34m\u001b[0m\u001b[0m\n\u001b[0m\u001b[1;32m    198\u001b[0m \u001b[0;34m\u001b[0m\u001b[0m\n\u001b[1;32m    199\u001b[0m \u001b[0;34m\u001b[0m\u001b[0m\n",
      "\u001b[0;32m~/.local/lib/python3.9/site-packages/matplotlib/_pylab_helpers.py\u001b[0m in \u001b[0;36mdraw_all\u001b[0;34m(cls, force)\u001b[0m\n\u001b[1;32m    130\u001b[0m         \u001b[0;32mfor\u001b[0m \u001b[0mmanager\u001b[0m \u001b[0;32min\u001b[0m \u001b[0mcls\u001b[0m\u001b[0;34m.\u001b[0m\u001b[0mget_all_fig_managers\u001b[0m\u001b[0;34m(\u001b[0m\u001b[0;34m)\u001b[0m\u001b[0;34m:\u001b[0m\u001b[0;34m\u001b[0m\u001b[0;34m\u001b[0m\u001b[0m\n\u001b[1;32m    131\u001b[0m             \u001b[0;32mif\u001b[0m \u001b[0mforce\u001b[0m \u001b[0;32mor\u001b[0m \u001b[0mmanager\u001b[0m\u001b[0;34m.\u001b[0m\u001b[0mcanvas\u001b[0m\u001b[0;34m.\u001b[0m\u001b[0mfigure\u001b[0m\u001b[0;34m.\u001b[0m\u001b[0mstale\u001b[0m\u001b[0;34m:\u001b[0m\u001b[0;34m\u001b[0m\u001b[0;34m\u001b[0m\u001b[0m\n\u001b[0;32m--> 132\u001b[0;31m                 \u001b[0mmanager\u001b[0m\u001b[0;34m.\u001b[0m\u001b[0mcanvas\u001b[0m\u001b[0;34m.\u001b[0m\u001b[0mdraw_idle\u001b[0m\u001b[0;34m(\u001b[0m\u001b[0;34m)\u001b[0m\u001b[0;34m\u001b[0m\u001b[0;34m\u001b[0m\u001b[0m\n\u001b[0m\u001b[1;32m    133\u001b[0m \u001b[0;34m\u001b[0m\u001b[0m\n\u001b[1;32m    134\u001b[0m \u001b[0;34m\u001b[0m\u001b[0m\n",
      "\u001b[0;32m~/.local/lib/python3.9/site-packages/matplotlib/backend_bases.py\u001b[0m in \u001b[0;36mdraw_idle\u001b[0;34m(self, *args, **kwargs)\u001b[0m\n\u001b[1;32m   1891\u001b[0m         \u001b[0;32mif\u001b[0m \u001b[0;32mnot\u001b[0m \u001b[0mself\u001b[0m\u001b[0;34m.\u001b[0m\u001b[0m_is_idle_drawing\u001b[0m\u001b[0;34m:\u001b[0m\u001b[0;34m\u001b[0m\u001b[0;34m\u001b[0m\u001b[0m\n\u001b[1;32m   1892\u001b[0m             \u001b[0;32mwith\u001b[0m \u001b[0mself\u001b[0m\u001b[0;34m.\u001b[0m\u001b[0m_idle_draw_cntx\u001b[0m\u001b[0;34m(\u001b[0m\u001b[0;34m)\u001b[0m\u001b[0;34m:\u001b[0m\u001b[0;34m\u001b[0m\u001b[0;34m\u001b[0m\u001b[0m\n\u001b[0;32m-> 1893\u001b[0;31m                 \u001b[0mself\u001b[0m\u001b[0;34m.\u001b[0m\u001b[0mdraw\u001b[0m\u001b[0;34m(\u001b[0m\u001b[0;34m*\u001b[0m\u001b[0margs\u001b[0m\u001b[0;34m,\u001b[0m \u001b[0;34m**\u001b[0m\u001b[0mkwargs\u001b[0m\u001b[0;34m)\u001b[0m\u001b[0;34m\u001b[0m\u001b[0;34m\u001b[0m\u001b[0m\n\u001b[0m\u001b[1;32m   1894\u001b[0m \u001b[0;34m\u001b[0m\u001b[0m\n\u001b[1;32m   1895\u001b[0m     \u001b[0;34m@\u001b[0m\u001b[0mproperty\u001b[0m\u001b[0;34m\u001b[0m\u001b[0;34m\u001b[0m\u001b[0m\n",
      "\u001b[0;32m~/.local/lib/python3.9/site-packages/matplotlib/backends/backend_agg.py\u001b[0m in \u001b[0;36mdraw\u001b[0;34m(self)\u001b[0m\n\u001b[1;32m    386\u001b[0m         with (self.toolbar._wait_cursor_for_draw_cm() if self.toolbar\n\u001b[1;32m    387\u001b[0m               else nullcontext()):\n\u001b[0;32m--> 388\u001b[0;31m             \u001b[0mself\u001b[0m\u001b[0;34m.\u001b[0m\u001b[0mfigure\u001b[0m\u001b[0;34m.\u001b[0m\u001b[0mdraw\u001b[0m\u001b[0;34m(\u001b[0m\u001b[0mself\u001b[0m\u001b[0;34m.\u001b[0m\u001b[0mrenderer\u001b[0m\u001b[0;34m)\u001b[0m\u001b[0;34m\u001b[0m\u001b[0;34m\u001b[0m\u001b[0m\n\u001b[0m\u001b[1;32m    389\u001b[0m             \u001b[0;31m# A GUI class may be need to update a window using this draw, so\u001b[0m\u001b[0;34m\u001b[0m\u001b[0;34m\u001b[0m\u001b[0;34m\u001b[0m\u001b[0m\n\u001b[1;32m    390\u001b[0m             \u001b[0;31m# don't forget to call the superclass.\u001b[0m\u001b[0;34m\u001b[0m\u001b[0;34m\u001b[0m\u001b[0;34m\u001b[0m\u001b[0m\n",
      "\u001b[0;32m~/.local/lib/python3.9/site-packages/matplotlib/artist.py\u001b[0m in \u001b[0;36mdraw_wrapper\u001b[0;34m(artist, renderer, *args, **kwargs)\u001b[0m\n\u001b[1;32m     93\u001b[0m     \u001b[0;34m@\u001b[0m\u001b[0mwraps\u001b[0m\u001b[0;34m(\u001b[0m\u001b[0mdraw\u001b[0m\u001b[0;34m)\u001b[0m\u001b[0;34m\u001b[0m\u001b[0;34m\u001b[0m\u001b[0m\n\u001b[1;32m     94\u001b[0m     \u001b[0;32mdef\u001b[0m \u001b[0mdraw_wrapper\u001b[0m\u001b[0;34m(\u001b[0m\u001b[0martist\u001b[0m\u001b[0;34m,\u001b[0m \u001b[0mrenderer\u001b[0m\u001b[0;34m,\u001b[0m \u001b[0;34m*\u001b[0m\u001b[0margs\u001b[0m\u001b[0;34m,\u001b[0m \u001b[0;34m**\u001b[0m\u001b[0mkwargs\u001b[0m\u001b[0;34m)\u001b[0m\u001b[0;34m:\u001b[0m\u001b[0;34m\u001b[0m\u001b[0;34m\u001b[0m\u001b[0m\n\u001b[0;32m---> 95\u001b[0;31m         \u001b[0mresult\u001b[0m \u001b[0;34m=\u001b[0m \u001b[0mdraw\u001b[0m\u001b[0;34m(\u001b[0m\u001b[0martist\u001b[0m\u001b[0;34m,\u001b[0m \u001b[0mrenderer\u001b[0m\u001b[0;34m,\u001b[0m \u001b[0;34m*\u001b[0m\u001b[0margs\u001b[0m\u001b[0;34m,\u001b[0m \u001b[0;34m**\u001b[0m\u001b[0mkwargs\u001b[0m\u001b[0;34m)\u001b[0m\u001b[0;34m\u001b[0m\u001b[0;34m\u001b[0m\u001b[0m\n\u001b[0m\u001b[1;32m     96\u001b[0m         \u001b[0;32mif\u001b[0m \u001b[0mrenderer\u001b[0m\u001b[0;34m.\u001b[0m\u001b[0m_rasterizing\u001b[0m\u001b[0;34m:\u001b[0m\u001b[0;34m\u001b[0m\u001b[0;34m\u001b[0m\u001b[0m\n\u001b[1;32m     97\u001b[0m             \u001b[0mrenderer\u001b[0m\u001b[0;34m.\u001b[0m\u001b[0mstop_rasterizing\u001b[0m\u001b[0;34m(\u001b[0m\u001b[0;34m)\u001b[0m\u001b[0;34m\u001b[0m\u001b[0;34m\u001b[0m\u001b[0m\n",
      "\u001b[0;32m~/.local/lib/python3.9/site-packages/matplotlib/artist.py\u001b[0m in \u001b[0;36mdraw_wrapper\u001b[0;34m(artist, renderer)\u001b[0m\n\u001b[1;32m     70\u001b[0m                 \u001b[0mrenderer\u001b[0m\u001b[0;34m.\u001b[0m\u001b[0mstart_filter\u001b[0m\u001b[0;34m(\u001b[0m\u001b[0;34m)\u001b[0m\u001b[0;34m\u001b[0m\u001b[0;34m\u001b[0m\u001b[0m\n\u001b[1;32m     71\u001b[0m \u001b[0;34m\u001b[0m\u001b[0m\n\u001b[0;32m---> 72\u001b[0;31m             \u001b[0;32mreturn\u001b[0m \u001b[0mdraw\u001b[0m\u001b[0;34m(\u001b[0m\u001b[0martist\u001b[0m\u001b[0;34m,\u001b[0m \u001b[0mrenderer\u001b[0m\u001b[0;34m)\u001b[0m\u001b[0;34m\u001b[0m\u001b[0;34m\u001b[0m\u001b[0m\n\u001b[0m\u001b[1;32m     73\u001b[0m         \u001b[0;32mfinally\u001b[0m\u001b[0;34m:\u001b[0m\u001b[0;34m\u001b[0m\u001b[0;34m\u001b[0m\u001b[0m\n\u001b[1;32m     74\u001b[0m             \u001b[0;32mif\u001b[0m \u001b[0martist\u001b[0m\u001b[0;34m.\u001b[0m\u001b[0mget_agg_filter\u001b[0m\u001b[0;34m(\u001b[0m\u001b[0;34m)\u001b[0m \u001b[0;32mis\u001b[0m \u001b[0;32mnot\u001b[0m \u001b[0;32mNone\u001b[0m\u001b[0;34m:\u001b[0m\u001b[0;34m\u001b[0m\u001b[0;34m\u001b[0m\u001b[0m\n",
      "\u001b[0;32m~/.local/lib/python3.9/site-packages/matplotlib/figure.py\u001b[0m in \u001b[0;36mdraw\u001b[0;34m(self, renderer)\u001b[0m\n\u001b[1;32m   3152\u001b[0m \u001b[0;34m\u001b[0m\u001b[0m\n\u001b[1;32m   3153\u001b[0m                 \u001b[0mself\u001b[0m\u001b[0;34m.\u001b[0m\u001b[0mpatch\u001b[0m\u001b[0;34m.\u001b[0m\u001b[0mdraw\u001b[0m\u001b[0;34m(\u001b[0m\u001b[0mrenderer\u001b[0m\u001b[0;34m)\u001b[0m\u001b[0;34m\u001b[0m\u001b[0;34m\u001b[0m\u001b[0m\n\u001b[0;32m-> 3154\u001b[0;31m                 mimage._draw_list_compositing_images(\n\u001b[0m\u001b[1;32m   3155\u001b[0m                     renderer, self, artists, self.suppressComposite)\n\u001b[1;32m   3156\u001b[0m \u001b[0;34m\u001b[0m\u001b[0m\n",
      "\u001b[0;32m~/.local/lib/python3.9/site-packages/matplotlib/image.py\u001b[0m in \u001b[0;36m_draw_list_compositing_images\u001b[0;34m(renderer, parent, artists, suppress_composite)\u001b[0m\n\u001b[1;32m    130\u001b[0m     \u001b[0;32mif\u001b[0m \u001b[0mnot_composite\u001b[0m \u001b[0;32mor\u001b[0m \u001b[0;32mnot\u001b[0m \u001b[0mhas_images\u001b[0m\u001b[0;34m:\u001b[0m\u001b[0;34m\u001b[0m\u001b[0;34m\u001b[0m\u001b[0m\n\u001b[1;32m    131\u001b[0m         \u001b[0;32mfor\u001b[0m \u001b[0ma\u001b[0m \u001b[0;32min\u001b[0m \u001b[0martists\u001b[0m\u001b[0;34m:\u001b[0m\u001b[0;34m\u001b[0m\u001b[0;34m\u001b[0m\u001b[0m\n\u001b[0;32m--> 132\u001b[0;31m             \u001b[0ma\u001b[0m\u001b[0;34m.\u001b[0m\u001b[0mdraw\u001b[0m\u001b[0;34m(\u001b[0m\u001b[0mrenderer\u001b[0m\u001b[0;34m)\u001b[0m\u001b[0;34m\u001b[0m\u001b[0;34m\u001b[0m\u001b[0m\n\u001b[0m\u001b[1;32m    133\u001b[0m     \u001b[0;32melse\u001b[0m\u001b[0;34m:\u001b[0m\u001b[0;34m\u001b[0m\u001b[0;34m\u001b[0m\u001b[0m\n\u001b[1;32m    134\u001b[0m         \u001b[0;31m# Composite any adjacent images together\u001b[0m\u001b[0;34m\u001b[0m\u001b[0;34m\u001b[0m\u001b[0;34m\u001b[0m\u001b[0m\n",
      "\u001b[0;32m~/.local/lib/python3.9/site-packages/matplotlib/artist.py\u001b[0m in \u001b[0;36mdraw_wrapper\u001b[0;34m(artist, renderer)\u001b[0m\n\u001b[1;32m     70\u001b[0m                 \u001b[0mrenderer\u001b[0m\u001b[0;34m.\u001b[0m\u001b[0mstart_filter\u001b[0m\u001b[0;34m(\u001b[0m\u001b[0;34m)\u001b[0m\u001b[0;34m\u001b[0m\u001b[0;34m\u001b[0m\u001b[0m\n\u001b[1;32m     71\u001b[0m \u001b[0;34m\u001b[0m\u001b[0m\n\u001b[0;32m---> 72\u001b[0;31m             \u001b[0;32mreturn\u001b[0m \u001b[0mdraw\u001b[0m\u001b[0;34m(\u001b[0m\u001b[0martist\u001b[0m\u001b[0;34m,\u001b[0m \u001b[0mrenderer\u001b[0m\u001b[0;34m)\u001b[0m\u001b[0;34m\u001b[0m\u001b[0;34m\u001b[0m\u001b[0m\n\u001b[0m\u001b[1;32m     73\u001b[0m         \u001b[0;32mfinally\u001b[0m\u001b[0;34m:\u001b[0m\u001b[0;34m\u001b[0m\u001b[0;34m\u001b[0m\u001b[0m\n\u001b[1;32m     74\u001b[0m             \u001b[0;32mif\u001b[0m \u001b[0martist\u001b[0m\u001b[0;34m.\u001b[0m\u001b[0mget_agg_filter\u001b[0m\u001b[0;34m(\u001b[0m\u001b[0;34m)\u001b[0m \u001b[0;32mis\u001b[0m \u001b[0;32mnot\u001b[0m \u001b[0;32mNone\u001b[0m\u001b[0;34m:\u001b[0m\u001b[0;34m\u001b[0m\u001b[0;34m\u001b[0m\u001b[0m\n",
      "\u001b[0;32m~/.local/lib/python3.9/site-packages/matplotlib/axes/_base.py\u001b[0m in \u001b[0;36mdraw\u001b[0;34m(self, renderer)\u001b[0m\n\u001b[1;32m   3068\u001b[0m             \u001b[0m_draw_rasterized\u001b[0m\u001b[0;34m(\u001b[0m\u001b[0mself\u001b[0m\u001b[0;34m.\u001b[0m\u001b[0mfigure\u001b[0m\u001b[0;34m,\u001b[0m \u001b[0martists_rasterized\u001b[0m\u001b[0;34m,\u001b[0m \u001b[0mrenderer\u001b[0m\u001b[0;34m)\u001b[0m\u001b[0;34m\u001b[0m\u001b[0;34m\u001b[0m\u001b[0m\n\u001b[1;32m   3069\u001b[0m \u001b[0;34m\u001b[0m\u001b[0m\n\u001b[0;32m-> 3070\u001b[0;31m         mimage._draw_list_compositing_images(\n\u001b[0m\u001b[1;32m   3071\u001b[0m             renderer, self, artists, self.figure.suppressComposite)\n\u001b[1;32m   3072\u001b[0m \u001b[0;34m\u001b[0m\u001b[0m\n",
      "\u001b[0;32m~/.local/lib/python3.9/site-packages/matplotlib/image.py\u001b[0m in \u001b[0;36m_draw_list_compositing_images\u001b[0;34m(renderer, parent, artists, suppress_composite)\u001b[0m\n\u001b[1;32m    130\u001b[0m     \u001b[0;32mif\u001b[0m \u001b[0mnot_composite\u001b[0m \u001b[0;32mor\u001b[0m \u001b[0;32mnot\u001b[0m \u001b[0mhas_images\u001b[0m\u001b[0;34m:\u001b[0m\u001b[0;34m\u001b[0m\u001b[0;34m\u001b[0m\u001b[0m\n\u001b[1;32m    131\u001b[0m         \u001b[0;32mfor\u001b[0m \u001b[0ma\u001b[0m \u001b[0;32min\u001b[0m \u001b[0martists\u001b[0m\u001b[0;34m:\u001b[0m\u001b[0;34m\u001b[0m\u001b[0;34m\u001b[0m\u001b[0m\n\u001b[0;32m--> 132\u001b[0;31m             \u001b[0ma\u001b[0m\u001b[0;34m.\u001b[0m\u001b[0mdraw\u001b[0m\u001b[0;34m(\u001b[0m\u001b[0mrenderer\u001b[0m\u001b[0;34m)\u001b[0m\u001b[0;34m\u001b[0m\u001b[0;34m\u001b[0m\u001b[0m\n\u001b[0m\u001b[1;32m    133\u001b[0m     \u001b[0;32melse\u001b[0m\u001b[0;34m:\u001b[0m\u001b[0;34m\u001b[0m\u001b[0;34m\u001b[0m\u001b[0m\n\u001b[1;32m    134\u001b[0m         \u001b[0;31m# Composite any adjacent images together\u001b[0m\u001b[0;34m\u001b[0m\u001b[0;34m\u001b[0m\u001b[0;34m\u001b[0m\u001b[0m\n",
      "\u001b[0;32m~/.local/lib/python3.9/site-packages/matplotlib/artist.py\u001b[0m in \u001b[0;36mdraw_wrapper\u001b[0;34m(artist, renderer)\u001b[0m\n\u001b[1;32m     70\u001b[0m                 \u001b[0mrenderer\u001b[0m\u001b[0;34m.\u001b[0m\u001b[0mstart_filter\u001b[0m\u001b[0;34m(\u001b[0m\u001b[0;34m)\u001b[0m\u001b[0;34m\u001b[0m\u001b[0;34m\u001b[0m\u001b[0m\n\u001b[1;32m     71\u001b[0m \u001b[0;34m\u001b[0m\u001b[0m\n\u001b[0;32m---> 72\u001b[0;31m             \u001b[0;32mreturn\u001b[0m \u001b[0mdraw\u001b[0m\u001b[0;34m(\u001b[0m\u001b[0martist\u001b[0m\u001b[0;34m,\u001b[0m \u001b[0mrenderer\u001b[0m\u001b[0;34m)\u001b[0m\u001b[0;34m\u001b[0m\u001b[0;34m\u001b[0m\u001b[0m\n\u001b[0m\u001b[1;32m     73\u001b[0m         \u001b[0;32mfinally\u001b[0m\u001b[0;34m:\u001b[0m\u001b[0;34m\u001b[0m\u001b[0;34m\u001b[0m\u001b[0m\n\u001b[1;32m     74\u001b[0m             \u001b[0;32mif\u001b[0m \u001b[0martist\u001b[0m\u001b[0;34m.\u001b[0m\u001b[0mget_agg_filter\u001b[0m\u001b[0;34m(\u001b[0m\u001b[0;34m)\u001b[0m \u001b[0;32mis\u001b[0m \u001b[0;32mnot\u001b[0m \u001b[0;32mNone\u001b[0m\u001b[0;34m:\u001b[0m\u001b[0;34m\u001b[0m\u001b[0;34m\u001b[0m\u001b[0m\n",
      "\u001b[0;32m~/.local/lib/python3.9/site-packages/matplotlib/patches.py\u001b[0m in \u001b[0;36mdraw\u001b[0;34m(self, renderer)\u001b[0m\n\u001b[1;32m    586\u001b[0m         \u001b[0mtpath\u001b[0m \u001b[0;34m=\u001b[0m \u001b[0mtransform\u001b[0m\u001b[0;34m.\u001b[0m\u001b[0mtransform_path_non_affine\u001b[0m\u001b[0;34m(\u001b[0m\u001b[0mpath\u001b[0m\u001b[0;34m)\u001b[0m\u001b[0;34m\u001b[0m\u001b[0;34m\u001b[0m\u001b[0m\n\u001b[1;32m    587\u001b[0m         \u001b[0maffine\u001b[0m \u001b[0;34m=\u001b[0m \u001b[0mtransform\u001b[0m\u001b[0;34m.\u001b[0m\u001b[0mget_affine\u001b[0m\u001b[0;34m(\u001b[0m\u001b[0;34m)\u001b[0m\u001b[0;34m\u001b[0m\u001b[0;34m\u001b[0m\u001b[0m\n\u001b[0;32m--> 588\u001b[0;31m         self._draw_paths_with_artist_properties(\n\u001b[0m\u001b[1;32m    589\u001b[0m             \u001b[0mrenderer\u001b[0m\u001b[0;34m,\u001b[0m\u001b[0;34m\u001b[0m\u001b[0;34m\u001b[0m\u001b[0m\n\u001b[1;32m    590\u001b[0m             [(tpath, affine,\n",
      "\u001b[0;32m~/.local/lib/python3.9/site-packages/matplotlib/patches.py\u001b[0m in \u001b[0;36m_draw_paths_with_artist_properties\u001b[0;34m(self, renderer, draw_path_args_list)\u001b[0m\n\u001b[1;32m    571\u001b[0m \u001b[0;34m\u001b[0m\u001b[0m\n\u001b[1;32m    572\u001b[0m         \u001b[0;32mfor\u001b[0m \u001b[0mdraw_path_args\u001b[0m \u001b[0;32min\u001b[0m \u001b[0mdraw_path_args_list\u001b[0m\u001b[0;34m:\u001b[0m\u001b[0;34m\u001b[0m\u001b[0;34m\u001b[0m\u001b[0m\n\u001b[0;32m--> 573\u001b[0;31m             \u001b[0mrenderer\u001b[0m\u001b[0;34m.\u001b[0m\u001b[0mdraw_path\u001b[0m\u001b[0;34m(\u001b[0m\u001b[0mgc\u001b[0m\u001b[0;34m,\u001b[0m \u001b[0;34m*\u001b[0m\u001b[0mdraw_path_args\u001b[0m\u001b[0;34m)\u001b[0m\u001b[0;34m\u001b[0m\u001b[0;34m\u001b[0m\u001b[0m\n\u001b[0m\u001b[1;32m    574\u001b[0m \u001b[0;34m\u001b[0m\u001b[0m\n\u001b[1;32m    575\u001b[0m         \u001b[0mgc\u001b[0m\u001b[0;34m.\u001b[0m\u001b[0mrestore\u001b[0m\u001b[0;34m(\u001b[0m\u001b[0;34m)\u001b[0m\u001b[0;34m\u001b[0m\u001b[0;34m\u001b[0m\u001b[0m\n",
      "\u001b[0;32m~/.local/lib/python3.9/site-packages/matplotlib/backends/backend_agg.py\u001b[0m in \u001b[0;36mdraw_path\u001b[0;34m(self, gc, path, transform, rgbFace)\u001b[0m\n\u001b[1;32m    130\u001b[0m         \u001b[0;32melse\u001b[0m\u001b[0;34m:\u001b[0m\u001b[0;34m\u001b[0m\u001b[0;34m\u001b[0m\u001b[0m\n\u001b[1;32m    131\u001b[0m             \u001b[0;32mtry\u001b[0m\u001b[0;34m:\u001b[0m\u001b[0;34m\u001b[0m\u001b[0;34m\u001b[0m\u001b[0m\n\u001b[0;32m--> 132\u001b[0;31m                 \u001b[0mself\u001b[0m\u001b[0;34m.\u001b[0m\u001b[0m_renderer\u001b[0m\u001b[0;34m.\u001b[0m\u001b[0mdraw_path\u001b[0m\u001b[0;34m(\u001b[0m\u001b[0mgc\u001b[0m\u001b[0;34m,\u001b[0m \u001b[0mpath\u001b[0m\u001b[0;34m,\u001b[0m \u001b[0mtransform\u001b[0m\u001b[0;34m,\u001b[0m \u001b[0mrgbFace\u001b[0m\u001b[0;34m)\u001b[0m\u001b[0;34m\u001b[0m\u001b[0;34m\u001b[0m\u001b[0m\n\u001b[0m\u001b[1;32m    133\u001b[0m             \u001b[0;32mexcept\u001b[0m \u001b[0mOverflowError\u001b[0m\u001b[0;34m:\u001b[0m\u001b[0;34m\u001b[0m\u001b[0;34m\u001b[0m\u001b[0m\n\u001b[1;32m    134\u001b[0m                 \u001b[0mcant_chunk\u001b[0m \u001b[0;34m=\u001b[0m \u001b[0;34m''\u001b[0m\u001b[0;34m\u001b[0m\u001b[0;34m\u001b[0m\u001b[0m\n",
      "\u001b[0;32m~/.local/lib/python3.9/site-packages/matplotlib/transforms.py\u001b[0m in \u001b[0;36m__array__\u001b[0;34m(self, *args, **kwargs)\u001b[0m\n\u001b[1;32m    238\u001b[0m \u001b[0;34m\u001b[0m\u001b[0m\n\u001b[1;32m    239\u001b[0m     \u001b[0;32mdef\u001b[0m \u001b[0m__array__\u001b[0m\u001b[0;34m(\u001b[0m\u001b[0mself\u001b[0m\u001b[0;34m,\u001b[0m \u001b[0;34m*\u001b[0m\u001b[0margs\u001b[0m\u001b[0;34m,\u001b[0m \u001b[0;34m**\u001b[0m\u001b[0mkwargs\u001b[0m\u001b[0;34m)\u001b[0m\u001b[0;34m:\u001b[0m\u001b[0;34m\u001b[0m\u001b[0;34m\u001b[0m\u001b[0m\n\u001b[0;32m--> 240\u001b[0;31m         \u001b[0;32mreturn\u001b[0m \u001b[0mself\u001b[0m\u001b[0;34m.\u001b[0m\u001b[0mget_points\u001b[0m\u001b[0;34m(\u001b[0m\u001b[0;34m)\u001b[0m\u001b[0;34m\u001b[0m\u001b[0;34m\u001b[0m\u001b[0m\n\u001b[0m\u001b[1;32m    241\u001b[0m \u001b[0;34m\u001b[0m\u001b[0m\n\u001b[1;32m    242\u001b[0m     \u001b[0;34m@\u001b[0m\u001b[0mproperty\u001b[0m\u001b[0;34m\u001b[0m\u001b[0;34m\u001b[0m\u001b[0m\n",
      "\u001b[0;32m~/.local/lib/python3.9/site-packages/matplotlib/transforms.py\u001b[0m in \u001b[0;36mget_points\u001b[0;34m(self)\u001b[0m\n\u001b[1;32m   1126\u001b[0m                 \u001b[0mys\u001b[0m \u001b[0;34m=\u001b[0m \u001b[0mys\u001b[0m\u001b[0;34m[\u001b[0m\u001b[0;34m:\u001b[0m\u001b[0;34m:\u001b[0m\u001b[0;34m-\u001b[0m\u001b[0;36m1\u001b[0m\u001b[0;34m]\u001b[0m\u001b[0;34m\u001b[0m\u001b[0;34m\u001b[0m\u001b[0m\n\u001b[1;32m   1127\u001b[0m \u001b[0;34m\u001b[0m\u001b[0m\n\u001b[0;32m-> 1128\u001b[0;31m             self._points = np.array([\n\u001b[0m\u001b[1;32m   1129\u001b[0m                 \u001b[0;34m[\u001b[0m\u001b[0mxs\u001b[0m\u001b[0;34m[\u001b[0m\u001b[0;36m0\u001b[0m\u001b[0;34m]\u001b[0m\u001b[0;34m,\u001b[0m \u001b[0mys\u001b[0m\u001b[0;34m[\u001b[0m\u001b[0;36m0\u001b[0m\u001b[0;34m]\u001b[0m\u001b[0;34m]\u001b[0m\u001b[0;34m,\u001b[0m\u001b[0;34m\u001b[0m\u001b[0;34m\u001b[0m\u001b[0m\n\u001b[1;32m   1130\u001b[0m                 \u001b[0;34m[\u001b[0m\u001b[0mxs\u001b[0m\u001b[0;34m[\u001b[0m\u001b[0;36m1\u001b[0m\u001b[0;34m]\u001b[0m\u001b[0;34m,\u001b[0m \u001b[0mys\u001b[0m\u001b[0;34m[\u001b[0m\u001b[0;36m1\u001b[0m\u001b[0;34m]\u001b[0m\u001b[0;34m]\u001b[0m\u001b[0;34m\u001b[0m\u001b[0;34m\u001b[0m\u001b[0m\n",
      "\u001b[0;31mKeyboardInterrupt\u001b[0m: "
     ]
    },
    {
     "data": {
      "image/png": "[encoded data removed]",
      "text/plain": [
       "<Figure size 576x576 with 1 Axes>"
      ]
     },
     "metadata": {
      "needs_background": "light"
     },
     "output_type": "display_data"
    }
   ],
   "source": [
    "fig, ax = plt.subplots(figsize=(8, 8))\n",
    "sns.histplot(merged_df['MEDICATION_ID'], discrete=True)\n",
    "plt.xticks(rotation=90)\n",
    "#ax.set(xticklabels=[])  # remove the tick labels\n",
    "#ax.tick_params(bottom=False)  # remove the ticks"
   ]
  },
  {
   "cell_type": "code",
   "execution_count": 143,
   "id": "d6925eb8",
   "metadata": {},
   "outputs": [],
   "source": [
    "random_seed = 42\n",
    "selected_mrns = df_map['MRN'].sample(n=10, random_state=random_seed)\n",
    "selected_map = df_map[df_map['MRN'].isin(selected_mrns)]\n",
    "selected_meds = df_meds[df_meds['MRN'].isin(selected_mrns)]"
   ]
  },
  {
   "cell_type": "code",
   "execution_count": 144,
   "id": "1c2d3000",
   "metadata": {},
   "outputs": [],
   "source": [
    "selected_merged_df = pd.merge(selected_map, selected_meds, left_on=['MRN', 'RECORDED_TIME'], right_on=['MRN', 'MED_ACTION_TIME'],\n",
    "                     how='inner', suffixes=('_map', '_meds'))"
   ]
  },
  {
   "cell_type": "code",
   "execution_count": 145,
   "id": "015ffde1",
   "metadata": {},
   "outputs": [
    {
     "data": {
      "text/plain": [
       "array(['5111fb0df8f7deb6', '657b168ce1b1cd57', '156f52ab7e122c39',\n",
       "       'a94c87d1df706c75', 'abb98baaad55fc24', 'd84bb8cf8a83677f'],\n",
       "      dtype=object)"
      ]
     },
     "execution_count": 145,
     "metadata": {},
     "output_type": "execute_result"
    }
   ],
   "source": [
    "selected_merged_df['MRN'].unique()"
   ]
  },
  {
   "cell_type": "code",
   "execution_count": 146,
   "id": "e0f86bd6",
   "metadata": {
    "scrolled": true
   },
   "outputs": [
    {
     "data": {
      "image/png": "[encoded data removed]",
      "text/plain": [
       "<Figure size 720x576 with 2 Axes>"
      ]
     },
     "metadata": {
      "needs_background": "light"
     },
     "output_type": "display_data"
    }
   ],
   "source": [
    "# Pivot the DataFrame\n",
    "heatmap_data = selected_merged_df.pivot_table(index='MRN', columns='MEDICATION_ID', aggfunc='size', fill_value=0)\n",
    "\n",
    "# Plot the heatmap using seaborn\n",
    "plt.figure(figsize=(10,8))\n",
    "sns.heatmap(heatmap_data, cmap=\"YlGnBu\", annot=False)\n",
    "\n",
    "# Add labels and title\n",
    "plt.xlabel('MEDIATION_ID')\n",
    "plt.ylabel('MRN')\n",
    "plt.title('Heatmap of MRN vs MEDICATION_ID')\n",
    "\n",
    "# Show the plot\n",
    "plt.show()"
   ]
  },
  {
   "cell_type": "code",
   "execution_count": 83,
   "id": "4ccbd872",
   "metadata": {},
   "outputs": [
    {
     "data": {
      "text/plain": [
       "array(['657b168ce1b1cd57', '548f57852f4cd376', 'a94c87d1df706c75',\n",
       "       'db4e9417da566730', 'a91eeb538887daff'], dtype=object)"
      ]
     },
     "execution_count": 83,
     "metadata": {},
     "output_type": "execute_result"
    }
   ],
   "source": [
    "selected_map['MRN'].unique()"
   ]
  },
  {
   "cell_type": "code",
   "execution_count": null,
   "id": "88b5703f",
   "metadata": {},
   "outputs": [],
   "source": []
  },
  {
   "cell_type": "code",
   "execution_count": null,
   "id": "9ee1c195",
   "metadata": {},
   "outputs": [],
   "source": []
  },
  {
   "cell_type": "code",
   "execution_count": 84,
   "id": "4d31fead",
   "metadata": {},
   "outputs": [],
   "source": [
    "patient1_map = selected_map[selected_map['MRN'] == '657b168ce1b1cd57']\n",
    "patient1_meds = selected_meds[selected_meds['MRN'] == '657b168ce1b1cd57']"
   ]
  },
  {
   "cell_type": "code",
   "execution_count": 89,
   "id": "144dc16e",
   "metadata": {},
   "outputs": [],
   "source": [
    "patient1_merged_df = pd.merge(patient1_map, patient1_meds, left_on=['MRN', 'RECORDED_TIME'], right_on=['MRN', 'MED_ACTION_TIME'],\n",
    "                     how='inner', suffixes=('_map', '_meds'))"
   ]
  },
  {
   "cell_type": "code",
   "execution_count": 95,
   "id": "f60b4b78",
   "metadata": {},
   "outputs": [
    {
     "data": {
      "text/plain": [
       "Index(['LOG_ID_map', 'MRN', 'FLO_NAME', 'FLO_DISPLAY_NAME', 'RECORD_TYPE_map',\n",
       "       'RECORDED_TIME', 'MEAS_VALUE', 'UNITS', 'ENC_TYPE_NM', 'LOG_ID_meds',\n",
       "       'ORDERING_DATE', 'ORDER_CLASS_NM', 'MEDICATION_ID', 'DISPLAY_NAME',\n",
       "       'MEDICATION_NM', 'START_DATE', 'END_DATE', 'ORDER_STATUS_NM',\n",
       "       'RECORD_TYPE_meds', 'MAR_ACTION_NM', 'MED_ACTION_TIME', 'ADMIN_SIG',\n",
       "       'DOSE_UNIT_NM', 'MED_ROUTE_NM', 'ICU_ADMIN_FLAG', 'SURGERY_DATE'],\n",
       "      dtype='object')"
      ]
     },
     "execution_count": 95,
     "metadata": {},
     "output_type": "execute_result"
    }
   ],
   "source": [
    "patient1_merged_df.columns"
   ]
  },
  {
   "cell_type": "code",
   "execution_count": 100,
   "id": "1b29ec2f",
   "metadata": {},
   "outputs": [
    {
     "data": {
      "image/png": "[encoded data removed]",
      "text/plain": [
       "<Figure size 576x576 with 1 Axes>"
      ]
     },
     "metadata": {
      "needs_background": "light"
     },
     "output_type": "display_data"
    }
   ],
   "source": [
    "fig, ax = plt.subplots(figsize=(8, 8))\n",
    "sns.scatterplot(patient1_merged_df, x='RECORDED_TIME', y='MEAS_VALUE')\n",
    "ax.set(xticklabels=[])  # remove the tick labels\n",
    "ax.tick_params(bottom=False)  # remove the ticks"
   ]
  },
  {
   "cell_type": "code",
   "execution_count": null,
   "id": "c0db1f1e",
   "metadata": {},
   "outputs": [],
   "source": []
  }
 ],
 "metadata": {
  "kernelspec": {
   "display_name": "Python 3 (ipykernel)",
   "language": "python",
   "name": "python3"
  },
  "language_info": {
   "codemirror_mode": {
    "name": "ipython",
    "version": 3
   },
   "file_extension": ".py",
   "mimetype": "text/x-python",
   "name": "python",
   "nbconvert_exporter": "python",
   "pygments_lexer": "ipython3",
   "version": "3.9.0"
  }
 },
 "nbformat": 4,
 "nbformat_minor": 5
}

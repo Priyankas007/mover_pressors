{
 "cells": [
  {
   "cell_type": "code",
   "execution_count": 4,
   "id": "0415d873",
   "metadata": {},
   "outputs": [
    {
     "name": "stdout",
     "output_type": "stream",
     "text": [
      "Defaulting to user installation because normal site-packages is not writeable\n",
      "Requirement already satisfied: pandas in /home/users/shrestp/.local/lib/python3.9/site-packages (2.2.2)\n",
      "Requirement already satisfied: numpy>=1.22.4 in /home/users/shrestp/.local/lib/python3.9/site-packages (from pandas) (1.23.4)\n",
      "Requirement already satisfied: python-dateutil>=2.8.2 in /share/software/user/open/py-jupyter/1.0.0_py39/lib/python3.9/site-packages (from pandas) (2.8.2)\n",
      "Requirement already satisfied: pytz>=2020.1 in /home/users/shrestp/.local/lib/python3.9/site-packages (from pandas) (2024.1)\n",
      "Requirement already satisfied: tzdata>=2022.7 in /home/users/shrestp/.local/lib/python3.9/site-packages (from pandas) (2024.1)\n",
      "Requirement already satisfied: six>=1.5 in /share/software/user/open/py-jupyter/1.0.0_py39/lib/python3.9/site-packages (from python-dateutil>=2.8.2->pandas) (1.16.0)\n"
     ]
    }
   ],
   "source": [
    "!pip install pandas"
   ]
  },
  {
   "cell_type": "code",
   "execution_count": 1,
   "id": "355bfd0b",
   "metadata": {},
   "outputs": [],
   "source": [
    "import pandas as pd\n",
    "from os import path\n",
    "pd.set_option('display.max_colwidth', None)\n",
    "import csv\n",
    "import os\n",
    "import matplotlib.pyplot as plt"
   ]
  },
  {
   "cell_type": "code",
   "execution_count": 2,
   "id": "7b251bfc",
   "metadata": {},
   "outputs": [
    {
     "name": "stdout",
     "output_type": "stream",
     "text": [
      "/scratch/users/shrestp/mover/EPIC_flowsheets_cleaned\n"
     ]
    }
   ],
   "source": [
    "cd /scratch/users/shrestp/mover/EPIC_flowsheets_cleaned/"
   ]
  },
  {
   "cell_type": "code",
   "execution_count": 3,
   "id": "0204faf3",
   "metadata": {},
   "outputs": [
    {
     "name": "stdout",
     "output_type": "stream",
     "text": [
      "flowsheet_part10.csv  flowsheet_part17.csv  flowsheet_part5.csv\r\n",
      "flowsheet_part11.csv  flowsheet_part18.csv  flowsheet_part6.csv\r\n",
      "flowsheet_part12.csv  flowsheet_part19.csv  flowsheet_part7.csv\r\n",
      "flowsheet_part13.csv  flowsheet_part1.csv   flowsheet_part8.csv\r\n",
      "flowsheet_part14.csv  flowsheet_part2.csv   flowsheet_part9.csv\r\n",
      "flowsheet_part15.csv  flowsheet_part3.csv\r\n",
      "flowsheet_part16.csv  flowsheet_part4.csv\r\n"
     ]
    }
   ],
   "source": [
    "ls"
   ]
  },
  {
   "cell_type": "markdown",
   "id": "15ac31b9",
   "metadata": {},
   "source": [
    "### Combine all flowsheets and save "
   ]
  },
  {
   "cell_type": "code",
   "execution_count": 4,
   "id": "24988594",
   "metadata": {},
   "outputs": [],
   "source": [
    "dfs = []"
   ]
  },
  {
   "cell_type": "code",
   "execution_count": 5,
   "id": "e8007387",
   "metadata": {},
   "outputs": [
    {
     "name": "stdout",
     "output_type": "stream",
     "text": [
      "Processing ./flowsheet_part9.csv\n",
      "Processing ./flowsheet_part15.csv\n",
      "Processing ./flowsheet_part18.csv\n",
      "Processing ./flowsheet_part11.csv\n",
      "Processing ./flowsheet_part2.csv\n",
      "Processing ./flowsheet_part7.csv\n",
      "Processing ./flowsheet_part12.csv\n",
      "Processing ./flowsheet_part16.csv\n",
      "Processing ./flowsheet_part17.csv\n",
      "Processing ./flowsheet_part10.csv\n",
      "Processing ./flowsheet_part13.csv\n",
      "Processing ./flowsheet_part14.csv\n",
      "Processing ./flowsheet_part6.csv\n",
      "Processing ./flowsheet_part3.csv\n",
      "Processing ./flowsheet_part1.csv\n",
      "Processing ./flowsheet_part8.csv\n",
      "Processing ./flowsheet_part19.csv\n",
      "Processing ./flowsheet_part5.csv\n",
      "Processing ./flowsheet_part4.csv\n"
     ]
    }
   ],
   "source": [
    "# Iterate over each CSV file in the input directory\n",
    "for file_name in os.listdir('./'):\n",
    "    if file_name.endswith('.csv'):\n",
    "        # Full path to the CSV file\n",
    "        file_path = os.path.join('./', file_name)\n",
    "        print(f\"Processing {file_path}\")\n",
    "        \n",
    "        # Read the CSV file into a DataFrame\n",
    "        df = pd.read_csv(file_path)\n",
    "        \n",
    "        # Append the DataFrame to the list\n",
    "        dfs.append(df)"
   ]
  },
  {
   "cell_type": "code",
   "execution_count": 6,
   "id": "ef9e66b3",
   "metadata": {},
   "outputs": [
    {
     "name": "stderr",
     "output_type": "stream",
     "text": [
      "/tmp/ipykernel_117779/1558772002.py:1: FutureWarning: The behavior of DataFrame concatenation with empty or all-NA entries is deprecated. In a future version, this will no longer exclude empty or all-NA columns when determining the result dtypes. To retain the old behavior, exclude the relevant entries before the concat operation.\n",
      "  combined_df = pd.concat(dfs, ignore_index=True)\n"
     ]
    }
   ],
   "source": [
    "combined_df = pd.concat(dfs, ignore_index=True)"
   ]
  },
  {
   "cell_type": "code",
   "execution_count": 7,
   "id": "6abc988b",
   "metadata": {},
   "outputs": [
    {
     "data": {
      "text/html": [
       "<div>\n",
       "<style scoped>\n",
       "    .dataframe tbody tr th:only-of-type {\n",
       "        vertical-align: middle;\n",
       "    }\n",
       "\n",
       "    .dataframe tbody tr th {\n",
       "        vertical-align: top;\n",
       "    }\n",
       "\n",
       "    .dataframe thead th {\n",
       "        text-align: right;\n",
       "    }\n",
       "</style>\n",
       "<table border=\"1\" class=\"dataframe\">\n",
       "  <thead>\n",
       "    <tr style=\"text-align: right;\">\n",
       "      <th></th>\n",
       "      <th>Unnamed: 0</th>\n",
       "      <th>LOG_ID</th>\n",
       "      <th>MRN</th>\n",
       "      <th>FLO_NAME</th>\n",
       "      <th>FLO_DISPLAY_NAME</th>\n",
       "      <th>RECORD_TYPE</th>\n",
       "      <th>RECORDED_TIME</th>\n",
       "      <th>MEAS_VALUE</th>\n",
       "      <th>UNITS</th>\n",
       "    </tr>\n",
       "  </thead>\n",
       "  <tbody>\n",
       "    <tr>\n",
       "      <th>0</th>\n",
       "      <td>1582</td>\n",
       "      <td>da51bbbe44b985b2</td>\n",
       "      <td>b8bef0111ecada9c</td>\n",
       "      <td>Vital Signs</td>\n",
       "      <td>MAP (mmHg)</td>\n",
       "      <td>POST-OP</td>\n",
       "      <td>2021-07-30 23:00:00</td>\n",
       "      <td>102.0</td>\n",
       "      <td>NaN</td>\n",
       "    </tr>\n",
       "    <tr>\n",
       "      <th>1</th>\n",
       "      <td>1584</td>\n",
       "      <td>a7ff644f99bb2f2d</td>\n",
       "      <td>b8bef0111ecada9c</td>\n",
       "      <td>Vital Signs</td>\n",
       "      <td>MAP (mmHg)</td>\n",
       "      <td>POST-OP</td>\n",
       "      <td>2021-07-30 23:00:00</td>\n",
       "      <td>102.0</td>\n",
       "      <td>NaN</td>\n",
       "    </tr>\n",
       "    <tr>\n",
       "      <th>2</th>\n",
       "      <td>1587</td>\n",
       "      <td>b2bf5178b216dff9</td>\n",
       "      <td>b8bef0111ecada9c</td>\n",
       "      <td>Vital Signs</td>\n",
       "      <td>MAP (mmHg)</td>\n",
       "      <td>POST-OP</td>\n",
       "      <td>2021-07-30 23:00:00</td>\n",
       "      <td>102.0</td>\n",
       "      <td>NaN</td>\n",
       "    </tr>\n",
       "    <tr>\n",
       "      <th>3</th>\n",
       "      <td>1588</td>\n",
       "      <td>fef3b94d7a5b1638</td>\n",
       "      <td>b8bef0111ecada9c</td>\n",
       "      <td>Vital Signs</td>\n",
       "      <td>MAP (mmHg)</td>\n",
       "      <td>POST-OP</td>\n",
       "      <td>2021-07-30 23:00:00</td>\n",
       "      <td>102.0</td>\n",
       "      <td>NaN</td>\n",
       "    </tr>\n",
       "    <tr>\n",
       "      <th>4</th>\n",
       "      <td>1592</td>\n",
       "      <td>a7ff644f99bb2f2d</td>\n",
       "      <td>b8bef0111ecada9c</td>\n",
       "      <td>Vital Signs</td>\n",
       "      <td>MAP (mmHg)</td>\n",
       "      <td>POST-OP</td>\n",
       "      <td>2021-07-30 23:00:00</td>\n",
       "      <td>102.0</td>\n",
       "      <td>NaN</td>\n",
       "    </tr>\n",
       "    <tr>\n",
       "      <th>...</th>\n",
       "      <td>...</td>\n",
       "      <td>...</td>\n",
       "      <td>...</td>\n",
       "      <td>...</td>\n",
       "      <td>...</td>\n",
       "      <td>...</td>\n",
       "      <td>...</td>\n",
       "      <td>...</td>\n",
       "      <td>...</td>\n",
       "    </tr>\n",
       "    <tr>\n",
       "      <th>28465712</th>\n",
       "      <td>55687956</td>\n",
       "      <td>b982da223bc1459f</td>\n",
       "      <td>21d903105dfb34f0</td>\n",
       "      <td>Vital Signs</td>\n",
       "      <td>MAP (mmHg)</td>\n",
       "      <td>POST-OP</td>\n",
       "      <td>2020-09-11 10:00:00</td>\n",
       "      <td>89.0</td>\n",
       "      <td>NaN</td>\n",
       "    </tr>\n",
       "    <tr>\n",
       "      <th>28465713</th>\n",
       "      <td>55687962</td>\n",
       "      <td>b982da223bc1459f</td>\n",
       "      <td>21d903105dfb34f0</td>\n",
       "      <td>Vital Signs</td>\n",
       "      <td>MAP (mmHg)</td>\n",
       "      <td>POST-OP</td>\n",
       "      <td>2020-09-11 10:00:00</td>\n",
       "      <td>89.0</td>\n",
       "      <td>NaN</td>\n",
       "    </tr>\n",
       "    <tr>\n",
       "      <th>28465714</th>\n",
       "      <td>55687969</td>\n",
       "      <td>b982da223bc1459f</td>\n",
       "      <td>21d903105dfb34f0</td>\n",
       "      <td>Vital Signs</td>\n",
       "      <td>MAP (mmHg)</td>\n",
       "      <td>POST-OP</td>\n",
       "      <td>2020-09-11 10:00:00</td>\n",
       "      <td>89.0</td>\n",
       "      <td>NaN</td>\n",
       "    </tr>\n",
       "    <tr>\n",
       "      <th>28465715</th>\n",
       "      <td>55687971</td>\n",
       "      <td>b982da223bc1459f</td>\n",
       "      <td>21d903105dfb34f0</td>\n",
       "      <td>Vital Signs</td>\n",
       "      <td>MAP (mmHg)</td>\n",
       "      <td>POST-OP</td>\n",
       "      <td>2020-09-11 10:00:00</td>\n",
       "      <td>89.0</td>\n",
       "      <td>NaN</td>\n",
       "    </tr>\n",
       "    <tr>\n",
       "      <th>28465716</th>\n",
       "      <td>55687974</td>\n",
       "      <td>b982da223bc1459f</td>\n",
       "      <td>21d903105dfb34f0</td>\n",
       "      <td>Vital Signs</td>\n",
       "      <td>MAP (mmHg)</td>\n",
       "      <td>POST-OP</td>\n",
       "      <td>2020-09-11 10:00:00</td>\n",
       "      <td>89.0</td>\n",
       "      <td>NaN</td>\n",
       "    </tr>\n",
       "  </tbody>\n",
       "</table>\n",
       "<p>28465717 rows × 9 columns</p>\n",
       "</div>"
      ],
      "text/plain": [
       "         Unnamed: 0            LOG_ID               MRN      FLO_NAME  \\\n",
       "0              1582  da51bbbe44b985b2  b8bef0111ecada9c  Vital Signs    \n",
       "1              1584  a7ff644f99bb2f2d  b8bef0111ecada9c  Vital Signs    \n",
       "2              1587  b2bf5178b216dff9  b8bef0111ecada9c  Vital Signs    \n",
       "3              1588  fef3b94d7a5b1638  b8bef0111ecada9c  Vital Signs    \n",
       "4              1592  a7ff644f99bb2f2d  b8bef0111ecada9c  Vital Signs    \n",
       "...             ...               ...               ...           ...   \n",
       "28465712   55687956  b982da223bc1459f  21d903105dfb34f0  Vital Signs    \n",
       "28465713   55687962  b982da223bc1459f  21d903105dfb34f0  Vital Signs    \n",
       "28465714   55687969  b982da223bc1459f  21d903105dfb34f0  Vital Signs    \n",
       "28465715   55687971  b982da223bc1459f  21d903105dfb34f0  Vital Signs    \n",
       "28465716   55687974  b982da223bc1459f  21d903105dfb34f0  Vital Signs    \n",
       "\n",
       "         FLO_DISPLAY_NAME RECORD_TYPE        RECORDED_TIME  MEAS_VALUE  UNITS  \n",
       "0              MAP (mmHg)     POST-OP  2021-07-30 23:00:00       102.0    NaN  \n",
       "1              MAP (mmHg)     POST-OP  2021-07-30 23:00:00       102.0    NaN  \n",
       "2              MAP (mmHg)     POST-OP  2021-07-30 23:00:00       102.0    NaN  \n",
       "3              MAP (mmHg)     POST-OP  2021-07-30 23:00:00       102.0    NaN  \n",
       "4              MAP (mmHg)     POST-OP  2021-07-30 23:00:00       102.0    NaN  \n",
       "...                   ...         ...                  ...         ...    ...  \n",
       "28465712       MAP (mmHg)     POST-OP  2020-09-11 10:00:00        89.0    NaN  \n",
       "28465713       MAP (mmHg)     POST-OP  2020-09-11 10:00:00        89.0    NaN  \n",
       "28465714       MAP (mmHg)     POST-OP  2020-09-11 10:00:00        89.0    NaN  \n",
       "28465715       MAP (mmHg)     POST-OP  2020-09-11 10:00:00        89.0    NaN  \n",
       "28465716       MAP (mmHg)     POST-OP  2020-09-11 10:00:00        89.0    NaN  \n",
       "\n",
       "[28465717 rows x 9 columns]"
      ]
     },
     "execution_count": 7,
     "metadata": {},
     "output_type": "execute_result"
    }
   ],
   "source": [
    "combined_df"
   ]
  },
  {
   "cell_type": "code",
   "execution_count": 8,
   "id": "c74d0b5c",
   "metadata": {},
   "outputs": [
    {
     "data": {
      "text/plain": [
       "36870"
      ]
     },
     "execution_count": 8,
     "metadata": {},
     "output_type": "execute_result"
    }
   ],
   "source": [
    "combined_df['MRN'].nunique()"
   ]
  },
  {
   "cell_type": "code",
   "execution_count": 9,
   "id": "1965fe8e",
   "metadata": {},
   "outputs": [],
   "source": [
    "df_cleaned = combined_df.dropna(subset=['MEAS_VALUE'])\n",
    "#df_cleaned = df_cleaned.drop(df_cleaned['UNITS'])"
   ]
  },
  {
   "cell_type": "code",
   "execution_count": 11,
   "id": "34cf90f4",
   "metadata": {},
   "outputs": [],
   "source": [
    "df_cleaned = df_cleaned.drop_duplicates()"
   ]
  },
  {
   "cell_type": "code",
   "execution_count": 12,
   "id": "ff24bf72",
   "metadata": {},
   "outputs": [
    {
     "data": {
      "text/html": [
       "<div>\n",
       "<style scoped>\n",
       "    .dataframe tbody tr th:only-of-type {\n",
       "        vertical-align: middle;\n",
       "    }\n",
       "\n",
       "    .dataframe tbody tr th {\n",
       "        vertical-align: top;\n",
       "    }\n",
       "\n",
       "    .dataframe thead th {\n",
       "        text-align: right;\n",
       "    }\n",
       "</style>\n",
       "<table border=\"1\" class=\"dataframe\">\n",
       "  <thead>\n",
       "    <tr style=\"text-align: right;\">\n",
       "      <th></th>\n",
       "      <th>Unnamed: 0</th>\n",
       "      <th>LOG_ID</th>\n",
       "      <th>MRN</th>\n",
       "      <th>FLO_NAME</th>\n",
       "      <th>FLO_DISPLAY_NAME</th>\n",
       "      <th>RECORD_TYPE</th>\n",
       "      <th>RECORDED_TIME</th>\n",
       "      <th>MEAS_VALUE</th>\n",
       "      <th>UNITS</th>\n",
       "    </tr>\n",
       "  </thead>\n",
       "  <tbody>\n",
       "    <tr>\n",
       "      <th>0</th>\n",
       "      <td>1582</td>\n",
       "      <td>da51bbbe44b985b2</td>\n",
       "      <td>b8bef0111ecada9c</td>\n",
       "      <td>Vital Signs</td>\n",
       "      <td>MAP (mmHg)</td>\n",
       "      <td>POST-OP</td>\n",
       "      <td>2021-07-30 23:00:00</td>\n",
       "      <td>102.0</td>\n",
       "      <td>NaN</td>\n",
       "    </tr>\n",
       "    <tr>\n",
       "      <th>1</th>\n",
       "      <td>1584</td>\n",
       "      <td>a7ff644f99bb2f2d</td>\n",
       "      <td>b8bef0111ecada9c</td>\n",
       "      <td>Vital Signs</td>\n",
       "      <td>MAP (mmHg)</td>\n",
       "      <td>POST-OP</td>\n",
       "      <td>2021-07-30 23:00:00</td>\n",
       "      <td>102.0</td>\n",
       "      <td>NaN</td>\n",
       "    </tr>\n",
       "    <tr>\n",
       "      <th>2</th>\n",
       "      <td>1587</td>\n",
       "      <td>b2bf5178b216dff9</td>\n",
       "      <td>b8bef0111ecada9c</td>\n",
       "      <td>Vital Signs</td>\n",
       "      <td>MAP (mmHg)</td>\n",
       "      <td>POST-OP</td>\n",
       "      <td>2021-07-30 23:00:00</td>\n",
       "      <td>102.0</td>\n",
       "      <td>NaN</td>\n",
       "    </tr>\n",
       "    <tr>\n",
       "      <th>3</th>\n",
       "      <td>1588</td>\n",
       "      <td>fef3b94d7a5b1638</td>\n",
       "      <td>b8bef0111ecada9c</td>\n",
       "      <td>Vital Signs</td>\n",
       "      <td>MAP (mmHg)</td>\n",
       "      <td>POST-OP</td>\n",
       "      <td>2021-07-30 23:00:00</td>\n",
       "      <td>102.0</td>\n",
       "      <td>NaN</td>\n",
       "    </tr>\n",
       "    <tr>\n",
       "      <th>4</th>\n",
       "      <td>1592</td>\n",
       "      <td>a7ff644f99bb2f2d</td>\n",
       "      <td>b8bef0111ecada9c</td>\n",
       "      <td>Vital Signs</td>\n",
       "      <td>MAP (mmHg)</td>\n",
       "      <td>POST-OP</td>\n",
       "      <td>2021-07-30 23:00:00</td>\n",
       "      <td>102.0</td>\n",
       "      <td>NaN</td>\n",
       "    </tr>\n",
       "    <tr>\n",
       "      <th>...</th>\n",
       "      <td>...</td>\n",
       "      <td>...</td>\n",
       "      <td>...</td>\n",
       "      <td>...</td>\n",
       "      <td>...</td>\n",
       "      <td>...</td>\n",
       "      <td>...</td>\n",
       "      <td>...</td>\n",
       "      <td>...</td>\n",
       "    </tr>\n",
       "    <tr>\n",
       "      <th>28465712</th>\n",
       "      <td>55687956</td>\n",
       "      <td>b982da223bc1459f</td>\n",
       "      <td>21d903105dfb34f0</td>\n",
       "      <td>Vital Signs</td>\n",
       "      <td>MAP (mmHg)</td>\n",
       "      <td>POST-OP</td>\n",
       "      <td>2020-09-11 10:00:00</td>\n",
       "      <td>89.0</td>\n",
       "      <td>NaN</td>\n",
       "    </tr>\n",
       "    <tr>\n",
       "      <th>28465713</th>\n",
       "      <td>55687962</td>\n",
       "      <td>b982da223bc1459f</td>\n",
       "      <td>21d903105dfb34f0</td>\n",
       "      <td>Vital Signs</td>\n",
       "      <td>MAP (mmHg)</td>\n",
       "      <td>POST-OP</td>\n",
       "      <td>2020-09-11 10:00:00</td>\n",
       "      <td>89.0</td>\n",
       "      <td>NaN</td>\n",
       "    </tr>\n",
       "    <tr>\n",
       "      <th>28465714</th>\n",
       "      <td>55687969</td>\n",
       "      <td>b982da223bc1459f</td>\n",
       "      <td>21d903105dfb34f0</td>\n",
       "      <td>Vital Signs</td>\n",
       "      <td>MAP (mmHg)</td>\n",
       "      <td>POST-OP</td>\n",
       "      <td>2020-09-11 10:00:00</td>\n",
       "      <td>89.0</td>\n",
       "      <td>NaN</td>\n",
       "    </tr>\n",
       "    <tr>\n",
       "      <th>28465715</th>\n",
       "      <td>55687971</td>\n",
       "      <td>b982da223bc1459f</td>\n",
       "      <td>21d903105dfb34f0</td>\n",
       "      <td>Vital Signs</td>\n",
       "      <td>MAP (mmHg)</td>\n",
       "      <td>POST-OP</td>\n",
       "      <td>2020-09-11 10:00:00</td>\n",
       "      <td>89.0</td>\n",
       "      <td>NaN</td>\n",
       "    </tr>\n",
       "    <tr>\n",
       "      <th>28465716</th>\n",
       "      <td>55687974</td>\n",
       "      <td>b982da223bc1459f</td>\n",
       "      <td>21d903105dfb34f0</td>\n",
       "      <td>Vital Signs</td>\n",
       "      <td>MAP (mmHg)</td>\n",
       "      <td>POST-OP</td>\n",
       "      <td>2020-09-11 10:00:00</td>\n",
       "      <td>89.0</td>\n",
       "      <td>NaN</td>\n",
       "    </tr>\n",
       "  </tbody>\n",
       "</table>\n",
       "<p>28421216 rows × 9 columns</p>\n",
       "</div>"
      ],
      "text/plain": [
       "         Unnamed: 0            LOG_ID               MRN      FLO_NAME  \\\n",
       "0              1582  da51bbbe44b985b2  b8bef0111ecada9c  Vital Signs    \n",
       "1              1584  a7ff644f99bb2f2d  b8bef0111ecada9c  Vital Signs    \n",
       "2              1587  b2bf5178b216dff9  b8bef0111ecada9c  Vital Signs    \n",
       "3              1588  fef3b94d7a5b1638  b8bef0111ecada9c  Vital Signs    \n",
       "4              1592  a7ff644f99bb2f2d  b8bef0111ecada9c  Vital Signs    \n",
       "...             ...               ...               ...           ...   \n",
       "28465712   55687956  b982da223bc1459f  21d903105dfb34f0  Vital Signs    \n",
       "28465713   55687962  b982da223bc1459f  21d903105dfb34f0  Vital Signs    \n",
       "28465714   55687969  b982da223bc1459f  21d903105dfb34f0  Vital Signs    \n",
       "28465715   55687971  b982da223bc1459f  21d903105dfb34f0  Vital Signs    \n",
       "28465716   55687974  b982da223bc1459f  21d903105dfb34f0  Vital Signs    \n",
       "\n",
       "         FLO_DISPLAY_NAME RECORD_TYPE        RECORDED_TIME  MEAS_VALUE  UNITS  \n",
       "0              MAP (mmHg)     POST-OP  2021-07-30 23:00:00       102.0    NaN  \n",
       "1              MAP (mmHg)     POST-OP  2021-07-30 23:00:00       102.0    NaN  \n",
       "2              MAP (mmHg)     POST-OP  2021-07-30 23:00:00       102.0    NaN  \n",
       "3              MAP (mmHg)     POST-OP  2021-07-30 23:00:00       102.0    NaN  \n",
       "4              MAP (mmHg)     POST-OP  2021-07-30 23:00:00       102.0    NaN  \n",
       "...                   ...         ...                  ...         ...    ...  \n",
       "28465712       MAP (mmHg)     POST-OP  2020-09-11 10:00:00        89.0    NaN  \n",
       "28465713       MAP (mmHg)     POST-OP  2020-09-11 10:00:00        89.0    NaN  \n",
       "28465714       MAP (mmHg)     POST-OP  2020-09-11 10:00:00        89.0    NaN  \n",
       "28465715       MAP (mmHg)     POST-OP  2020-09-11 10:00:00        89.0    NaN  \n",
       "28465716       MAP (mmHg)     POST-OP  2020-09-11 10:00:00        89.0    NaN  \n",
       "\n",
       "[28421216 rows x 9 columns]"
      ]
     },
     "execution_count": 12,
     "metadata": {},
     "output_type": "execute_result"
    }
   ],
   "source": [
    "df_cleaned"
   ]
  },
  {
   "cell_type": "code",
   "execution_count": 13,
   "id": "0508db26",
   "metadata": {},
   "outputs": [],
   "source": [
    "output_file = 'final_map_df.csv'\n",
    "df_cleaned.to_csv(output_file, index=False)"
   ]
  },
  {
   "cell_type": "markdown",
   "id": "dd83497e",
   "metadata": {},
   "source": [
    "### Analysis"
   ]
  },
  {
   "cell_type": "code",
   "execution_count": 15,
   "id": "eca190aa",
   "metadata": {},
   "outputs": [],
   "source": [
    "df = pd.read_csv('final_map_df.csv', index_col=0)"
   ]
  },
  {
   "cell_type": "code",
   "execution_count": 6,
   "id": "9808d7a8",
   "metadata": {},
   "outputs": [],
   "source": [
    "#df = df.drop_duplicates()"
   ]
  },
  {
   "cell_type": "code",
   "execution_count": 16,
   "id": "491b9c9f",
   "metadata": {},
   "outputs": [
    {
     "data": {
      "text/html": [
       "<div>\n",
       "<style scoped>\n",
       "    .dataframe tbody tr th:only-of-type {\n",
       "        vertical-align: middle;\n",
       "    }\n",
       "\n",
       "    .dataframe tbody tr th {\n",
       "        vertical-align: top;\n",
       "    }\n",
       "\n",
       "    .dataframe thead th {\n",
       "        text-align: right;\n",
       "    }\n",
       "</style>\n",
       "<table border=\"1\" class=\"dataframe\">\n",
       "  <thead>\n",
       "    <tr style=\"text-align: right;\">\n",
       "      <th></th>\n",
       "      <th>LOG_ID</th>\n",
       "      <th>MRN</th>\n",
       "      <th>FLO_NAME</th>\n",
       "      <th>FLO_DISPLAY_NAME</th>\n",
       "      <th>RECORD_TYPE</th>\n",
       "      <th>RECORDED_TIME</th>\n",
       "      <th>MEAS_VALUE</th>\n",
       "      <th>UNITS</th>\n",
       "    </tr>\n",
       "    <tr>\n",
       "      <th>Unnamed: 0</th>\n",
       "      <th></th>\n",
       "      <th></th>\n",
       "      <th></th>\n",
       "      <th></th>\n",
       "      <th></th>\n",
       "      <th></th>\n",
       "      <th></th>\n",
       "      <th></th>\n",
       "    </tr>\n",
       "  </thead>\n",
       "  <tbody>\n",
       "    <tr>\n",
       "      <th>1582</th>\n",
       "      <td>da51bbbe44b985b2</td>\n",
       "      <td>b8bef0111ecada9c</td>\n",
       "      <td>Vital Signs</td>\n",
       "      <td>MAP (mmHg)</td>\n",
       "      <td>POST-OP</td>\n",
       "      <td>2021-07-30 23:00:00</td>\n",
       "      <td>102.0</td>\n",
       "      <td>NaN</td>\n",
       "    </tr>\n",
       "    <tr>\n",
       "      <th>1584</th>\n",
       "      <td>a7ff644f99bb2f2d</td>\n",
       "      <td>b8bef0111ecada9c</td>\n",
       "      <td>Vital Signs</td>\n",
       "      <td>MAP (mmHg)</td>\n",
       "      <td>POST-OP</td>\n",
       "      <td>2021-07-30 23:00:00</td>\n",
       "      <td>102.0</td>\n",
       "      <td>NaN</td>\n",
       "    </tr>\n",
       "    <tr>\n",
       "      <th>1587</th>\n",
       "      <td>b2bf5178b216dff9</td>\n",
       "      <td>b8bef0111ecada9c</td>\n",
       "      <td>Vital Signs</td>\n",
       "      <td>MAP (mmHg)</td>\n",
       "      <td>POST-OP</td>\n",
       "      <td>2021-07-30 23:00:00</td>\n",
       "      <td>102.0</td>\n",
       "      <td>NaN</td>\n",
       "    </tr>\n",
       "    <tr>\n",
       "      <th>1588</th>\n",
       "      <td>fef3b94d7a5b1638</td>\n",
       "      <td>b8bef0111ecada9c</td>\n",
       "      <td>Vital Signs</td>\n",
       "      <td>MAP (mmHg)</td>\n",
       "      <td>POST-OP</td>\n",
       "      <td>2021-07-30 23:00:00</td>\n",
       "      <td>102.0</td>\n",
       "      <td>NaN</td>\n",
       "    </tr>\n",
       "    <tr>\n",
       "      <th>1592</th>\n",
       "      <td>a7ff644f99bb2f2d</td>\n",
       "      <td>b8bef0111ecada9c</td>\n",
       "      <td>Vital Signs</td>\n",
       "      <td>MAP (mmHg)</td>\n",
       "      <td>POST-OP</td>\n",
       "      <td>2021-07-30 23:00:00</td>\n",
       "      <td>102.0</td>\n",
       "      <td>NaN</td>\n",
       "    </tr>\n",
       "    <tr>\n",
       "      <th>...</th>\n",
       "      <td>...</td>\n",
       "      <td>...</td>\n",
       "      <td>...</td>\n",
       "      <td>...</td>\n",
       "      <td>...</td>\n",
       "      <td>...</td>\n",
       "      <td>...</td>\n",
       "      <td>...</td>\n",
       "    </tr>\n",
       "    <tr>\n",
       "      <th>55687956</th>\n",
       "      <td>b982da223bc1459f</td>\n",
       "      <td>21d903105dfb34f0</td>\n",
       "      <td>Vital Signs</td>\n",
       "      <td>MAP (mmHg)</td>\n",
       "      <td>POST-OP</td>\n",
       "      <td>2020-09-11 10:00:00</td>\n",
       "      <td>89.0</td>\n",
       "      <td>NaN</td>\n",
       "    </tr>\n",
       "    <tr>\n",
       "      <th>55687962</th>\n",
       "      <td>b982da223bc1459f</td>\n",
       "      <td>21d903105dfb34f0</td>\n",
       "      <td>Vital Signs</td>\n",
       "      <td>MAP (mmHg)</td>\n",
       "      <td>POST-OP</td>\n",
       "      <td>2020-09-11 10:00:00</td>\n",
       "      <td>89.0</td>\n",
       "      <td>NaN</td>\n",
       "    </tr>\n",
       "    <tr>\n",
       "      <th>55687969</th>\n",
       "      <td>b982da223bc1459f</td>\n",
       "      <td>21d903105dfb34f0</td>\n",
       "      <td>Vital Signs</td>\n",
       "      <td>MAP (mmHg)</td>\n",
       "      <td>POST-OP</td>\n",
       "      <td>2020-09-11 10:00:00</td>\n",
       "      <td>89.0</td>\n",
       "      <td>NaN</td>\n",
       "    </tr>\n",
       "    <tr>\n",
       "      <th>55687971</th>\n",
       "      <td>b982da223bc1459f</td>\n",
       "      <td>21d903105dfb34f0</td>\n",
       "      <td>Vital Signs</td>\n",
       "      <td>MAP (mmHg)</td>\n",
       "      <td>POST-OP</td>\n",
       "      <td>2020-09-11 10:00:00</td>\n",
       "      <td>89.0</td>\n",
       "      <td>NaN</td>\n",
       "    </tr>\n",
       "    <tr>\n",
       "      <th>55687974</th>\n",
       "      <td>b982da223bc1459f</td>\n",
       "      <td>21d903105dfb34f0</td>\n",
       "      <td>Vital Signs</td>\n",
       "      <td>MAP (mmHg)</td>\n",
       "      <td>POST-OP</td>\n",
       "      <td>2020-09-11 10:00:00</td>\n",
       "      <td>89.0</td>\n",
       "      <td>NaN</td>\n",
       "    </tr>\n",
       "  </tbody>\n",
       "</table>\n",
       "<p>28421216 rows × 8 columns</p>\n",
       "</div>"
      ],
      "text/plain": [
       "                      LOG_ID               MRN      FLO_NAME FLO_DISPLAY_NAME  \\\n",
       "Unnamed: 0                                                                      \n",
       "1582        da51bbbe44b985b2  b8bef0111ecada9c  Vital Signs        MAP (mmHg)   \n",
       "1584        a7ff644f99bb2f2d  b8bef0111ecada9c  Vital Signs        MAP (mmHg)   \n",
       "1587        b2bf5178b216dff9  b8bef0111ecada9c  Vital Signs        MAP (mmHg)   \n",
       "1588        fef3b94d7a5b1638  b8bef0111ecada9c  Vital Signs        MAP (mmHg)   \n",
       "1592        a7ff644f99bb2f2d  b8bef0111ecada9c  Vital Signs        MAP (mmHg)   \n",
       "...                      ...               ...           ...              ...   \n",
       "55687956    b982da223bc1459f  21d903105dfb34f0  Vital Signs        MAP (mmHg)   \n",
       "55687962    b982da223bc1459f  21d903105dfb34f0  Vital Signs        MAP (mmHg)   \n",
       "55687969    b982da223bc1459f  21d903105dfb34f0  Vital Signs        MAP (mmHg)   \n",
       "55687971    b982da223bc1459f  21d903105dfb34f0  Vital Signs        MAP (mmHg)   \n",
       "55687974    b982da223bc1459f  21d903105dfb34f0  Vital Signs        MAP (mmHg)   \n",
       "\n",
       "           RECORD_TYPE        RECORDED_TIME  MEAS_VALUE  UNITS  \n",
       "Unnamed: 0                                                      \n",
       "1582           POST-OP  2021-07-30 23:00:00       102.0    NaN  \n",
       "1584           POST-OP  2021-07-30 23:00:00       102.0    NaN  \n",
       "1587           POST-OP  2021-07-30 23:00:00       102.0    NaN  \n",
       "1588           POST-OP  2021-07-30 23:00:00       102.0    NaN  \n",
       "1592           POST-OP  2021-07-30 23:00:00       102.0    NaN  \n",
       "...                ...                  ...         ...    ...  \n",
       "55687956       POST-OP  2020-09-11 10:00:00        89.0    NaN  \n",
       "55687962       POST-OP  2020-09-11 10:00:00        89.0    NaN  \n",
       "55687969       POST-OP  2020-09-11 10:00:00        89.0    NaN  \n",
       "55687971       POST-OP  2020-09-11 10:00:00        89.0    NaN  \n",
       "55687974       POST-OP  2020-09-11 10:00:00        89.0    NaN  \n",
       "\n",
       "[28421216 rows x 8 columns]"
      ]
     },
     "execution_count": 16,
     "metadata": {},
     "output_type": "execute_result"
    }
   ],
   "source": [
    "df"
   ]
  },
  {
   "cell_type": "code",
   "execution_count": 21,
   "id": "6a1e8240",
   "metadata": {},
   "outputs": [
    {
     "data": {
      "text/plain": [
       "MEAS_VALUE\n",
       "False    28421216\n",
       "Name: count, dtype: int64"
      ]
     },
     "execution_count": 21,
     "metadata": {},
     "output_type": "execute_result"
    }
   ],
   "source": [
    "df['MEAS_VALUE'].isna().value_counts()"
   ]
  },
  {
   "cell_type": "code",
   "execution_count": 22,
   "id": "ac87d35f",
   "metadata": {},
   "outputs": [
    {
     "data": {
      "text/plain": [
       "58592"
      ]
     },
     "execution_count": 22,
     "metadata": {},
     "output_type": "execute_result"
    }
   ],
   "source": [
    "df['LOG_ID'].nunique()"
   ]
  },
  {
   "cell_type": "code",
   "execution_count": 23,
   "id": "e5a9639c",
   "metadata": {},
   "outputs": [
    {
     "data": {
      "text/plain": [
       "36869"
      ]
     },
     "execution_count": 23,
     "metadata": {},
     "output_type": "execute_result"
    }
   ],
   "source": [
    "df['MRN'].nunique()"
   ]
  },
  {
   "cell_type": "code",
   "execution_count": 24,
   "id": "4bf7c39e",
   "metadata": {},
   "outputs": [],
   "source": [
    "df_patient = df[df['MRN'] == '4c482e1b3ab4127a']"
   ]
  },
  {
   "cell_type": "code",
   "execution_count": 25,
   "id": "efdfc523",
   "metadata": {},
   "outputs": [
    {
     "data": {
      "text/plain": [
       "4"
      ]
     },
     "execution_count": 25,
     "metadata": {},
     "output_type": "execute_result"
    }
   ],
   "source": [
    "df_patient['LOG_ID'].nunique()"
   ]
  },
  {
   "cell_type": "code",
   "execution_count": 26,
   "id": "5f891232",
   "metadata": {},
   "outputs": [
    {
     "data": {
      "text/plain": [
       "array(['d586108388315523', '41c689c44078aab6', 'cf7ac282352364cd',\n",
       "       'f101063f08eb3a3e'], dtype=object)"
      ]
     },
     "execution_count": 26,
     "metadata": {},
     "output_type": "execute_result"
    }
   ],
   "source": [
    "df_patient['LOG_ID'].unique()"
   ]
  },
  {
   "cell_type": "code",
   "execution_count": 27,
   "id": "8dfeb03c",
   "metadata": {},
   "outputs": [],
   "source": [
    "df_patient_visit = df_patient[df_patient['LOG_ID'] == 'd586108388315523']"
   ]
  },
  {
   "cell_type": "code",
   "execution_count": 28,
   "id": "48cd8f3d",
   "metadata": {},
   "outputs": [
    {
     "data": {
      "text/html": [
       "<div>\n",
       "<style scoped>\n",
       "    .dataframe tbody tr th:only-of-type {\n",
       "        vertical-align: middle;\n",
       "    }\n",
       "\n",
       "    .dataframe tbody tr th {\n",
       "        vertical-align: top;\n",
       "    }\n",
       "\n",
       "    .dataframe thead th {\n",
       "        text-align: right;\n",
       "    }\n",
       "</style>\n",
       "<table border=\"1\" class=\"dataframe\">\n",
       "  <thead>\n",
       "    <tr style=\"text-align: right;\">\n",
       "      <th></th>\n",
       "      <th>LOG_ID</th>\n",
       "      <th>MRN</th>\n",
       "      <th>FLO_NAME</th>\n",
       "      <th>FLO_DISPLAY_NAME</th>\n",
       "      <th>RECORD_TYPE</th>\n",
       "      <th>RECORDED_TIME</th>\n",
       "      <th>MEAS_VALUE</th>\n",
       "      <th>UNITS</th>\n",
       "    </tr>\n",
       "    <tr>\n",
       "      <th>Unnamed: 0</th>\n",
       "      <th></th>\n",
       "      <th></th>\n",
       "      <th></th>\n",
       "      <th></th>\n",
       "      <th></th>\n",
       "      <th></th>\n",
       "      <th></th>\n",
       "      <th></th>\n",
       "    </tr>\n",
       "  </thead>\n",
       "  <tbody>\n",
       "    <tr>\n",
       "      <th>5</th>\n",
       "      <td>d586108388315523</td>\n",
       "      <td>4c482e1b3ab4127a</td>\n",
       "      <td>Vital Signs</td>\n",
       "      <td>MAP (mmHg)</td>\n",
       "      <td>POST-OP</td>\n",
       "      <td>2019-10-18 00:00:00</td>\n",
       "      <td>77.0</td>\n",
       "      <td>NaN</td>\n",
       "    </tr>\n",
       "    <tr>\n",
       "      <th>4082</th>\n",
       "      <td>d586108388315523</td>\n",
       "      <td>4c482e1b3ab4127a</td>\n",
       "      <td>Vital Signs</td>\n",
       "      <td>MAP (mmHg)</td>\n",
       "      <td>POST-OP</td>\n",
       "      <td>2019-10-18 00:00:00</td>\n",
       "      <td>77.0</td>\n",
       "      <td>NaN</td>\n",
       "    </tr>\n",
       "    <tr>\n",
       "      <th>8041</th>\n",
       "      <td>d586108388315523</td>\n",
       "      <td>4c482e1b3ab4127a</td>\n",
       "      <td>Vital Signs</td>\n",
       "      <td>MAP (mmHg)</td>\n",
       "      <td>POST-OP</td>\n",
       "      <td>2019-10-18 00:00:00</td>\n",
       "      <td>77.0</td>\n",
       "      <td>NaN</td>\n",
       "    </tr>\n",
       "    <tr>\n",
       "      <th>11505</th>\n",
       "      <td>d586108388315523</td>\n",
       "      <td>4c482e1b3ab4127a</td>\n",
       "      <td>Vital Signs</td>\n",
       "      <td>MAP (mmHg)</td>\n",
       "      <td>POST-OP</td>\n",
       "      <td>2019-10-18 00:00:00</td>\n",
       "      <td>77.0</td>\n",
       "      <td>NaN</td>\n",
       "    </tr>\n",
       "    <tr>\n",
       "      <th>18074</th>\n",
       "      <td>d586108388315523</td>\n",
       "      <td>4c482e1b3ab4127a</td>\n",
       "      <td>Vital Signs</td>\n",
       "      <td>MAP (mmHg)</td>\n",
       "      <td>POST-OP</td>\n",
       "      <td>2019-10-18 00:00:00</td>\n",
       "      <td>77.0</td>\n",
       "      <td>NaN</td>\n",
       "    </tr>\n",
       "    <tr>\n",
       "      <th>...</th>\n",
       "      <td>...</td>\n",
       "      <td>...</td>\n",
       "      <td>...</td>\n",
       "      <td>...</td>\n",
       "      <td>...</td>\n",
       "      <td>...</td>\n",
       "      <td>...</td>\n",
       "      <td>...</td>\n",
       "    </tr>\n",
       "    <tr>\n",
       "      <th>27719295</th>\n",
       "      <td>d586108388315523</td>\n",
       "      <td>4c482e1b3ab4127a</td>\n",
       "      <td>Vital Signs</td>\n",
       "      <td>MAP (mmHg)</td>\n",
       "      <td>POST-OP</td>\n",
       "      <td>2019-11-14 12:22:00</td>\n",
       "      <td>70.0</td>\n",
       "      <td>NaN</td>\n",
       "    </tr>\n",
       "    <tr>\n",
       "      <th>27719301</th>\n",
       "      <td>d586108388315523</td>\n",
       "      <td>4c482e1b3ab4127a</td>\n",
       "      <td>Vital Signs</td>\n",
       "      <td>MAP (mmHg)</td>\n",
       "      <td>POST-OP</td>\n",
       "      <td>2019-11-14 12:22:00</td>\n",
       "      <td>70.0</td>\n",
       "      <td>NaN</td>\n",
       "    </tr>\n",
       "    <tr>\n",
       "      <th>27719310</th>\n",
       "      <td>d586108388315523</td>\n",
       "      <td>4c482e1b3ab4127a</td>\n",
       "      <td>Vital Signs</td>\n",
       "      <td>MAP (mmHg)</td>\n",
       "      <td>POST-OP</td>\n",
       "      <td>2019-11-14 12:22:00</td>\n",
       "      <td>70.0</td>\n",
       "      <td>NaN</td>\n",
       "    </tr>\n",
       "    <tr>\n",
       "      <th>27719468</th>\n",
       "      <td>d586108388315523</td>\n",
       "      <td>4c482e1b3ab4127a</td>\n",
       "      <td>Vital Signs</td>\n",
       "      <td>MAP (mmHg)</td>\n",
       "      <td>POST-OP</td>\n",
       "      <td>2019-11-14 12:22:00</td>\n",
       "      <td>70.0</td>\n",
       "      <td>NaN</td>\n",
       "    </tr>\n",
       "    <tr>\n",
       "      <th>27719916</th>\n",
       "      <td>d586108388315523</td>\n",
       "      <td>4c482e1b3ab4127a</td>\n",
       "      <td>Vital Signs</td>\n",
       "      <td>MAP (mmHg)</td>\n",
       "      <td>POST-OP</td>\n",
       "      <td>2019-11-14 12:22:00</td>\n",
       "      <td>70.0</td>\n",
       "      <td>NaN</td>\n",
       "    </tr>\n",
       "  </tbody>\n",
       "</table>\n",
       "<p>3624 rows × 8 columns</p>\n",
       "</div>"
      ],
      "text/plain": [
       "                      LOG_ID               MRN      FLO_NAME FLO_DISPLAY_NAME  \\\n",
       "Unnamed: 0                                                                      \n",
       "5           d586108388315523  4c482e1b3ab4127a  Vital Signs        MAP (mmHg)   \n",
       "4082        d586108388315523  4c482e1b3ab4127a  Vital Signs        MAP (mmHg)   \n",
       "8041        d586108388315523  4c482e1b3ab4127a  Vital Signs        MAP (mmHg)   \n",
       "11505       d586108388315523  4c482e1b3ab4127a  Vital Signs        MAP (mmHg)   \n",
       "18074       d586108388315523  4c482e1b3ab4127a  Vital Signs        MAP (mmHg)   \n",
       "...                      ...               ...           ...              ...   \n",
       "27719295    d586108388315523  4c482e1b3ab4127a  Vital Signs        MAP (mmHg)   \n",
       "27719301    d586108388315523  4c482e1b3ab4127a  Vital Signs        MAP (mmHg)   \n",
       "27719310    d586108388315523  4c482e1b3ab4127a  Vital Signs        MAP (mmHg)   \n",
       "27719468    d586108388315523  4c482e1b3ab4127a  Vital Signs        MAP (mmHg)   \n",
       "27719916    d586108388315523  4c482e1b3ab4127a  Vital Signs        MAP (mmHg)   \n",
       "\n",
       "           RECORD_TYPE        RECORDED_TIME  MEAS_VALUE  UNITS  \n",
       "Unnamed: 0                                                      \n",
       "5              POST-OP  2019-10-18 00:00:00        77.0    NaN  \n",
       "4082           POST-OP  2019-10-18 00:00:00        77.0    NaN  \n",
       "8041           POST-OP  2019-10-18 00:00:00        77.0    NaN  \n",
       "11505          POST-OP  2019-10-18 00:00:00        77.0    NaN  \n",
       "18074          POST-OP  2019-10-18 00:00:00        77.0    NaN  \n",
       "...                ...                  ...         ...    ...  \n",
       "27719295       POST-OP  2019-11-14 12:22:00        70.0    NaN  \n",
       "27719301       POST-OP  2019-11-14 12:22:00        70.0    NaN  \n",
       "27719310       POST-OP  2019-11-14 12:22:00        70.0    NaN  \n",
       "27719468       POST-OP  2019-11-14 12:22:00        70.0    NaN  \n",
       "27719916       POST-OP  2019-11-14 12:22:00        70.0    NaN  \n",
       "\n",
       "[3624 rows x 8 columns]"
      ]
     },
     "execution_count": 28,
     "metadata": {},
     "output_type": "execute_result"
    }
   ],
   "source": [
    "df_patient_visit"
   ]
  },
  {
   "cell_type": "code",
   "execution_count": 29,
   "id": "30834ed2",
   "metadata": {},
   "outputs": [
    {
     "data": {
      "text/plain": [
       "604"
      ]
     },
     "execution_count": 29,
     "metadata": {},
     "output_type": "execute_result"
    }
   ],
   "source": [
    "df_patient_visit['RECORDED_TIME'].nunique()"
   ]
  },
  {
   "cell_type": "code",
   "execution_count": 30,
   "id": "eef28631",
   "metadata": {},
   "outputs": [],
   "source": [
    "patient_id = '4c482e1b3ab4127a'\n",
    "log_id = 'd586108388315523'"
   ]
  },
  {
   "cell_type": "code",
   "execution_count": 31,
   "id": "9e506a56",
   "metadata": {},
   "outputs": [
    {
     "data": {
      "text/plain": [
       "[<matplotlib.lines.Line2D at 0x7ff2a5194b50>]"
      ]
     },
     "execution_count": 31,
     "metadata": {},
     "output_type": "execute_result"
    },
    {
     "data": {
      "image/png": "[encoded data removed]",
      "text/plain": [
       "<Figure size 720x360 with 1 Axes>"
      ]
     },
     "metadata": {
      "needs_background": "light"
     },
     "output_type": "display_data"
    }
   ],
   "source": [
    "#plt.scatter(x=df_patient_visit['RECORDED_TIME'], y=df_patient_visit['MEAS_VALUE'], s=0.1)\n",
    "fig, ax = plt.subplots(figsize=(10, 5))\n",
    "plt.xlabel('Time')\n",
    "plt.ylabel('MAP')\n",
    "plt.title(f'MRN: {patient_id}, LOG_ID: {log_id} MAP Over Time')\n",
    "plt.plot(df_patient_visit['MEAS_VALUE'], marker='o', linestyle='-', markersize=2)"
   ]
  },
  {
   "cell_type": "code",
   "execution_count": null,
   "id": "91d03ba3",
   "metadata": {},
   "outputs": [],
   "source": []
  }
 ],
 "metadata": {
  "kernelspec": {
   "display_name": "Python 3 (ipykernel)",
   "language": "python",
   "name": "python3"
  },
  "language_info": {
   "codemirror_mode": {
    "name": "ipython",
    "version": 3
   },
   "file_extension": ".py",
   "mimetype": "text/x-python",
   "name": "python",
   "nbconvert_exporter": "python",
   "pygments_lexer": "ipython3",
   "version": "3.9.0"
  }
 },
 "nbformat": 4,
 "nbformat_minor": 5
}

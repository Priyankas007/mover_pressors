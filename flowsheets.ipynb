{
 "cells": [
  {
   "cell_type": "code",
   "execution_count": 1,
   "id": "a7b23845",
   "metadata": {},
   "outputs": [],
   "source": [
    "import pandas as pd\n",
    "import csv"
   ]
  },
  {
   "cell_type": "code",
   "execution_count": 2,
   "id": "b9e2acf1",
   "metadata": {},
   "outputs": [
    {
     "name": "stdout",
     "output_type": "stream",
     "text": [
      "/scratch/users/shrestp/mover/EPIC_flowsheets\n"
     ]
    }
   ],
   "source": [
    "cd EPIC_flowsheets/"
   ]
  },
  {
   "cell_type": "code",
   "execution_count": 3,
   "id": "e0be1ddf",
   "metadata": {
    "scrolled": true
   },
   "outputs": [
    {
     "name": "stdout",
     "output_type": "stream",
     "text": [
      "/scratch/users/shrestp/mover/EPIC_flowsheets/flowsheets_cleaned\n"
     ]
    }
   ],
   "source": [
    "cd flowsheets_cleaned/"
   ]
  },
  {
   "cell_type": "code",
   "execution_count": 4,
   "id": "e9591461",
   "metadata": {},
   "outputs": [
    {
     "name": "stdout",
     "output_type": "stream",
     "text": [
      "flowsheet_part13.csv  flowsheet_part1.csv  flowsheet_part8.csv\r\n",
      "flowsheet_part14.csv  flowsheet_part7.csv  flowsheet_part9.csv\r\n"
     ]
    }
   ],
   "source": [
    "ls"
   ]
  },
  {
   "cell_type": "code",
   "execution_count": 15,
   "id": "c772fa25",
   "metadata": {},
   "outputs": [
    {
     "name": "stdout",
     "output_type": "stream",
     "text": [
      "Number of rows: 55673131\n"
     ]
    }
   ],
   "source": [
    "with open('flowsheet_part7.csv', 'r') as file:\n",
    "    reader = csv.reader(file)\n",
    "    row_count = sum(1 for row in reader)\n",
    "\n",
    "print(f\"Number of rows: {row_count}\")"
   ]
  },
  {
   "cell_type": "code",
   "execution_count": 6,
   "id": "177daf60",
   "metadata": {},
   "outputs": [],
   "source": [
    "df = pd.read_csv('flowsheet_part7.csv', nrows=10000000)"
   ]
  },
  {
   "cell_type": "code",
   "execution_count": 7,
   "id": "fa30260f",
   "metadata": {},
   "outputs": [
    {
     "data": {
      "text/html": [
       "<div>\n",
       "<style scoped>\n",
       "    .dataframe tbody tr th:only-of-type {\n",
       "        vertical-align: middle;\n",
       "    }\n",
       "\n",
       "    .dataframe tbody tr th {\n",
       "        vertical-align: top;\n",
       "    }\n",
       "\n",
       "    .dataframe thead th {\n",
       "        text-align: right;\n",
       "    }\n",
       "</style>\n",
       "<table border=\"1\" class=\"dataframe\">\n",
       "  <thead>\n",
       "    <tr style=\"text-align: right;\">\n",
       "      <th></th>\n",
       "      <th>Unnamed: 0</th>\n",
       "      <th>LOG_ID</th>\n",
       "      <th>MRN</th>\n",
       "      <th>FLO_NAME</th>\n",
       "      <th>FLO_DISPLAY_NAME</th>\n",
       "      <th>RECORD_TYPE</th>\n",
       "      <th>RECORDED_TIME</th>\n",
       "      <th>MEAS_VALUE</th>\n",
       "      <th>UNITS</th>\n",
       "    </tr>\n",
       "  </thead>\n",
       "  <tbody>\n",
       "    <tr>\n",
       "      <th>0</th>\n",
       "      <td>0</td>\n",
       "      <td>15122d530a21682d</td>\n",
       "      <td>c3dee9dfd0e95624</td>\n",
       "      <td>Custom Formula Data</td>\n",
       "      <td>Max Systolic</td>\n",
       "      <td>PRE-OP</td>\n",
       "      <td>2022-06-19 22:00:00</td>\n",
       "      <td>190</td>\n",
       "      <td>NaN</td>\n",
       "    </tr>\n",
       "    <tr>\n",
       "      <th>1</th>\n",
       "      <td>1</td>\n",
       "      <td>8aee4c0cae861c47</td>\n",
       "      <td>c3dee9dfd0e95624</td>\n",
       "      <td>Custom Formula Data</td>\n",
       "      <td>Max Systolic</td>\n",
       "      <td>POST-OP</td>\n",
       "      <td>2022-06-19 22:00:00</td>\n",
       "      <td>190</td>\n",
       "      <td>NaN</td>\n",
       "    </tr>\n",
       "    <tr>\n",
       "      <th>2</th>\n",
       "      <td>2</td>\n",
       "      <td>d4b6aae9eab8f1fb</td>\n",
       "      <td>c3dee9dfd0e95624</td>\n",
       "      <td>Custom Formula Data</td>\n",
       "      <td>Max Systolic</td>\n",
       "      <td>POST-OP</td>\n",
       "      <td>2022-06-19 22:00:00</td>\n",
       "      <td>190</td>\n",
       "      <td>NaN</td>\n",
       "    </tr>\n",
       "    <tr>\n",
       "      <th>3</th>\n",
       "      <td>3</td>\n",
       "      <td>3f2d16b040fa428a</td>\n",
       "      <td>c3dee9dfd0e95624</td>\n",
       "      <td>Custom Formula Data</td>\n",
       "      <td>Max Systolic</td>\n",
       "      <td>POST-OP</td>\n",
       "      <td>2022-06-19 22:00:00</td>\n",
       "      <td>190</td>\n",
       "      <td>NaN</td>\n",
       "    </tr>\n",
       "    <tr>\n",
       "      <th>4</th>\n",
       "      <td>4</td>\n",
       "      <td>dd8942d78b31db37</td>\n",
       "      <td>6045da125483b436</td>\n",
       "      <td>Vital Signs</td>\n",
       "      <td>Pulse</td>\n",
       "      <td>PRE-OP</td>\n",
       "      <td>2022-08-07 01:00:00</td>\n",
       "      <td>111</td>\n",
       "      <td>NaN</td>\n",
       "    </tr>\n",
       "    <tr>\n",
       "      <th>...</th>\n",
       "      <td>...</td>\n",
       "      <td>...</td>\n",
       "      <td>...</td>\n",
       "      <td>...</td>\n",
       "      <td>...</td>\n",
       "      <td>...</td>\n",
       "      <td>...</td>\n",
       "      <td>...</td>\n",
       "      <td>...</td>\n",
       "    </tr>\n",
       "    <tr>\n",
       "      <th>9999995</th>\n",
       "      <td>9999995</td>\n",
       "      <td>285eae2a5ba03f69</td>\n",
       "      <td>d55c0558742e6803</td>\n",
       "      <td>Devices Testing Template</td>\n",
       "      <td>SpO2</td>\n",
       "      <td>INTRA-OP</td>\n",
       "      <td>2022-03-13 10:56:00</td>\n",
       "      <td>91</td>\n",
       "      <td>%</td>\n",
       "    </tr>\n",
       "    <tr>\n",
       "      <th>9999996</th>\n",
       "      <td>9999996</td>\n",
       "      <td>38dc35cc5a61dd1f</td>\n",
       "      <td>d55c0558742e6803</td>\n",
       "      <td>Devices Testing Template</td>\n",
       "      <td>FIN20 (%)</td>\n",
       "      <td>PRE-OP</td>\n",
       "      <td>2022-03-13 10:57:00</td>\n",
       "      <td>0</td>\n",
       "      <td>%</td>\n",
       "    </tr>\n",
       "    <tr>\n",
       "      <th>9999997</th>\n",
       "      <td>9999997</td>\n",
       "      <td>7e1765fcf298de75</td>\n",
       "      <td>d55c0558742e6803</td>\n",
       "      <td>Devices Testing Template</td>\n",
       "      <td>FIN20 (%)</td>\n",
       "      <td>NaN</td>\n",
       "      <td>2022-03-13 10:57:00</td>\n",
       "      <td>0</td>\n",
       "      <td>%</td>\n",
       "    </tr>\n",
       "    <tr>\n",
       "      <th>9999998</th>\n",
       "      <td>9999998</td>\n",
       "      <td>92e85d09c206ff42</td>\n",
       "      <td>d55c0558742e6803</td>\n",
       "      <td>Devices Testing Template</td>\n",
       "      <td>FIN20 (%)</td>\n",
       "      <td>NaN</td>\n",
       "      <td>2022-03-13 10:57:00</td>\n",
       "      <td>0</td>\n",
       "      <td>%</td>\n",
       "    </tr>\n",
       "    <tr>\n",
       "      <th>9999999</th>\n",
       "      <td>9999999</td>\n",
       "      <td>285eae2a5ba03f69</td>\n",
       "      <td>d55c0558742e6803</td>\n",
       "      <td>Devices Testing Template</td>\n",
       "      <td>FIN20 (%)</td>\n",
       "      <td>INTRA-OP</td>\n",
       "      <td>2022-03-13 10:57:00</td>\n",
       "      <td>0</td>\n",
       "      <td>%</td>\n",
       "    </tr>\n",
       "  </tbody>\n",
       "</table>\n",
       "<p>10000000 rows × 9 columns</p>\n",
       "</div>"
      ],
      "text/plain": [
       "         Unnamed: 0            LOG_ID               MRN  \\\n",
       "0                 0  15122d530a21682d  c3dee9dfd0e95624   \n",
       "1                 1  8aee4c0cae861c47  c3dee9dfd0e95624   \n",
       "2                 2  d4b6aae9eab8f1fb  c3dee9dfd0e95624   \n",
       "3                 3  3f2d16b040fa428a  c3dee9dfd0e95624   \n",
       "4                 4  dd8942d78b31db37  6045da125483b436   \n",
       "...             ...               ...               ...   \n",
       "9999995     9999995  285eae2a5ba03f69  d55c0558742e6803   \n",
       "9999996     9999996  38dc35cc5a61dd1f  d55c0558742e6803   \n",
       "9999997     9999997  7e1765fcf298de75  d55c0558742e6803   \n",
       "9999998     9999998  92e85d09c206ff42  d55c0558742e6803   \n",
       "9999999     9999999  285eae2a5ba03f69  d55c0558742e6803   \n",
       "\n",
       "                         FLO_NAME FLO_DISPLAY_NAME RECORD_TYPE  \\\n",
       "0             Custom Formula Data    Max Systolic       PRE-OP   \n",
       "1             Custom Formula Data    Max Systolic      POST-OP   \n",
       "2             Custom Formula Data    Max Systolic      POST-OP   \n",
       "3             Custom Formula Data    Max Systolic      POST-OP   \n",
       "4                    Vital Signs             Pulse      PRE-OP   \n",
       "...                           ...              ...         ...   \n",
       "9999995  Devices Testing Template             SpO2    INTRA-OP   \n",
       "9999996  Devices Testing Template        FIN20 (%)      PRE-OP   \n",
       "9999997  Devices Testing Template        FIN20 (%)         NaN   \n",
       "9999998  Devices Testing Template        FIN20 (%)         NaN   \n",
       "9999999  Devices Testing Template        FIN20 (%)    INTRA-OP   \n",
       "\n",
       "               RECORDED_TIME MEAS_VALUE UNITS  \n",
       "0        2022-06-19 22:00:00        190   NaN  \n",
       "1        2022-06-19 22:00:00        190   NaN  \n",
       "2        2022-06-19 22:00:00        190   NaN  \n",
       "3        2022-06-19 22:00:00        190   NaN  \n",
       "4        2022-08-07 01:00:00        111   NaN  \n",
       "...                      ...        ...   ...  \n",
       "9999995  2022-03-13 10:56:00         91     %  \n",
       "9999996  2022-03-13 10:57:00          0     %  \n",
       "9999997  2022-03-13 10:57:00          0     %  \n",
       "9999998  2022-03-13 10:57:00          0     %  \n",
       "9999999  2022-03-13 10:57:00          0     %  \n",
       "\n",
       "[10000000 rows x 9 columns]"
      ]
     },
     "execution_count": 7,
     "metadata": {},
     "output_type": "execute_result"
    }
   ],
   "source": [
    "df"
   ]
  },
  {
   "cell_type": "code",
   "execution_count": 8,
   "id": "370dec6e",
   "metadata": {},
   "outputs": [
    {
     "data": {
      "text/plain": [
       "array(['Custom Formula Data', 'Vital Signs ', 'Devices Testing Template',\n",
       "       'Data', 'Patient Position', 'Anesthesia Attestation Comments',\n",
       "       'Anesthesia Agents', 'CCP Vital Signs ', 'Intake/Output',\n",
       "       'Drip Titration', 'Procedures', 'ECMO', 'General Respiratory',\n",
       "       'Invasive', 'Blood Administration', 'ED Vitals',\n",
       "       'Glycemic Control - POCT', 'ED Tech Vitals', 'Debriefing',\n",
       "       'Head to Toe Assessment', 'Vitals/Screening', 'IV Assessment',\n",
       "       'Trauma Arrival/Mode/Vitals', 'Pain Screening',\n",
       "       'Complication/Disposition', 'LDA', 'Verification',\n",
       "       'Extubation Assessment', 'OR Intake and Output',\n",
       "       'Anesthesia Checklist', 'Respiratory', 'CCP Intake/Output',\n",
       "       'IP Nutrition', 'Dialysis Vitals and Treatment', 'Pain Mgmt',\n",
       "       'Vitals', 'Other Assessments', 'Anesthesia Monitoring',\n",
       "       'Ischemic Stroke Alteplase (tPA)', 'Recovery Documentation',\n",
       "       'Pulmonary', 'Non-Invasive', 'Dialysis Pre-Treatment',\n",
       "       'Dialysis Post-Treatment', 'Pre Procedure Documentation',\n",
       "       'Peritoneal Dialysis', 'Line/Drains/Airways', 'Transport',\n",
       "       'OSA STOP\" QUESTIONNAIRE\"', 'Objective Data', 'Neuro',\n",
       "       'Height/Weight', 'Resp Review ', 'Neuro Assess', 'Vital Signs',\n",
       "       'BP/Pulse', 'NICU Vitals', 'RN Assessment', 'Vital Signs/Intake',\n",
       "       'Encounter Vitals', 'Intake', 'BH Vital Signs/Daily Care',\n",
       "       'O2 Device/Airway', 'Code Vitals', 'Renal/GU', 'UCSD Code Blue',\n",
       "       'OB Intake/Output', 'BH Head to Toe Assessment', 'Ante / Labor',\n",
       "       'Moderate Sedation', 'NICU RT', 'Assessment ', 'Quick Vitals',\n",
       "       'Cardiac', 'Code Vital Signs'], dtype=object)"
      ]
     },
     "execution_count": 8,
     "metadata": {},
     "output_type": "execute_result"
    }
   ],
   "source": [
    "df['FLO_NAME'].unique()"
   ]
  },
  {
   "cell_type": "code",
   "execution_count": 9,
   "id": "69645525",
   "metadata": {},
   "outputs": [
    {
     "data": {
      "text/plain": [
       "array(['Max Systolic ', 'Pulse', 'BP Location', 'ETO2', 'FICO2',\n",
       "       'ETCO2 (mmHg)', 'Air', 'Expired Min Volume (MV)', 'Heart Rate',\n",
       "       'PAWP', 'BP-ART A-line', 'SEV In', 'Exhaled TV (ml)', 'ETN2O',\n",
       "       'PIP Observed', 'Set PEEP', 'Resp', 'SEV ET', 'Temp', 'SET TV',\n",
       "       'FIN20 (%)', 'FiO2 (%)', 'SpO2', 'O2 Flow Rate (L/min)', 'ETCO2RR',\n",
       "       'MAP-ART A-line', 'Size (mm)', 'Set Resp Rate', 'NIBP',\n",
       "       'Head/Neck', 'Eyes', 'Size', 'PIV Location', 'NIBP - MAP',\n",
       "       'Attestation comments', 'ISO ET', 'Min Diastolic', 'Volume',\n",
       "       'Arterial Line BP (ART)', 'BP', 'Temp source', 'Min Systolic ',\n",
       "       'Max Diastolic', 'MAP (mmHg)', 'O2 Device', 'Cardiac Rhythm',\n",
       "       'Pain Score', 'POC Glucose (mg/dL)',\n",
       "       'Is this a Neuro Surgery case?', 'Bite Block Secure',\n",
       "       'Observations', 'BMI (Calculated)', 'BSA m2',\n",
       "       'BSA (Calculated - sq m)', 'BMI kg/m2', 'Arterial Line MAP (ART)',\n",
       "       'Urine', 'Disposition', 'Direct Admit to OR', 'Airway Device',\n",
       "       'Extubation Event', 'Nitrous Oxide', 'DES ET', 'QBL', 'Padding',\n",
       "       'Patient Position', 'Active warming device', 'NIBP Site', 'EKG',\n",
       "       'TOF (x / 4)', 'Laryngoscopy View Grade', 'ETCO2', 'Vent Mode',\n",
       "       'ISO In', 'Other Output (Comment)', 'Urine Output', 'Height',\n",
       "       'Arms', 'Position Checks', 'Breath Sounds Left',\n",
       "       'Laryngoscopy Technique', 'Direct Trauma Admit to OR',\n",
       "       'Temp Source', 'Heart Sounds', 'Breath Sounds Right',\n",
       "       'OR COMPLICATIONS', 'DES In',\n",
       "       'Have you ever been treated for high blood pressure?',\n",
       "       'Do you use a CPAP at home?', 'Weight', 'Additional Equipment',\n",
       "       'BIS', 'Ease of Ventilation',\n",
       "       'Has a physician diagnosed you with sleep apnea?',\n",
       "       'Extubation Assessment', 'Table Position',\n",
       "       'GI Only: Location of procedure', 'Comment', 'Heart Rate Source',\n",
       "       'Additional Intake', 'Fluid Warmer', 'Temp src'], dtype=object)"
      ]
     },
     "execution_count": 9,
     "metadata": {},
     "output_type": "execute_result"
    }
   ],
   "source": [
    "df['FLO_DISPLAY_NAME'].unique()"
   ]
  },
  {
   "cell_type": "code",
   "execution_count": 10,
   "id": "c2007ac9",
   "metadata": {},
   "outputs": [
    {
     "data": {
      "text/plain": [
       "array(['PRE-OP', 'POST-OP', nan, 'INTRA-OP'], dtype=object)"
      ]
     },
     "execution_count": 10,
     "metadata": {},
     "output_type": "execute_result"
    }
   ],
   "source": [
    "df['RECORD_TYPE'].unique()"
   ]
  },
  {
   "cell_type": "code",
   "execution_count": 11,
   "id": "07f59e21",
   "metadata": {},
   "outputs": [],
   "source": [
    "df_map = df[df['FLO_DISPLAY_NAME'] == 'MAP (mmHg)']\n",
    "df_map = df_map[df_map['RECORD_TYPE'] == 'POST-OP']"
   ]
  },
  {
   "cell_type": "code",
   "execution_count": 12,
   "id": "75c96169",
   "metadata": {},
   "outputs": [
    {
     "data": {
      "text/html": [
       "<div>\n",
       "<style scoped>\n",
       "    .dataframe tbody tr th:only-of-type {\n",
       "        vertical-align: middle;\n",
       "    }\n",
       "\n",
       "    .dataframe tbody tr th {\n",
       "        vertical-align: top;\n",
       "    }\n",
       "\n",
       "    .dataframe thead th {\n",
       "        text-align: right;\n",
       "    }\n",
       "</style>\n",
       "<table border=\"1\" class=\"dataframe\">\n",
       "  <thead>\n",
       "    <tr style=\"text-align: right;\">\n",
       "      <th></th>\n",
       "      <th>Unnamed: 0</th>\n",
       "      <th>LOG_ID</th>\n",
       "      <th>MRN</th>\n",
       "      <th>FLO_NAME</th>\n",
       "      <th>FLO_DISPLAY_NAME</th>\n",
       "      <th>RECORD_TYPE</th>\n",
       "      <th>RECORDED_TIME</th>\n",
       "      <th>MEAS_VALUE</th>\n",
       "      <th>UNITS</th>\n",
       "    </tr>\n",
       "  </thead>\n",
       "  <tbody>\n",
       "    <tr>\n",
       "      <th>8954</th>\n",
       "      <td>8954</td>\n",
       "      <td>f7585087d8f8f889</td>\n",
       "      <td>3b29292c7b3bba21</td>\n",
       "      <td>Vital Signs</td>\n",
       "      <td>MAP (mmHg)</td>\n",
       "      <td>POST-OP</td>\n",
       "      <td>2020-12-12 14:45:00</td>\n",
       "      <td>86</td>\n",
       "      <td>NaN</td>\n",
       "    </tr>\n",
       "    <tr>\n",
       "      <th>8955</th>\n",
       "      <td>8955</td>\n",
       "      <td>f7585087d8f8f889</td>\n",
       "      <td>3b29292c7b3bba21</td>\n",
       "      <td>Vital Signs</td>\n",
       "      <td>MAP (mmHg)</td>\n",
       "      <td>POST-OP</td>\n",
       "      <td>2020-12-12 14:45:00</td>\n",
       "      <td>86</td>\n",
       "      <td>NaN</td>\n",
       "    </tr>\n",
       "    <tr>\n",
       "      <th>8958</th>\n",
       "      <td>8958</td>\n",
       "      <td>f7585087d8f8f889</td>\n",
       "      <td>3b29292c7b3bba21</td>\n",
       "      <td>Vital Signs</td>\n",
       "      <td>MAP (mmHg)</td>\n",
       "      <td>POST-OP</td>\n",
       "      <td>2020-12-12 14:46:00</td>\n",
       "      <td>86</td>\n",
       "      <td>NaN</td>\n",
       "    </tr>\n",
       "    <tr>\n",
       "      <th>8959</th>\n",
       "      <td>8959</td>\n",
       "      <td>f7585087d8f8f889</td>\n",
       "      <td>3b29292c7b3bba21</td>\n",
       "      <td>Vital Signs</td>\n",
       "      <td>MAP (mmHg)</td>\n",
       "      <td>POST-OP</td>\n",
       "      <td>2020-12-12 14:46:00</td>\n",
       "      <td>86</td>\n",
       "      <td>NaN</td>\n",
       "    </tr>\n",
       "    <tr>\n",
       "      <th>8962</th>\n",
       "      <td>8962</td>\n",
       "      <td>f7585087d8f8f889</td>\n",
       "      <td>3b29292c7b3bba21</td>\n",
       "      <td>Vital Signs</td>\n",
       "      <td>MAP (mmHg)</td>\n",
       "      <td>POST-OP</td>\n",
       "      <td>2020-12-12 14:50:00</td>\n",
       "      <td>90</td>\n",
       "      <td>NaN</td>\n",
       "    </tr>\n",
       "    <tr>\n",
       "      <th>...</th>\n",
       "      <td>...</td>\n",
       "      <td>...</td>\n",
       "      <td>...</td>\n",
       "      <td>...</td>\n",
       "      <td>...</td>\n",
       "      <td>...</td>\n",
       "      <td>...</td>\n",
       "      <td>...</td>\n",
       "      <td>...</td>\n",
       "    </tr>\n",
       "    <tr>\n",
       "      <th>9998193</th>\n",
       "      <td>9998193</td>\n",
       "      <td>c8467dd645b6fa20</td>\n",
       "      <td>e697a97ce1b753fd</td>\n",
       "      <td>Vital Signs</td>\n",
       "      <td>MAP (mmHg)</td>\n",
       "      <td>POST-OP</td>\n",
       "      <td>2021-02-18 00:00:00</td>\n",
       "      <td>108</td>\n",
       "      <td>NaN</td>\n",
       "    </tr>\n",
       "    <tr>\n",
       "      <th>9998194</th>\n",
       "      <td>9998194</td>\n",
       "      <td>1070dddf443b1eaa</td>\n",
       "      <td>e697a97ce1b753fd</td>\n",
       "      <td>Vital Signs</td>\n",
       "      <td>MAP (mmHg)</td>\n",
       "      <td>POST-OP</td>\n",
       "      <td>2021-02-18 00:00:00</td>\n",
       "      <td>108</td>\n",
       "      <td>NaN</td>\n",
       "    </tr>\n",
       "    <tr>\n",
       "      <th>9998195</th>\n",
       "      <td>9998195</td>\n",
       "      <td>981dc702f90f97f6</td>\n",
       "      <td>e697a97ce1b753fd</td>\n",
       "      <td>Vital Signs</td>\n",
       "      <td>MAP (mmHg)</td>\n",
       "      <td>POST-OP</td>\n",
       "      <td>2021-02-18 00:00:00</td>\n",
       "      <td>108</td>\n",
       "      <td>NaN</td>\n",
       "    </tr>\n",
       "    <tr>\n",
       "      <th>9998196</th>\n",
       "      <td>9998196</td>\n",
       "      <td>9a0dfa99005a790d</td>\n",
       "      <td>e697a97ce1b753fd</td>\n",
       "      <td>Vital Signs</td>\n",
       "      <td>MAP (mmHg)</td>\n",
       "      <td>POST-OP</td>\n",
       "      <td>2021-02-18 00:00:00</td>\n",
       "      <td>108</td>\n",
       "      <td>NaN</td>\n",
       "    </tr>\n",
       "    <tr>\n",
       "      <th>9998197</th>\n",
       "      <td>9998197</td>\n",
       "      <td>532015e787901fa4</td>\n",
       "      <td>e697a97ce1b753fd</td>\n",
       "      <td>Vital Signs</td>\n",
       "      <td>MAP (mmHg)</td>\n",
       "      <td>POST-OP</td>\n",
       "      <td>2021-02-18 00:00:00</td>\n",
       "      <td>108</td>\n",
       "      <td>NaN</td>\n",
       "    </tr>\n",
       "  </tbody>\n",
       "</table>\n",
       "<p>181709 rows × 9 columns</p>\n",
       "</div>"
      ],
      "text/plain": [
       "         Unnamed: 0            LOG_ID               MRN      FLO_NAME  \\\n",
       "8954           8954  f7585087d8f8f889  3b29292c7b3bba21  Vital Signs    \n",
       "8955           8955  f7585087d8f8f889  3b29292c7b3bba21  Vital Signs    \n",
       "8958           8958  f7585087d8f8f889  3b29292c7b3bba21  Vital Signs    \n",
       "8959           8959  f7585087d8f8f889  3b29292c7b3bba21  Vital Signs    \n",
       "8962           8962  f7585087d8f8f889  3b29292c7b3bba21  Vital Signs    \n",
       "...             ...               ...               ...           ...   \n",
       "9998193     9998193  c8467dd645b6fa20  e697a97ce1b753fd  Vital Signs    \n",
       "9998194     9998194  1070dddf443b1eaa  e697a97ce1b753fd  Vital Signs    \n",
       "9998195     9998195  981dc702f90f97f6  e697a97ce1b753fd  Vital Signs    \n",
       "9998196     9998196  9a0dfa99005a790d  e697a97ce1b753fd  Vital Signs    \n",
       "9998197     9998197  532015e787901fa4  e697a97ce1b753fd  Vital Signs    \n",
       "\n",
       "        FLO_DISPLAY_NAME RECORD_TYPE        RECORDED_TIME MEAS_VALUE UNITS  \n",
       "8954          MAP (mmHg)     POST-OP  2020-12-12 14:45:00         86   NaN  \n",
       "8955          MAP (mmHg)     POST-OP  2020-12-12 14:45:00         86   NaN  \n",
       "8958          MAP (mmHg)     POST-OP  2020-12-12 14:46:00         86   NaN  \n",
       "8959          MAP (mmHg)     POST-OP  2020-12-12 14:46:00         86   NaN  \n",
       "8962          MAP (mmHg)     POST-OP  2020-12-12 14:50:00         90   NaN  \n",
       "...                  ...         ...                  ...        ...   ...  \n",
       "9998193       MAP (mmHg)     POST-OP  2021-02-18 00:00:00        108   NaN  \n",
       "9998194       MAP (mmHg)     POST-OP  2021-02-18 00:00:00        108   NaN  \n",
       "9998195       MAP (mmHg)     POST-OP  2021-02-18 00:00:00        108   NaN  \n",
       "9998196       MAP (mmHg)     POST-OP  2021-02-18 00:00:00        108   NaN  \n",
       "9998197       MAP (mmHg)     POST-OP  2021-02-18 00:00:00        108   NaN  \n",
       "\n",
       "[181709 rows x 9 columns]"
      ]
     },
     "execution_count": 12,
     "metadata": {},
     "output_type": "execute_result"
    }
   ],
   "source": [
    "df_map"
   ]
  },
  {
   "cell_type": "code",
   "execution_count": 13,
   "id": "5c86fd9a",
   "metadata": {},
   "outputs": [
    {
     "data": {
      "text/plain": [
       "1921"
      ]
     },
     "execution_count": 13,
     "metadata": {},
     "output_type": "execute_result"
    }
   ],
   "source": [
    "df_map['MRN'].nunique()"
   ]
  },
  {
   "cell_type": "code",
   "execution_count": 14,
   "id": "46b11000",
   "metadata": {},
   "outputs": [
    {
     "data": {
      "text/plain": [
       "3332"
      ]
     },
     "execution_count": 14,
     "metadata": {},
     "output_type": "execute_result"
    }
   ],
   "source": [
    "df_map['LOG_ID'].nunique()"
   ]
  },
  {
   "cell_type": "code",
   "execution_count": null,
   "id": "d021e00b",
   "metadata": {},
   "outputs": [],
   "source": []
  }
 ],
 "metadata": {
  "kernelspec": {
   "display_name": "Python 3 (ipykernel)",
   "language": "python",
   "name": "python3"
  },
  "language_info": {
   "codemirror_mode": {
    "name": "ipython",
    "version": 3
   },
   "file_extension": ".py",
   "mimetype": "text/x-python",
   "name": "python",
   "nbconvert_exporter": "python",
   "pygments_lexer": "ipython3",
   "version": "3.9.0"
  }
 },
 "nbformat": 4,
 "nbformat_minor": 5
}
